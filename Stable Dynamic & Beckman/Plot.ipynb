{
 "cells": [
  {
   "cell_type": "code",
   "execution_count": 5,
   "metadata": {},
   "outputs": [],
   "source": [
    "import numpy as np\n",
    "import matplotlib.pyplot as plt\n",
    "\n",
    "%matplotlib inline"
   ]
  },
  {
   "cell_type": "code",
   "execution_count": 6,
   "metadata": {},
   "outputs": [],
   "source": [
    "multi_root = 'KEV_res/multi/'# mu =0.0/'\n",
    "iter_root = 'KEV_res/iter/' #mu =0.0/'\n",
    "\n",
    "flows = 'flows/'\n",
    "corrs = 'corr_matrix/'\n",
    "times = 'times/'\n",
    "subgs = 'subg/'\n",
    "inverses = 'inverse_func/'"
   ]
  },
  {
   "cell_type": "code",
   "execution_count": 7,
   "metadata": {},
   "outputs": [],
   "source": [
    "n = 5000\n",
    "mu = 0.25\n",
    "\n",
    "f = []\n",
    "c = []\n",
    "t = []\n",
    "f_n_k = []\n",
    "c_n_k = []\n",
    "t_n_k = []\n",
    "inv = []\n",
    "sbg = []\n",
    "\n",
    "flow_n = np.loadtxt(multi_root + flows + str(n-1) + '_flows.txt', \n",
    "                          delimiter = ' ')\n",
    "time_n = np.loadtxt(multi_root + times + str(n-1) + '_time.txt', \n",
    "                          delimiter = ' ')\n",
    "c_n = np.loadtxt(multi_root + corrs + str(n-1) + '_corr_matrix.txt', \n",
    "                          delimiter = ' ')\n",
    "subg_n = np.loadtxt(multi_root + subgs + str(n-1) + '_nabla_func.txt', \n",
    "                          delimiter = ' ')\n",
    "inverse_n = np.loadtxt(multi_root + inverses + str(n-1) + '_inverse_func.txt', \n",
    "                          delimiter = ' ')"
   ]
  },
  {
   "cell_type": "markdown",
   "metadata": {},
   "source": [
    "#### MULTI"
   ]
  },
  {
   "cell_type": "code",
   "execution_count": 9,
   "metadata": {},
   "outputs": [],
   "source": [
    "for ms_i in range(n):\n",
    "    if ms_i == 0:\n",
    "        flow_0 = np.loadtxt(multi_root + flows + str(ms_i) + '_flows.txt', \n",
    "                          delimiter = ' ')\n",
    "        time_0 = np.loadtxt(multi_root + times + str(ms_i) + '_time.txt', \n",
    "                          delimiter = ' ')\n",
    "        corr_0 = np.loadtxt(multi_root + corrs + str(ms_i) + '_corr_matrix.txt', \n",
    "                          delimiter = ' ')\n",
    "        subg_0 = np.loadtxt(multi_root + subgs + str(ms_i) + '_nabla_func.txt', \n",
    "                          delimiter = ' ')\n",
    "        inverse_0 = np.loadtxt(multi_root + inverses + str(ms_i) + '_inverse_func.txt', \n",
    "                          delimiter = ' ')\n",
    "        \n",
    "        f_n_k.append(np.linalg.norm(flow_n - flow_0))\n",
    "        t_n_k.append(np.linalg.norm(time_n - time_0))\n",
    "        c_n_k.append(np.linalg.norm(c_n - corr_0))\n",
    "    else:\n",
    "        flow = np.loadtxt(multi_root + flows + str(ms_i) + '_flows.txt', \n",
    "                          delimiter = ' ')\n",
    "        time = np.loadtxt(multi_root + times + str(ms_i) + '_time.txt', \n",
    "                          delimiter = ' ')\n",
    "        corr = np.loadtxt(multi_root + corrs + str(ms_i) + '_corr_matrix.txt', \n",
    "                          delimiter = ' ')\n",
    "        subg = np.loadtxt(multi_root + subgs + str(ms_i) + '_nabla_func.txt', \n",
    "                          delimiter = ' ')\n",
    "        inverse = np.loadtxt(multi_root + inverses + str(ms_i) + '_inverse_func.txt', \n",
    "                          delimiter = ' ')\n",
    "        \n",
    "        inv.append(inverse)\n",
    "        sbg.append(subg)\n",
    "        t.append(time)\n",
    "        \n",
    "        f.append(np.linalg.norm(flow - flow_0))\n",
    "#         t.append(np.linalg.norm(time - time_0))\n",
    "        c.append(np.linalg.norm(corr - corr_0))\n",
    "        \n",
    "        flow_0 = flow\n",
    "        time_0 = time\n",
    "        corr_0 = corr\n",
    "        \n",
    "        f_n_k.append(np.linalg.norm(flow_n - flow_0))\n",
    "        t_n_k.append(np.linalg.norm(time_n - time_0))\n",
    "        c_n_k.append(np.linalg.norm(c_n - corr_0))"
   ]
  },
  {
   "cell_type": "code",
   "execution_count": 12,
   "metadata": {},
   "outputs": [
    {
     "data": {
      "text/plain": [
       "(76,)"
      ]
     },
     "execution_count": 12,
     "metadata": {},
     "output_type": "execute_result"
    }
   ],
   "source": [
    "np.shape(t[0])"
   ]
  },
  {
   "cell_type": "raw",
   "metadata": {},
   "source": [
    "sbg"
   ]
  },
  {
   "cell_type": "raw",
   "metadata": {},
   "source": [
    "w = 8\n",
    "h = 6\n",
    "plt.figure(figsize=(w, h))\n",
    "# plt.ylim(0, 50)\n",
    "# plt.xlim(0, 250)\n",
    "plt.plot(f, 'o', color='green')\n",
    "plt.title('mu =' + str(mu) + ', ' + 'flow_{k} - flow_{k-1}')\n",
    "plt.savefig(multi_root + 'flow_{k} - flow_{k-1}.png')"
   ]
  },
  {
   "cell_type": "raw",
   "metadata": {},
   "source": [
    "w = 8\n",
    "h = 6\n",
    "plt.figure(figsize=(w, h))\n",
    "# plt.xlim(0, 2050)\n",
    "plt.plot(f_n_k, 'o', color='blue')\n",
    "plt.title('mu =' + str(mu) + ', ' + 'flow_{n} - flow_{k}')\n",
    "plt.savefig(multi_root + 'flow_{n} - flow_{k}.png')"
   ]
  },
  {
   "cell_type": "raw",
   "metadata": {},
   "source": [
    "w = 8\n",
    "h = 6\n",
    "plt.figure(figsize=(w, h))\n",
    "plt.xlim(-500, 4999)\n",
    "# plt.ylim(0.01, 0.05)\n",
    "plt.plot(t, 'o', color='red')\n",
    "plt.title('mu =' + str(mu) + ', ' + 'time_{k} - time_{k-1}')\n",
    "plt.savefig(multi_root + 'time_{k} - time_{k-1}.png')"
   ]
  },
  {
   "cell_type": "raw",
   "metadata": {},
   "source": [
    "w = 8\n",
    "h = 6\n",
    "plt.figure(figsize=(w, h))\n",
    "# plt.ylim(117937, 117923)\n",
    "# plt.ylim(0, 1)\n",
    "plt.plot(t_n_k, 'o', color='pink')\n",
    "plt.title('mu =' + str(mu) + ', ' + 'time_{n} - time_{k}')\n",
    "plt.savefig(multi_root + 'time_{n} - time_{k}.png')"
   ]
  },
  {
   "cell_type": "raw",
   "metadata": {},
   "source": [
    "w = 8\n",
    "h = 6\n",
    "plt.figure(figsize=(w, h))\n",
    "# plt.ylim(0, 2)\n",
    "# plt.ylim(67000, 62500)\n",
    "plt.plot(c, 'o', color='cyan')\n",
    "plt.title('mu =' + str(mu) + ', ' + 'corr_{k} - corr_{k-1}')\n",
    "plt.savefig(multi_root + 'corr_{k} - corr_{k-1}.png')"
   ]
  },
  {
   "cell_type": "raw",
   "metadata": {},
   "source": [
    "w = 8\n",
    "h = 6\n",
    "plt.figure(figsize=(w, h))\n",
    "# plt.ylim(117937, 117923)\n",
    "# plt.ylim(0, 200)\n",
    "plt.plot(c_n_k, 'o', color='magenta')\n",
    "plt.title('mu =' + str(mu) + ', ' + 'corr_{n} - corr_{k}')\n",
    "plt.savefig(multi_root + 'corr_{n} - corr_{k}.png')"
   ]
  },
  {
   "cell_type": "markdown",
   "metadata": {},
   "source": [
    "##### Критерий\n",
    "\n",
    "1) $\\| \\nabla f(t^k) \\|_2 * 2\\|t^0 - t^k\\|_2 $\n",
    "\n",
    "2) $2\\|t^0 - t^k\\|_2$\n",
    "\n",
    "можно брать $5\\|t^0\\|_2$ вместо выражения 2)"
   ]
  },
  {
   "cell_type": "code",
   "execution_count": 16,
   "metadata": {},
   "outputs": [],
   "source": [
    "t_0 = np.loadtxt(multi_root + times + '0_time.txt', \n",
    "                          delimiter = ' ')\n",
    "def criteria(inv, sbg, t, t_0):\n",
    "    f = sbg + inv\n",
    "    print(t, t_0)\n",
    "    return np.max(f, t - t_0)"
   ]
  },
  {
   "cell_type": "code",
   "execution_count": 17,
   "metadata": {},
   "outputs": [
    {
     "name": "stdout",
     "output_type": "stream",
     "text": [
      "[0.00022082 0.00087195 0.00022194 0.00280961 0.00086997 0.00291147\n",
      " 0.00153539 0.00290804 0.00508915 0.00395017 0.00512556 0.0060394\n",
      " 0.00231351 0.00281287 0.00607214 0.00950289 0.00419548 0.00472189\n",
      " 0.00953921 0.00417568 0.00014472 0.00795155 0.00232121 0.00014295\n",
      " 0.00705121 0.00710836 0.00972413 0.00462863 0.01430119 0.\n",
      " 0.00395939 0.00969508 0.00571541 0.00971271 0.00153587 0.00570391\n",
      " 0.00317845 0.0032126  0.00617738 0.0097592  0.00539345 0.00513175\n",
      " 0.00462979 0.0054282  0.01114483 0.01111223 0.00796962 0.01433588\n",
      " 0.01505398 0.00395735 0.         0.01506262 0.01303542 0.00473902\n",
      " 0.00399458 0.00470073 0.01115016 0.01304405 0.00202643 0.004709\n",
      " 0.00203999 0.0024289  0.00287753 0.00241045 0.00672104 0.00777259\n",
      " 0.01108854 0.00286595 0.00674296 0.00460667 0.00514284 0.0045928\n",
      " 0.00203516 0.00616667 0.00773137 0.00203247] [ 6.00022081  4.00087184  6.00022194  5.00280958  4.00086986  4.00207889\n",
      "  4.00226825  4.00260329  2.0046046   6.00280404  2.00498295  4.00548793\n",
      "  5.00231335  5.00281284  4.00591186  2.00910806  3.00419509  2.00485303\n",
      "  2.00953828  3.00432887 10.00014469  5.00795154  5.00232105 10.00014292\n",
      "  3.00704986  3.00710701  5.00902307  6.00586749  4.01486262  8.\n",
      "  6.00305761  5.00894067  6.00607726  4.00822198  4.00179229  6.00670995\n",
      "  3.0031776   3.00321171  4.00617713  4.00781896  5.00539341  4.00366923\n",
      "  6.00586868  5.00657531  3.01114296  3.01241461  5.00852635  4.01495255\n",
      "  2.01505246  3.0039566   8.          2.01506116  2.01303448  2.00473691\n",
      "  3.00451563  4.00483738  3.01056361  2.01304317  4.00202632  4.00523128\n",
      "  4.0014656   6.0024288   5.00303391  6.00241035  2.00672053  3.0077722\n",
      "  3.01413387  5.00286578  2.00674241  4.00433245  4.0021288   4.0059028\n",
      "  2.00203487  4.0061664   3.00773102  2.00203218]\n"
     ]
    },
    {
     "ename": "TypeError",
     "evalue": "only integer scalar arrays can be converted to a scalar index",
     "output_type": "error",
     "traceback": [
      "\u001b[0;31m---------------------------------------------------------------------------\u001b[0m",
      "\u001b[0;31mTypeError\u001b[0m                                 Traceback (most recent call last)",
      "\u001b[0;32m<ipython-input-17-5b38f1e18943>\u001b[0m in \u001b[0;36m<module>\u001b[0;34m\u001b[0m\n\u001b[1;32m      1\u001b[0m \u001b[0mcrit\u001b[0m \u001b[0;34m=\u001b[0m \u001b[0;34m[\u001b[0m\u001b[0;34m]\u001b[0m\u001b[0;34m\u001b[0m\u001b[0;34m\u001b[0m\u001b[0m\n\u001b[1;32m      2\u001b[0m \u001b[0;32mfor\u001b[0m \u001b[0mi\u001b[0m \u001b[0;32min\u001b[0m \u001b[0mrange\u001b[0m\u001b[0;34m(\u001b[0m\u001b[0mlen\u001b[0m\u001b[0;34m(\u001b[0m\u001b[0minv\u001b[0m\u001b[0;34m)\u001b[0m\u001b[0;34m)\u001b[0m\u001b[0;34m:\u001b[0m\u001b[0;34m\u001b[0m\u001b[0;34m\u001b[0m\u001b[0m\n\u001b[0;32m----> 3\u001b[0;31m     \u001b[0mcrit\u001b[0m\u001b[0;34m.\u001b[0m\u001b[0mappend\u001b[0m\u001b[0;34m(\u001b[0m\u001b[0mcriteria\u001b[0m\u001b[0;34m(\u001b[0m\u001b[0minv\u001b[0m\u001b[0;34m[\u001b[0m\u001b[0mi\u001b[0m\u001b[0;34m]\u001b[0m\u001b[0;34m,\u001b[0m \u001b[0msbg\u001b[0m\u001b[0;34m[\u001b[0m\u001b[0mi\u001b[0m\u001b[0;34m]\u001b[0m\u001b[0;34m,\u001b[0m \u001b[0mt\u001b[0m\u001b[0;34m[\u001b[0m\u001b[0mi\u001b[0m\u001b[0;34m]\u001b[0m\u001b[0;34m,\u001b[0m \u001b[0mt_0\u001b[0m\u001b[0;34m)\u001b[0m\u001b[0;34m)\u001b[0m\u001b[0;34m\u001b[0m\u001b[0;34m\u001b[0m\u001b[0m\n\u001b[0m",
      "\u001b[0;32m<ipython-input-16-d960e86f255f>\u001b[0m in \u001b[0;36mcriteria\u001b[0;34m(inv, sbg, t, t_0)\u001b[0m\n\u001b[1;32m      4\u001b[0m     \u001b[0mf\u001b[0m \u001b[0;34m=\u001b[0m \u001b[0msbg\u001b[0m \u001b[0;34m+\u001b[0m \u001b[0minv\u001b[0m\u001b[0;34m\u001b[0m\u001b[0;34m\u001b[0m\u001b[0m\n\u001b[1;32m      5\u001b[0m     \u001b[0mprint\u001b[0m\u001b[0;34m(\u001b[0m\u001b[0mt\u001b[0m\u001b[0;34m,\u001b[0m \u001b[0mt_0\u001b[0m\u001b[0;34m)\u001b[0m\u001b[0;34m\u001b[0m\u001b[0;34m\u001b[0m\u001b[0m\n\u001b[0;32m----> 6\u001b[0;31m     \u001b[0;32mreturn\u001b[0m \u001b[0mnp\u001b[0m\u001b[0;34m.\u001b[0m\u001b[0mmax\u001b[0m\u001b[0;34m(\u001b[0m\u001b[0mf\u001b[0m\u001b[0;34m,\u001b[0m \u001b[0mt\u001b[0m \u001b[0;34m-\u001b[0m \u001b[0mt_0\u001b[0m\u001b[0;34m)\u001b[0m\u001b[0;34m\u001b[0m\u001b[0;34m\u001b[0m\u001b[0m\n\u001b[0m",
      "\u001b[0;32m<__array_function__ internals>\u001b[0m in \u001b[0;36mamax\u001b[0;34m(*args, **kwargs)\u001b[0m\n",
      "\u001b[0;32m/usr/local/lib/python3.7/site-packages/numpy/core/fromnumeric.py\u001b[0m in \u001b[0;36mamax\u001b[0;34m(a, axis, out, keepdims, initial, where)\u001b[0m\n\u001b[1;32m   2666\u001b[0m     \"\"\"\n\u001b[1;32m   2667\u001b[0m     return _wrapreduction(a, np.maximum, 'max', axis, None, out,\n\u001b[0;32m-> 2668\u001b[0;31m                           keepdims=keepdims, initial=initial, where=where)\n\u001b[0m\u001b[1;32m   2669\u001b[0m \u001b[0;34m\u001b[0m\u001b[0m\n\u001b[1;32m   2670\u001b[0m \u001b[0;34m\u001b[0m\u001b[0m\n",
      "\u001b[0;32m/usr/local/lib/python3.7/site-packages/numpy/core/fromnumeric.py\u001b[0m in \u001b[0;36m_wrapreduction\u001b[0;34m(obj, ufunc, method, axis, dtype, out, **kwargs)\u001b[0m\n\u001b[1;32m     88\u001b[0m                 \u001b[0;32mreturn\u001b[0m \u001b[0mreduction\u001b[0m\u001b[0;34m(\u001b[0m\u001b[0maxis\u001b[0m\u001b[0;34m=\u001b[0m\u001b[0maxis\u001b[0m\u001b[0;34m,\u001b[0m \u001b[0mout\u001b[0m\u001b[0;34m=\u001b[0m\u001b[0mout\u001b[0m\u001b[0;34m,\u001b[0m \u001b[0;34m**\u001b[0m\u001b[0mpasskwargs\u001b[0m\u001b[0;34m)\u001b[0m\u001b[0;34m\u001b[0m\u001b[0;34m\u001b[0m\u001b[0m\n\u001b[1;32m     89\u001b[0m \u001b[0;34m\u001b[0m\u001b[0m\n\u001b[0;32m---> 90\u001b[0;31m     \u001b[0;32mreturn\u001b[0m \u001b[0mufunc\u001b[0m\u001b[0;34m.\u001b[0m\u001b[0mreduce\u001b[0m\u001b[0;34m(\u001b[0m\u001b[0mobj\u001b[0m\u001b[0;34m,\u001b[0m \u001b[0maxis\u001b[0m\u001b[0;34m,\u001b[0m \u001b[0mdtype\u001b[0m\u001b[0;34m,\u001b[0m \u001b[0mout\u001b[0m\u001b[0;34m,\u001b[0m \u001b[0;34m**\u001b[0m\u001b[0mpasskwargs\u001b[0m\u001b[0;34m)\u001b[0m\u001b[0;34m\u001b[0m\u001b[0;34m\u001b[0m\u001b[0m\n\u001b[0m\u001b[1;32m     91\u001b[0m \u001b[0;34m\u001b[0m\u001b[0m\n\u001b[1;32m     92\u001b[0m \u001b[0;34m\u001b[0m\u001b[0m\n",
      "\u001b[0;31mTypeError\u001b[0m: only integer scalar arrays can be converted to a scalar index"
     ]
    }
   ],
   "source": [
    "crit = []\n",
    "for i in range(len(inv)):\n",
    "    crit.append(criteria(inv[i], sbg[i], t[i], t_0))"
   ]
  },
  {
   "cell_type": "code",
   "execution_count": null,
   "metadata": {},
   "outputs": [],
   "source": [
    "crit[0]"
   ]
  },
  {
   "cell_type": "code",
   "execution_count": null,
   "metadata": {},
   "outputs": [],
   "source": [
    "w = 8\n",
    "h = 6\n",
    "plt.figure(figsize=(w, h))\n",
    "plt.plot(crit, 'o', color='magenta')"
   ]
  },
  {
   "cell_type": "code",
   "execution_count": null,
   "metadata": {},
   "outputs": [],
   "source": [
    "len(crit), len(crit[5:])"
   ]
  },
  {
   "cell_type": "code",
   "execution_count": null,
   "metadata": {},
   "outputs": [],
   "source": [
    "w = 14\n",
    "h = 8\n",
    "# # plt.figure(figsize=(w, h))\n",
    "# # plt.loglog(crit, 'o', color='magenta')\n",
    "import matplotlib.ticker as mtick\n",
    "\n",
    "fig, ax = plt.subplots(figsize=(w, h))\n",
    "\n",
    "ax.loglog(crit, 'o', color='magenta', basex=np.e, basey=np.e)\n",
    "\n",
    "def ticks(y, pos):\n",
    "    return r'$e^{:.0f}$'.format(np.log(y))\n",
    "\n",
    "ax.xaxis.set_major_formatter(mtick.FuncFormatter(ticks))\n",
    "ax.yaxis.set_major_formatter(mtick.FuncFormatter(ticks))\n",
    "\n",
    "# plt.yticks(np.arange(1, 2*10**10, step=0.1*np.e**10))\n",
    "\n",
    "# plt.ylim(np.e*10**6.7, np.e*10**7.01)\n",
    "plt.grid()\n",
    "plt.show()\n",
    "plt.savefig(multi_root + 'crit_log_log.png')\n",
    "np.savetxt(multi_root + 'crit.txt', crit, delimiter=' ')"
   ]
  },
  {
   "cell_type": "markdown",
   "metadata": {},
   "source": [
    "#### ITERATION"
   ]
  },
  {
   "cell_type": "code",
   "execution_count": null,
   "metadata": {},
   "outputs": [],
   "source": [
    "import numpy as np\n",
    "import matplotlib.pyplot as plt\n",
    "\n",
    "%matplotlib inline\n",
    "\n",
    "multi_root = 'KEV_res/multi/'# mu =0.0/'\n",
    "iter_root = 'KEV_res/iter/' #mu =0.0/'\n",
    "\n",
    "flows = 'flows/'\n",
    "corrs = 'corr_matrix/'\n",
    "times = 'times/'"
   ]
  },
  {
   "cell_type": "code",
   "execution_count": null,
   "metadata": {},
   "outputs": [],
   "source": [
    "n = 100\n",
    "mu = 0.25\n",
    "\n",
    "f = []\n",
    "c = []\n",
    "t = []\n",
    "f_n_k = []\n",
    "c_n_k = []\n",
    "t_n_k = []\n",
    "\n",
    "flow_n = np.loadtxt(iter_root + flows + str(n-1) + '_flows.txt', \n",
    "                          delimiter = ' ')\n",
    "time_n = np.loadtxt(iter_root + times + str(n-1) + '_time.txt', \n",
    "                          delimiter = ' ')\n",
    "corr_n = np.loadtxt(iter_root + corrs + str(n-1) + '_corr_matrix.txt', \n",
    "                          delimiter = ' ')\n",
    "\n",
    "for ms_i in range(0, n):\n",
    "    if ms_i == 0:\n",
    "        flow_0 = np.loadtxt(iter_root + flows + str(ms_i) + '_flows.txt', \n",
    "                          delimiter = ' ')\n",
    "        time_0 = np.loadtxt(iter_root + times + str(ms_i) + '_time.txt', \n",
    "                          delimiter = ' ')\n",
    "        corr_0 = np.loadtxt(iter_root + corrs + str(ms_i) + '_corr_matrix.txt', \n",
    "                          delimiter = ' ')\n",
    "        \n",
    "        f_n_k.append(np.linalg.norm(flow_n - flow_0))\n",
    "        t_n_k.append(np.linalg.norm(time_n - time_0))\n",
    "        c_n_k.append(np.linalg.norm(corr_n - corr_0))\n",
    "    else:\n",
    "        flow = np.loadtxt(iter_root + flows + str(ms_i) + '_flows.txt', \n",
    "                          delimiter = ' ')\n",
    "        time = np.loadtxt(iter_root + times + str(ms_i) + '_time.txt', \n",
    "                          delimiter = ' ')\n",
    "        corr = np.loadtxt(iter_root + corrs + str(ms_i) + '_corr_matrix.txt', \n",
    "                          delimiter = ' ')\n",
    "        \n",
    "        f.append(np.linalg.norm(flow - flow_0))\n",
    "        t.append(np.linalg.norm(time - time_0))\n",
    "        c.append(np.linalg.norm(corr - corr_0))\n",
    "        \n",
    "        flow_0 = flow\n",
    "        time_0 = time\n",
    "        \n",
    "        f_n_k.append(np.linalg.norm(flow_n - flow))\n",
    "        t_n_k.append(np.linalg.norm(time_n - time))\n",
    "        c_n_k.append(np.linalg.norm(corr_n - corr))"
   ]
  },
  {
   "cell_type": "code",
   "execution_count": null,
   "metadata": {},
   "outputs": [],
   "source": [
    "t, f"
   ]
  },
  {
   "cell_type": "code",
   "execution_count": null,
   "metadata": {},
   "outputs": [],
   "source": [
    "w = 8\n",
    "h = 6\n",
    "plt.figure(figsize=(w, h))\n",
    "# plt.ylim(4000, 6000)\n",
    "plt.plot(f, 'o', color='green')\n",
    "plt.title('mu =' + str(mu) + ', ' 'flow_{k} - flow_{k-1}')\n",
    "plt.savefig(iter_root + 'flow_{k} - flow_{k-1}.png')"
   ]
  },
  {
   "cell_type": "code",
   "execution_count": null,
   "metadata": {},
   "outputs": [],
   "source": [
    "w = 8\n",
    "h = 6\n",
    "plt.figure(figsize=(w, h))\n",
    "plt.ylim(0, 65000)\n",
    "plt.plot(f_n_k, 'o', color='blue')\n",
    "plt.title('mu =' + str(mu) + ', ' 'flow_{n} - flow_{k}')\n",
    "plt.savefig(iter_root + 'flow_{n} - flow_{k}.png')"
   ]
  },
  {
   "cell_type": "code",
   "execution_count": null,
   "metadata": {},
   "outputs": [],
   "source": [
    "w = 8\n",
    "h = 6\n",
    "plt.figure(figsize=(w, h))\n",
    "# plt.xlim(999)\n",
    "# plt.ylim(0, 35000)\n",
    "plt.plot(t, 'o', color='red')\n",
    "plt.title('mu =' + str(mu) + ', ' 'time_{k} - time_{k-1}')\n",
    "plt.savefig(iter_root + 'time_{k} - time_{k-1}.png')"
   ]
  },
  {
   "cell_type": "code",
   "execution_count": null,
   "metadata": {},
   "outputs": [],
   "source": [
    "w = 8\n",
    "h = 6\n",
    "plt.figure(figsize=(w, h))\n",
    "# plt.ylim(117937, 117923)\n",
    "plt.plot(t_n_k, 'o', color='pink')\n",
    "plt.title('mu =' + str(mu) + ', ' 'time_{n} - time_{k}')\n",
    "plt.savefig(iter_root + 'time_{n} - time_{k}.png')"
   ]
  },
  {
   "cell_type": "code",
   "execution_count": null,
   "metadata": {},
   "outputs": [],
   "source": [
    "w = 8\n",
    "h = 6\n",
    "plt.figure(figsize=(w, h))\n",
    "# plt.ylim(0, 2)\n",
    "# plt.ylim(67000, 62500)\n",
    "plt.plot(c, 'o', color='cyan')\n",
    "plt.title('mu =' + str(mu) + ', ' + 'corr_{k} - corr_{k-1}')\n",
    "plt.savefig(iter_root + 'corr_{k} - corr_{k-1}.png')"
   ]
  },
  {
   "cell_type": "code",
   "execution_count": null,
   "metadata": {},
   "outputs": [],
   "source": [
    "w = 8\n",
    "h = 6\n",
    "plt.figure(figsize=(w, h))\n",
    "# plt.ylim(117937, 117923)\n",
    "# plt.ylim(0, 200)\n",
    "plt.plot(c_n_k, 'o', color='magenta')\n",
    "plt.title('mu =' + str(mu) + ', ' + 'corr_{n} - corr_{k}')\n",
    "plt.savefig(iter_root + 'corr_{n} - corr_{k}.png')"
   ]
  },
  {
   "cell_type": "code",
   "execution_count": null,
   "metadata": {},
   "outputs": [],
   "source": []
  }
 ],
 "metadata": {
  "kernelspec": {
   "display_name": "Python 3",
   "language": "python",
   "name": "python3"
  },
  "language_info": {
   "codemirror_mode": {
    "name": "ipython",
    "version": 3
   },
   "file_extension": ".py",
   "mimetype": "text/x-python",
   "name": "python",
   "nbconvert_exporter": "python",
   "pygments_lexer": "ipython3",
   "version": "3.7.7"
  }
 },
 "nbformat": 4,
 "nbformat_minor": 2
}
