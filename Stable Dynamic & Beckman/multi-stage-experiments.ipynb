{
 "cells": [
  {
   "cell_type": "code",
   "execution_count": 1,
   "metadata": {},
   "outputs": [],
   "source": [
    "import warnings\n",
    "warnings.simplefilter(action='ignore', category=FutureWarning)\n",
    "\n",
    "import pandas as pd\n",
    "import numpy as np\n",
    "import matplotlib.pyplot as plt\n",
    "from matplotlib import rc\n",
    "import tensorflow as tf\n",
    "import tensorflow.distributions\n",
    "from tensorflow.distributions import Dirichlet, Multinomial\n",
    "from scipy.stats import entropy\n",
    "import matplotlib.pyplot as plt\n",
    "from mpl_toolkits.mplot3d import axes3d, Axes3D\n",
    "np.set_printoptions(suppress=True)\n",
    "\n",
    "import data_handler as dh\n",
    "import sinkhorn as skh\n",
    "import oracles as oracle\n",
    "import model as md\n",
    "import time\n",
    "import pickle"
   ]
  },
  {
   "cell_type": "code",
   "execution_count": 2,
   "metadata": {},
   "outputs": [
    {
     "data": {
      "text/plain": [
       "'1.18.2'"
      ]
     },
     "execution_count": 2,
     "metadata": {},
     "output_type": "execute_result"
    }
   ],
   "source": [
    "np.version.version"
   ]
  },
  {
   "cell_type": "raw",
   "metadata": {},
   "source": [
    "for i, eps_abs in enumerate(np.logspace(1,3,5)):\n",
    "    print(eps_abs)"
   ]
  },
  {
   "cell_type": "code",
   "execution_count": 3,
   "metadata": {},
   "outputs": [],
   "source": [
    "net_name = 'data/EMA_net.tntp'\n",
    "trips_name = 'data/EMA_trips.tntp'\n",
    "\n",
    "handler = dh.DataHandler()\n",
    "graph_data = handler.GetGraphData(net_name, columns_order = np.array([0, 1, 2, 3, 4]))\n",
    "graph_correspondences, total_od_flow = handler.GetGraphCorrespondences(trips_name)\n",
    "\n",
    "graph_data['graph_table'].head()\n",
    "n = np.max(graph_data['graph_table']['Init node'].as_matrix())"
   ]
  },
  {
   "cell_type": "code",
   "execution_count": 4,
   "metadata": {},
   "outputs": [
    {
     "data": {
      "text/html": [
       "<div>\n",
       "<style scoped>\n",
       "    .dataframe tbody tr th:only-of-type {\n",
       "        vertical-align: middle;\n",
       "    }\n",
       "\n",
       "    .dataframe tbody tr th {\n",
       "        vertical-align: top;\n",
       "    }\n",
       "\n",
       "    .dataframe thead th {\n",
       "        text-align: right;\n",
       "    }\n",
       "</style>\n",
       "<table border=\"1\" class=\"dataframe\">\n",
       "  <thead>\n",
       "    <tr style=\"text-align: right;\">\n",
       "      <th></th>\n",
       "      <th>Init node</th>\n",
       "      <th>Term node</th>\n",
       "      <th>Capacity</th>\n",
       "      <th>length</th>\n",
       "      <th>Free Flow Time</th>\n",
       "    </tr>\n",
       "  </thead>\n",
       "  <tbody>\n",
       "    <tr>\n",
       "      <th>0</th>\n",
       "      <td>1</td>\n",
       "      <td>3</td>\n",
       "      <td>4938.061523</td>\n",
       "      <td>16.106817</td>\n",
       "      <td>0.238965</td>\n",
       "    </tr>\n",
       "    <tr>\n",
       "      <th>2</th>\n",
       "      <td>1</td>\n",
       "      <td>7</td>\n",
       "      <td>7309.824707</td>\n",
       "      <td>16.058741</td>\n",
       "      <td>0.222813</td>\n",
       "    </tr>\n",
       "    <tr>\n",
       "      <th>4</th>\n",
       "      <td>1</td>\n",
       "      <td>9</td>\n",
       "      <td>1164.374878</td>\n",
       "      <td>17.455400</td>\n",
       "      <td>0.402046</td>\n",
       "    </tr>\n",
       "  </tbody>\n",
       "</table>\n",
       "</div>"
      ],
      "text/plain": [
       "   Init node  Term node     Capacity     length  Free Flow Time\n",
       "0          1          3  4938.061523  16.106817        0.238965\n",
       "2          1          7  7309.824707  16.058741        0.222813\n",
       "4          1          9  1164.374878  17.455400        0.402046"
      ]
     },
     "execution_count": 4,
     "metadata": {},
     "output_type": "execute_result"
    }
   ],
   "source": [
    "df = graph_data['graph_table']\n",
    "df[df['Init node'] == 1].head()"
   ]
  },
  {
   "cell_type": "code",
   "execution_count": 6,
   "metadata": {},
   "outputs": [
    {
     "name": "stdout",
     "output_type": "stream",
     "text": [
      "people_num:  65576.37543100001\n"
     ]
    }
   ],
   "source": [
    "correspondence_matrix = handler.from_dict_to_cor_matr(graph_correspondences, n)\n",
    "T = handler.create_C(df, n, column_name='Free Flow Time')\n",
    "# C = handler.create_C(df, n, column_name='length')\n",
    "np.savetxt('data/T.csv', T, delimiter=',')\n",
    "\n",
    "L = np.nansum(correspondence_matrix, axis=1)\n",
    "W = np.nansum(correspondence_matrix, axis=0)\n",
    "\n",
    "people_num = np.nansum(L)\n",
    "\n",
    "L = handler.distributor_L_W(L)\n",
    "W = handler.distributor_L_W(W)\n",
    "\n",
    "L = L / np.nansum(L)\n",
    "W = W / np.nansum(W)\n",
    "\n",
    "print('people_num: ', people_num)"
   ]
  },
  {
   "cell_type": "code",
   "execution_count": 7,
   "metadata": {},
   "outputs": [
    {
     "data": {
      "text/plain": [
       "0.22281299531459808"
      ]
     },
     "execution_count": 7,
     "metadata": {},
     "output_type": "execute_result"
    }
   ],
   "source": [
    "T[0][6]"
   ]
  },
  {
   "cell_type": "raw",
   "metadata": {},
   "source": [
    "C[0][6]"
   ]
  },
  {
   "cell_type": "raw",
   "metadata": {},
   "source": [
    "L"
   ]
  },
  {
   "cell_type": "raw",
   "metadata": {},
   "source": [
    "print(df['Init node'].unique())\n",
    "print(np.sort(df['Term node'].unique()))\n",
    "print(df['Free Flow Time'].unique())"
   ]
  },
  {
   "cell_type": "markdown",
   "metadata": {},
   "source": [
    "##### Подумаем над T\n",
    "В данных по Москве время в минутах. В этих данных время по часам! ('Time: hours, distance: miles'). Поэтому альфа получается таким большим, оно масштабирует. В Москве время было в минутах. Также в T много нулей, поэтому там, где стоят nan, поставим по 100 часов, типа много затрат и поэтому никто так не ездит (сделано там, где инициализируется cost_matrix)"
   ]
  },
  {
   "cell_type": "raw",
   "metadata": {},
   "source": [
    "np.unique(np.nan_to_num(correspondence_matrix, nan = 0))"
   ]
  },
  {
   "cell_type": "markdown",
   "metadata": {},
   "source": [
    "##### Запускаем Синхорна"
   ]
  },
  {
   "cell_type": "code",
   "execution_count": 8,
   "metadata": {},
   "outputs": [],
   "source": [
    "num_iter = 2500\n",
    "alpha, beta = 1.0, 1.0\n",
    "alpha_range  = np.arange(0.0, 7500.0, 50.0)\n",
    "\n",
    "best_matrix = None\n",
    "min_reconstruction_error = np.inf\n",
    "best_alpha, best_beta = np.nan, np.nan\n",
    "eps = 10**(-3)\n",
    "\n",
    "s = skh.Sinkhorn(n, L, W, people_num, num_iter, eps)\n",
    "\n",
    "er_list = []\n",
    "\n",
    "for alpha_idx in range(len(alpha_range)):\n",
    "    alpha = alpha_range[alpha_idx]\n",
    "    cost_matrix = np.nan_to_num(T * alpha, nan=100)\n",
    "    rec = s.iterate(cost_matrix)\n",
    "        \n",
    "    er = np.linalg.norm(rec - np.nan_to_num(correspondence_matrix, nan=0.0))\n",
    "    er = np.sqrt( er / np.sum(np.nan_to_num(correspondence_matrix, nan=0.0)) )\n",
    "    er_list.append(er)\n",
    "\n",
    "    if er < min_reconstruction_error:\n",
    "        min_reconstruction_error = er\n",
    "        best_alpha  = alpha_range[alpha_idx]\n",
    "        best_matrix = rec"
   ]
  },
  {
   "cell_type": "code",
   "execution_count": 9,
   "metadata": {},
   "outputs": [
    {
     "data": {
      "text/plain": [
       "0.2522415873969528"
      ]
     },
     "execution_count": 9,
     "metadata": {},
     "output_type": "execute_result"
    }
   ],
   "source": [
    "min_reconstruction_error"
   ]
  },
  {
   "cell_type": "code",
   "execution_count": 10,
   "metadata": {},
   "outputs": [
    {
     "data": {
      "text/plain": [
       "0.0839752035245645"
      ]
     },
     "execution_count": 10,
     "metadata": {},
     "output_type": "execute_result"
    }
   ],
   "source": [
    "er_list[0] - min_reconstruction_error"
   ]
  },
  {
   "cell_type": "code",
   "execution_count": 11,
   "metadata": {},
   "outputs": [
    {
     "data": {
      "text/plain": [
       "7450.0"
      ]
     },
     "execution_count": 11,
     "metadata": {},
     "output_type": "execute_result"
    }
   ],
   "source": [
    "best_alpha"
   ]
  },
  {
   "cell_type": "code",
   "execution_count": 12,
   "metadata": {},
   "outputs": [
    {
     "data": {
      "image/png": "[encoded data removed]",
      "text/plain": [
       "<Figure size 720x576 with 1 Axes>"
      ]
     },
     "metadata": {
      "needs_background": "light"
     },
     "output_type": "display_data"
    }
   ],
   "source": [
    "fig = plt.figure(figsize=(10, 8)) \n",
    "plt.scatter(alpha_range, er_list)\n",
    "plt.ylabel('Невязка')\n",
    "plt.xlabel('alpha')\n",
    "plt.show()\n",
    "fig.savefig('KEV_res/EMA' + str(len(alpha_range)) + '.png')"
   ]
  },
  {
   "cell_type": "markdown",
   "metadata": {},
   "source": [
    "##### Best recovery corr matrix  "
   ]
  },
  {
   "cell_type": "code",
   "execution_count": null,
   "metadata": {},
   "outputs": [],
   "source": [
    "for line in best_matrix:\n",
    "    print(line)"
   ]
  }
 ],
 "metadata": {
  "kernelspec": {
   "display_name": "Python 3",
   "language": "python",
   "name": "python3"
  },
  "language_info": {
   "codemirror_mode": {
    "name": "ipython",
    "version": 3
   },
   "file_extension": ".py",
   "mimetype": "text/x-python",
   "name": "python",
   "nbconvert_exporter": "python",
   "pygments_lexer": "ipython3",
   "version": "3.7.7"
  }
 },
 "nbformat": 4,
 "nbformat_minor": 2
}
