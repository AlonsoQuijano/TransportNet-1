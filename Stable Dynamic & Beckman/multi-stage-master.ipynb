{
 "cells": [
  {
   "cell_type": "code",
   "execution_count": 1,
   "metadata": {},
   "outputs": [],
   "source": [
    "import warnings\n",
    "warnings.simplefilter(action='ignore', category=FutureWarning)\n",
    "\n",
    "import pandas as pd\n",
    "import numpy as np\n",
    "import matplotlib.pyplot as plt\n",
    "from matplotlib import rc\n",
    "import tensorflow as tf\n",
    "import tensorflow.distributions\n",
    "from tensorflow.distributions import Dirichlet, Multinomial\n",
    "from scipy.stats import entropy\n",
    "import matplotlib.pyplot as plt\n",
    "from mpl_toolkits.mplot3d import axes3d, Axes3D\n",
    "np.set_printoptions(suppress=True)\n",
    "\n",
    "import data_handler as dh\n",
    "import sinkhorn as skh\n",
    "import oracles as oracle\n",
    "import model as md\n",
    "import time\n",
    "import pickle"
   ]
  },
  {
   "cell_type": "code",
   "execution_count": 2,
   "metadata": {},
   "outputs": [
    {
     "data": {
      "text/plain": [
       "'1.18.2'"
      ]
     },
     "execution_count": 2,
     "metadata": {},
     "output_type": "execute_result"
    }
   ],
   "source": [
    "np.version.version"
   ]
  },
  {
   "cell_type": "raw",
   "metadata": {},
   "source": [
    "for i, eps_abs in enumerate(np.logspace(1,3,5)):\n",
    "    print(eps_abs)"
   ]
  },
  {
   "cell_type": "code",
   "execution_count": 3,
   "metadata": {},
   "outputs": [],
   "source": [
    "net_name = 'data/EMA_net.tntp'\n",
    "trips_name = 'data/EMA_trips.tntp'\n",
    "\n",
    "handler = dh.DataHandler()\n",
    "graph_data = handler.GetGraphData(net_name, columns_order = np.array([0, 1, 2, 3, 4]))\n",
    "graph_data['graph_table']['Capacity'] = 2.5 * graph_data['graph_table']['Capacity']\n",
    "\n",
    "graph_correspondences, total_od_flow = handler.GetGraphCorrespondences(trips_name)\n",
    "\n",
    "graph_data['graph_table'].head()\n",
    "n = np.max(graph_data['graph_table']['Init node'].as_matrix())"
   ]
  },
  {
   "cell_type": "code",
   "execution_count": 4,
   "metadata": {},
   "outputs": [],
   "source": [
    "graph_data['graph_table']['Orig Free Flow Time'] = graph_data['graph_table']['Free Flow Time'] "
   ]
  },
  {
   "cell_type": "code",
   "execution_count": 5,
   "metadata": {},
   "outputs": [
    {
     "data": {
      "text/html": [
       "<div>\n",
       "<style scoped>\n",
       "    .dataframe tbody tr th:only-of-type {\n",
       "        vertical-align: middle;\n",
       "    }\n",
       "\n",
       "    .dataframe tbody tr th {\n",
       "        vertical-align: top;\n",
       "    }\n",
       "\n",
       "    .dataframe thead th {\n",
       "        text-align: right;\n",
       "    }\n",
       "</style>\n",
       "<table border=\"1\" class=\"dataframe\">\n",
       "  <thead>\n",
       "    <tr style=\"text-align: right;\">\n",
       "      <th></th>\n",
       "      <th>Init node</th>\n",
       "      <th>Term node</th>\n",
       "      <th>Capacity</th>\n",
       "      <th>length</th>\n",
       "      <th>Free Flow Time</th>\n",
       "      <th>Orig Free Flow Time</th>\n",
       "    </tr>\n",
       "  </thead>\n",
       "  <tbody>\n",
       "    <tr>\n",
       "      <th>0</th>\n",
       "      <td>1</td>\n",
       "      <td>3</td>\n",
       "      <td>12345.154297</td>\n",
       "      <td>16.106817</td>\n",
       "      <td>0.238965</td>\n",
       "      <td>0.238965</td>\n",
       "    </tr>\n",
       "    <tr>\n",
       "      <th>1</th>\n",
       "      <td>3</td>\n",
       "      <td>1</td>\n",
       "      <td>13135.321289</td>\n",
       "      <td>16.057131</td>\n",
       "      <td>0.240297</td>\n",
       "      <td>0.240297</td>\n",
       "    </tr>\n",
       "    <tr>\n",
       "      <th>2</th>\n",
       "      <td>1</td>\n",
       "      <td>7</td>\n",
       "      <td>18274.562500</td>\n",
       "      <td>16.058741</td>\n",
       "      <td>0.222813</td>\n",
       "      <td>0.222813</td>\n",
       "    </tr>\n",
       "    <tr>\n",
       "      <th>3</th>\n",
       "      <td>7</td>\n",
       "      <td>1</td>\n",
       "      <td>18471.566406</td>\n",
       "      <td>15.865263</td>\n",
       "      <td>0.218902</td>\n",
       "      <td>0.218902</td>\n",
       "    </tr>\n",
       "    <tr>\n",
       "      <th>4</th>\n",
       "      <td>1</td>\n",
       "      <td>9</td>\n",
       "      <td>2910.937256</td>\n",
       "      <td>17.455400</td>\n",
       "      <td>0.402046</td>\n",
       "      <td>0.402046</td>\n",
       "    </tr>\n",
       "  </tbody>\n",
       "</table>\n",
       "</div>"
      ],
      "text/plain": [
       "   Init node  Term node      Capacity     length  Free Flow Time  \\\n",
       "0          1          3  12345.154297  16.106817        0.238965   \n",
       "1          3          1  13135.321289  16.057131        0.240297   \n",
       "2          1          7  18274.562500  16.058741        0.222813   \n",
       "3          7          1  18471.566406  15.865263        0.218902   \n",
       "4          1          9   2910.937256  17.455400        0.402046   \n",
       "\n",
       "   Orig Free Flow Time  \n",
       "0             0.238965  \n",
       "1             0.240297  \n",
       "2             0.222813  \n",
       "3             0.218902  \n",
       "4             0.402046  "
      ]
     },
     "execution_count": 5,
     "metadata": {},
     "output_type": "execute_result"
    }
   ],
   "source": [
    "graph_data['graph_table'].head()"
   ]
  },
  {
   "cell_type": "code",
   "execution_count": 6,
   "metadata": {},
   "outputs": [
    {
     "data": {
      "text/html": [
       "<div>\n",
       "<style scoped>\n",
       "    .dataframe tbody tr th:only-of-type {\n",
       "        vertical-align: middle;\n",
       "    }\n",
       "\n",
       "    .dataframe tbody tr th {\n",
       "        vertical-align: top;\n",
       "    }\n",
       "\n",
       "    .dataframe thead th {\n",
       "        text-align: right;\n",
       "    }\n",
       "</style>\n",
       "<table border=\"1\" class=\"dataframe\">\n",
       "  <thead>\n",
       "    <tr style=\"text-align: right;\">\n",
       "      <th></th>\n",
       "      <th>Init node</th>\n",
       "      <th>Term node</th>\n",
       "      <th>Capacity</th>\n",
       "      <th>length</th>\n",
       "      <th>Free Flow Time</th>\n",
       "      <th>Orig Free Flow Time</th>\n",
       "    </tr>\n",
       "  </thead>\n",
       "  <tbody>\n",
       "    <tr>\n",
       "      <th>0</th>\n",
       "      <td>1</td>\n",
       "      <td>3</td>\n",
       "      <td>12345.154297</td>\n",
       "      <td>16.106817</td>\n",
       "      <td>0.238965</td>\n",
       "      <td>0.238965</td>\n",
       "    </tr>\n",
       "    <tr>\n",
       "      <th>2</th>\n",
       "      <td>1</td>\n",
       "      <td>7</td>\n",
       "      <td>18274.562500</td>\n",
       "      <td>16.058741</td>\n",
       "      <td>0.222813</td>\n",
       "      <td>0.222813</td>\n",
       "    </tr>\n",
       "    <tr>\n",
       "      <th>4</th>\n",
       "      <td>1</td>\n",
       "      <td>9</td>\n",
       "      <td>2910.937256</td>\n",
       "      <td>17.455400</td>\n",
       "      <td>0.402046</td>\n",
       "      <td>0.402046</td>\n",
       "    </tr>\n",
       "  </tbody>\n",
       "</table>\n",
       "</div>"
      ],
      "text/plain": [
       "   Init node  Term node      Capacity     length  Free Flow Time  \\\n",
       "0          1          3  12345.154297  16.106817        0.238965   \n",
       "2          1          7  18274.562500  16.058741        0.222813   \n",
       "4          1          9   2910.937256  17.455400        0.402046   \n",
       "\n",
       "   Orig Free Flow Time  \n",
       "0             0.238965  \n",
       "2             0.222813  \n",
       "4             0.402046  "
      ]
     },
     "execution_count": 6,
     "metadata": {},
     "output_type": "execute_result"
    }
   ],
   "source": [
    "df = graph_data['graph_table']\n",
    "df[df['Init node'] == 1].head()"
   ]
  },
  {
   "cell_type": "code",
   "execution_count": 7,
   "metadata": {},
   "outputs": [
    {
     "name": "stdout",
     "output_type": "stream",
     "text": [
      "people_num:  65576.37543100001\n"
     ]
    }
   ],
   "source": [
    "correspondence_matrix = handler.from_dict_to_cor_matr(graph_correspondences, n)\n",
    "T = handler.create_C(df, n, column_name='Free Flow Time')\n",
    "np.savetxt('data/T.csv', T, delimiter=',')\n",
    "\n",
    "L = np.nansum(correspondence_matrix, axis=1)\n",
    "W = np.nansum(correspondence_matrix, axis=0)\n",
    "\n",
    "people_num = np.nansum(L)\n",
    "\n",
    "L = handler.distributor_L_W(L)\n",
    "W = handler.distributor_L_W(W)\n",
    "\n",
    "L = L / np.nansum(L)\n",
    "W = W / np.nansum(W)\n",
    "\n",
    "print('people_num: ', people_num)"
   ]
  },
  {
   "cell_type": "code",
   "execution_count": 8,
   "metadata": {},
   "outputs": [
    {
     "data": {
      "text/plain": [
       "0.22281299531459808"
      ]
     },
     "execution_count": 8,
     "metadata": {},
     "output_type": "execute_result"
    }
   ],
   "source": [
    "T[0][6]"
   ]
  },
  {
   "cell_type": "markdown",
   "metadata": {},
   "source": [
    "##### Подумаем над T\n",
    "В данных по Москве время в минутах. В этих данных время по часам! ('Time: hours, distance: miles'). Поэтому альфа получается таким большим, оно масштабирует. В Москве время было в минутах. Также в T много нулей, поэтому там, где стоят nan, поставим по 100 часов, типа много затрат и поэтому никто так не ездит (сделано там, где инициализируется cost_matrix)"
   ]
  },
  {
   "cell_type": "markdown",
   "metadata": {},
   "source": [
    "##### Запускаем Синхорна-Универсальный"
   ]
  },
  {
   "cell_type": "code",
   "execution_count": 16,
   "metadata": {},
   "outputs": [
    {
     "name": "stdout",
     "output_type": "stream",
     "text": [
      "0 10.0\n"
     ]
    }
   ],
   "source": [
    "for i, eps_abs in enumerate(np.logspace(1,3,1)):\n",
    "    print(i, eps_abs)"
   ]
  },
  {
   "cell_type": "code",
   "execution_count": null,
   "metadata": {
    "scrolled": true
   },
   "outputs": [
    {
     "name": "stdout",
     "output_type": "stream",
     "text": [
      "Sinkhorn end, univ start \n",
      "\n",
      "best alpha:  7000.0\n",
      "eps_abs = 10.0\n",
      "start!\n",
      "\n",
      "Elapsed time: 3 sec\n",
      "Time ratio = 1.0006910081020643\n",
      "Flow excess = 3.827145369461123\n",
      "\n"
     ]
    }
   ],
   "source": [
    "multistage_er = np.inf\n",
    "eps = 10**(-3)\n",
    "\n",
    "while multistage_er > eps:\n",
    "    \n",
    "    num_iter = 1 #2500 # for sink\n",
    "    max_iter = 1 #10000 # for univ\n",
    "\n",
    "    alpha, beta = 1.0, 1.0\n",
    "    alpha_range  = np.arange(0.0, 7500.0, 500.0)\n",
    "\n",
    "    best_matrix = None\n",
    "    min_reconstruction_error = np.inf\n",
    "    best_alpha, best_beta = np.nan, np.nan\n",
    "    er_list = []\n",
    "\n",
    "    s = skh.Sinkhorn(n, L, W, people_num, num_iter, eps)\n",
    "    \n",
    "    for alpha_idx in range(len(alpha_range)):\n",
    "        alpha = alpha_range[alpha_idx]\n",
    "        cost_matrix = np.nan_to_num(T ** beta * alpha, nan=100)\n",
    "\n",
    "        rec = s.iterate(cost_matrix)    \n",
    "        er = np.linalg.norm(rec - np.nan_to_num(correspondence_matrix, nan=0.0))\n",
    "        er_list.append(er)\n",
    "\n",
    "        if er < min_reconstruction_error:\n",
    "            min_reconstruction_error = er\n",
    "            best_alpha = alpha_range[alpha_idx]\n",
    "            best_matrix = rec\n",
    "    \n",
    "    best_correcpondences_dict = handler.from_cor_matrix_to_dict(best_matrix)\n",
    "    print('Sinkhorn end, univ start \\n')\n",
    "    print('best alpha: ', best_alpha)\n",
    "\n",
    "    model = md.Model(graph_data, best_correcpondences_dict, \n",
    "                     total_od_flow, mu = 0.25, rho = 0.15) # B, for stable D mu=0.0\n",
    "    \n",
    "    for i, eps_abs in enumerate(np.logspace(1,3,1)):\n",
    "        \n",
    "        print('eps_abs =', eps_abs)\n",
    "        solver_kwargs = {'eps_abs': eps_abs,\n",
    "                         'max_iter': max_iter}\n",
    "        tic = time.time()\n",
    "        result = model.find_equilibrium(solver_name = 'ustf', \n",
    "                                        solver_kwargs = solver_kwargs, \n",
    "                                        verbose = False)\n",
    "        \n",
    "    toc = time.time()\n",
    "    print('Elapsed time: {:.0f} sec'.format(toc - tic))\n",
    "    print('Time ratio =', np.max(result\n",
    "                                        ['times'] / graph_data['graph_table']\n",
    "                                        ['Free Flow Time']))\n",
    "\n",
    "    print('Flow excess =', np.max(result\n",
    "                                        ['flows'] / graph_data['graph_table']\n",
    "                                        ['Capacity']) - 1, end = '\\n\\n')\n",
    "        \n",
    "    graph_data['graph_table']['Free Flow Time'] = result['times']\n",
    "    T = handler.create_C(df, n, column_name='Free Flow Time')\n",
    "        \n",
    "    T_orig = df['Orig Free Flow Time'].as_matrix()\n",
    "    T_pred = df['Free Flow Time'].as_matrix()\n",
    "\n",
    "    multistage_er = np.linalg.norm(T_orig - T_pred)\n",
    "    print('C-error: ' , multistage_er)"
   ]
  },
  {
   "cell_type": "code",
   "execution_count": null,
   "metadata": {},
   "outputs": [],
   "source": []
  }
 ],
 "metadata": {
  "kernelspec": {
   "display_name": "Python 3",
   "language": "python",
   "name": "python3"
  },
  "language_info": {
   "codemirror_mode": {
    "name": "ipython",
    "version": 3
   },
   "file_extension": ".py",
   "mimetype": "text/x-python",
   "name": "python",
   "nbconvert_exporter": "python",
   "pygments_lexer": "ipython3",
   "version": "3.7.7"
  }
 },
 "nbformat": 4,
 "nbformat_minor": 2
}
