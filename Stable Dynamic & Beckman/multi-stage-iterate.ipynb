{
 "cells": [
  {
   "cell_type": "code",
   "execution_count": 27,
   "metadata": {},
   "outputs": [],
   "source": [
    "import warnings\n",
    "warnings.simplefilter(action='ignore', category=FutureWarning)\n",
    "\n",
    "import pandas as pd\n",
    "import numpy as np\n",
    "import matplotlib.pyplot as plt\n",
    "from matplotlib import rc\n",
    "import tensorflow as tf\n",
    "import tensorflow.distributions\n",
    "from tensorflow.distributions import Dirichlet, Multinomial\n",
    "from scipy.stats import entropy\n",
    "import matplotlib.pyplot as plt\n",
    "from mpl_toolkits.mplot3d import axes3d, Axes3D\n",
    "np.set_printoptions(suppress=True)\n",
    "\n",
    "import data_handler as dh\n",
    "import sinkhorn as skh\n",
    "import oracles as oracle\n",
    "import model as md\n",
    "import time\n",
    "import pickle\n",
    "\n",
    "import os\n",
    "import itertools"
   ]
  },
  {
   "cell_type": "code",
   "execution_count": 54,
   "metadata": {},
   "outputs": [],
   "source": [
    "n = 2\n",
    "i = 0\n",
    "\n",
    "l = list(range(n))"
   ]
  },
  {
   "cell_type": "code",
   "execution_count": 55,
   "metadata": {},
   "outputs": [
    {
     "data": {
      "text/plain": [
       "[0, 1]"
      ]
     },
     "execution_count": 55,
     "metadata": {},
     "output_type": "execute_result"
    }
   ],
   "source": [
    "l"
   ]
  },
  {
   "cell_type": "code",
   "execution_count": 56,
   "metadata": {},
   "outputs": [],
   "source": [
    "l.remove(0)"
   ]
  },
  {
   "cell_type": "code",
   "execution_count": 59,
   "metadata": {},
   "outputs": [
    {
     "data": {
      "text/plain": [
       "list"
      ]
     },
     "execution_count": 59,
     "metadata": {},
     "output_type": "execute_result"
    }
   ],
   "source": [
    "type(l)"
   ]
  },
  {
   "cell_type": "code",
   "execution_count": 226,
   "metadata": {},
   "outputs": [
    {
     "name": "stdout",
     "output_type": "stream",
     "text": [
      "1 1\n",
      "2 2\n",
      "1 2\n",
      "2 1\n"
     ]
    }
   ],
   "source": [
    "d = {}\n",
    "n = 2\n",
    "corr_matrix = np.array([[0, 3200],[3200, 0]])\n",
    "\n",
    "# for i in range(n): # targets\n",
    "\n",
    "for i in range(1, n + 1): \n",
    "    d[i] = {}\n",
    "    l = list(range(1, n + 1))\n",
    "    l.remove(i)\n",
    "    d[i]['targets'] = [i] + l\n",
    "    l_2 = []\n",
    "    \n",
    "    for j, t in zip(range(1, n + 1), d[i]['targets']):\n",
    "        value = corr_matrix[i-1][t-1]\n",
    "        l_2.append(value)\n",
    "        d[i]['corrs']= l_2"
   ]
  },
  {
   "cell_type": "code",
   "execution_count": 224,
   "metadata": {},
   "outputs": [
    {
     "data": {
      "text/plain": [
       "array([[   0, 3200],\n",
       "       [3200,    0]])"
      ]
     },
     "execution_count": 224,
     "metadata": {},
     "output_type": "execute_result"
    }
   ],
   "source": [
    "corr_matrix"
   ]
  },
  {
   "cell_type": "code",
   "execution_count": 225,
   "metadata": {},
   "outputs": [
    {
     "data": {
      "text/plain": [
       "{1: {'targets': [1, 2], 'corrs': [0, 3200]},\n",
       " 2: {'targets': [2, 1], 'corrs': [0, 3200]}}"
      ]
     },
     "execution_count": 225,
     "metadata": {},
     "output_type": "execute_result"
    }
   ],
   "source": [
    "d"
   ]
  },
  {
   "cell_type": "raw",
   "metadata": {},
   "source": [
    "orig dict:  {1: {'targets': [1, 2], 'corrs': [0.0, 3200.0]}, 2: {'targets': [2, 1], 'corrs': [0.0, 3200.0]}}"
   ]
  },
  {
   "cell_type": "code",
   "execution_count": 248,
   "metadata": {},
   "outputs": [
    {
     "name": "stdout",
     "output_type": "stream",
     "text": [
      "[[   0 3000]\n",
      " [3000    0]]\n"
     ]
    }
   ],
   "source": [
    "rec = np.array([[0, 3000], [3000, 0]])\n",
    "print(rec)"
   ]
  },
  {
   "cell_type": "code",
   "execution_count": 252,
   "metadata": {},
   "outputs": [
    {
     "data": {
      "text/plain": [
       "array([[3000,    0],\n",
       "       [   0, 3000]])"
      ]
     },
     "execution_count": 252,
     "metadata": {},
     "output_type": "execute_result"
    }
   ],
   "source": [
    "np.flip(rec, 1)"
   ]
  },
  {
   "cell_type": "code",
   "execution_count": 238,
   "metadata": {},
   "outputs": [
    {
     "name": "stdout",
     "output_type": "stream",
     "text": [
      "(1, 1) 0.0\n",
      "<class 'tuple'> <class 'float'>\n",
      "(1, 2) 0.5\n",
      "<class 'tuple'> <class 'float'>\n",
      "(2, 2) 0.0\n",
      "<class 'tuple'> <class 'float'>\n",
      "(2, 1) 0.5\n",
      "<class 'tuple'> <class 'float'>\n"
     ]
    }
   ],
   "source": [
    "n = 2\n",
    "T = {(1, 1): 0.0, (1, 2): 0.5, (2, 2): 0.0, (2, 1): 0.5}\n",
    "T_matrix = np.full((n, n), np.inf)\n",
    "\n",
    "for key in T.keys():\n",
    "    T_matrix[key[0] - 1][key[1] - 1] = T[key]\n",
    "    print(key, T[key])\n",
    "    print(type(key), type(T[key]))"
   ]
  },
  {
   "cell_type": "code",
   "execution_count": 239,
   "metadata": {},
   "outputs": [
    {
     "data": {
      "text/plain": [
       "array([[0. , 0.5],\n",
       "       [0.5, 0. ]])"
      ]
     },
     "execution_count": 239,
     "metadata": {},
     "output_type": "execute_result"
    }
   ],
   "source": [
    "T_matrix"
   ]
  },
  {
   "cell_type": "code",
   "execution_count": null,
   "metadata": {},
   "outputs": [],
   "source": []
  }
 ],
 "metadata": {
  "kernelspec": {
   "display_name": "Python 3",
   "language": "python",
   "name": "python3"
  },
  "language_info": {
   "codemirror_mode": {
    "name": "ipython",
    "version": 3
   },
   "file_extension": ".py",
   "mimetype": "text/x-python",
   "name": "python",
   "nbconvert_exporter": "python",
   "pygments_lexer": "ipython3",
   "version": "3.7.7"
  }
 },
 "nbformat": 4,
 "nbformat_minor": 2
}
