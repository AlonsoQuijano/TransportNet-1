{
 "cells": [
  {
   "cell_type": "code",
   "execution_count": 1,
   "metadata": {},
   "outputs": [],
   "source": [
    "import warnings\n",
    "warnings.simplefilter(action='ignore', category=FutureWarning)\n",
    "\n",
    "import pandas as pd\n",
    "import numpy as np\n",
    "import matplotlib.pyplot as plt\n",
    "from matplotlib import rc\n",
    "import tensorflow as tf\n",
    "import tensorflow.distributions\n",
    "from tensorflow.distributions import Dirichlet, Multinomial\n",
    "from scipy.stats import entropy\n",
    "import matplotlib.pyplot as plt\n",
    "from mpl_toolkits.mplot3d import axes3d, Axes3D\n",
    "np.set_printoptions(suppress=True)\n",
    "\n",
    "import data_handler as dh\n",
    "import sinkhorn as skh\n",
    "import oracles as oracle\n",
    "import model as md\n",
    "import time\n",
    "import pickle"
   ]
  },
  {
   "cell_type": "code",
   "execution_count": 2,
   "metadata": {},
   "outputs": [
    {
     "data": {
      "text/plain": [
       "'1.18.2'"
      ]
     },
     "execution_count": 2,
     "metadata": {},
     "output_type": "execute_result"
    }
   ],
   "source": [
    "np.version.version"
   ]
  },
  {
   "cell_type": "raw",
   "metadata": {},
   "source": [
    "for i, eps_abs in enumerate(np.logspace(1,3,5)):\n",
    "    print(eps_abs)"
   ]
  },
  {
   "cell_type": "code",
   "execution_count": 3,
   "metadata": {},
   "outputs": [],
   "source": [
    "net_name = 'data/EMA_net.tntp'\n",
    "trips_name = 'data/EMA_trips.tntp'\n",
    "\n",
    "handler = dh.DataHandler()\n",
    "graph_data = handler.GetGraphData(net_name, columns_order = np.array([0, 1, 2, 3, 4]))\n",
    "# graph_data['graph_table']['Capacity'] = 2.5 * graph_data['graph_table']['Capacity']\n",
    "\n",
    "graph_correspondences, total_od_flow = handler.GetGraphCorrespondences(trips_name)\n",
    "\n",
    "graph_data['graph_table'].head()\n",
    "n = np.max(graph_data['graph_table']['Init node'].as_matrix())"
   ]
  },
  {
   "cell_type": "code",
   "execution_count": 4,
   "metadata": {},
   "outputs": [
    {
     "data": {
      "text/html": [
       "<div>\n",
       "<style scoped>\n",
       "    .dataframe tbody tr th:only-of-type {\n",
       "        vertical-align: middle;\n",
       "    }\n",
       "\n",
       "    .dataframe tbody tr th {\n",
       "        vertical-align: top;\n",
       "    }\n",
       "\n",
       "    .dataframe thead th {\n",
       "        text-align: right;\n",
       "    }\n",
       "</style>\n",
       "<table border=\"1\" class=\"dataframe\">\n",
       "  <thead>\n",
       "    <tr style=\"text-align: right;\">\n",
       "      <th></th>\n",
       "      <th>Init node</th>\n",
       "      <th>Term node</th>\n",
       "      <th>Capacity</th>\n",
       "      <th>length</th>\n",
       "      <th>Free Flow Time</th>\n",
       "    </tr>\n",
       "  </thead>\n",
       "  <tbody>\n",
       "    <tr>\n",
       "      <th>0</th>\n",
       "      <td>1</td>\n",
       "      <td>3</td>\n",
       "      <td>4938.061523</td>\n",
       "      <td>16.106817</td>\n",
       "      <td>0.238965</td>\n",
       "    </tr>\n",
       "    <tr>\n",
       "      <th>1</th>\n",
       "      <td>3</td>\n",
       "      <td>1</td>\n",
       "      <td>5254.128418</td>\n",
       "      <td>16.057131</td>\n",
       "      <td>0.240297</td>\n",
       "    </tr>\n",
       "    <tr>\n",
       "      <th>2</th>\n",
       "      <td>1</td>\n",
       "      <td>7</td>\n",
       "      <td>7309.824707</td>\n",
       "      <td>16.058741</td>\n",
       "      <td>0.222813</td>\n",
       "    </tr>\n",
       "    <tr>\n",
       "      <th>3</th>\n",
       "      <td>7</td>\n",
       "      <td>1</td>\n",
       "      <td>7388.626953</td>\n",
       "      <td>15.865263</td>\n",
       "      <td>0.218902</td>\n",
       "    </tr>\n",
       "    <tr>\n",
       "      <th>4</th>\n",
       "      <td>1</td>\n",
       "      <td>9</td>\n",
       "      <td>1164.374878</td>\n",
       "      <td>17.455400</td>\n",
       "      <td>0.402046</td>\n",
       "    </tr>\n",
       "  </tbody>\n",
       "</table>\n",
       "</div>"
      ],
      "text/plain": [
       "   Init node  Term node     Capacity     length  Free Flow Time\n",
       "0          1          3  4938.061523  16.106817        0.238965\n",
       "1          3          1  5254.128418  16.057131        0.240297\n",
       "2          1          7  7309.824707  16.058741        0.222813\n",
       "3          7          1  7388.626953  15.865263        0.218902\n",
       "4          1          9  1164.374878  17.455400        0.402046"
      ]
     },
     "execution_count": 4,
     "metadata": {},
     "output_type": "execute_result"
    }
   ],
   "source": [
    "graph_data['graph_table'].head()"
   ]
  },
  {
   "cell_type": "code",
   "execution_count": 5,
   "metadata": {},
   "outputs": [],
   "source": [
    "graph_data['graph_table']['Orig Free Flow Time'] = graph_data['graph_table']['Free Flow Time']"
   ]
  },
  {
   "cell_type": "code",
   "execution_count": 6,
   "metadata": {},
   "outputs": [
    {
     "data": {
      "text/html": [
       "<div>\n",
       "<style scoped>\n",
       "    .dataframe tbody tr th:only-of-type {\n",
       "        vertical-align: middle;\n",
       "    }\n",
       "\n",
       "    .dataframe tbody tr th {\n",
       "        vertical-align: top;\n",
       "    }\n",
       "\n",
       "    .dataframe thead th {\n",
       "        text-align: right;\n",
       "    }\n",
       "</style>\n",
       "<table border=\"1\" class=\"dataframe\">\n",
       "  <thead>\n",
       "    <tr style=\"text-align: right;\">\n",
       "      <th></th>\n",
       "      <th>Init node</th>\n",
       "      <th>Term node</th>\n",
       "      <th>Capacity</th>\n",
       "      <th>length</th>\n",
       "      <th>Free Flow Time</th>\n",
       "      <th>Orig Free Flow Time</th>\n",
       "    </tr>\n",
       "  </thead>\n",
       "  <tbody>\n",
       "    <tr>\n",
       "      <th>0</th>\n",
       "      <td>1</td>\n",
       "      <td>3</td>\n",
       "      <td>4938.061523</td>\n",
       "      <td>16.106817</td>\n",
       "      <td>0.238965</td>\n",
       "      <td>0.238965</td>\n",
       "    </tr>\n",
       "    <tr>\n",
       "      <th>2</th>\n",
       "      <td>1</td>\n",
       "      <td>7</td>\n",
       "      <td>7309.824707</td>\n",
       "      <td>16.058741</td>\n",
       "      <td>0.222813</td>\n",
       "      <td>0.222813</td>\n",
       "    </tr>\n",
       "    <tr>\n",
       "      <th>4</th>\n",
       "      <td>1</td>\n",
       "      <td>9</td>\n",
       "      <td>1164.374878</td>\n",
       "      <td>17.455400</td>\n",
       "      <td>0.402046</td>\n",
       "      <td>0.402046</td>\n",
       "    </tr>\n",
       "  </tbody>\n",
       "</table>\n",
       "</div>"
      ],
      "text/plain": [
       "   Init node  Term node     Capacity     length  Free Flow Time  \\\n",
       "0          1          3  4938.061523  16.106817        0.238965   \n",
       "2          1          7  7309.824707  16.058741        0.222813   \n",
       "4          1          9  1164.374878  17.455400        0.402046   \n",
       "\n",
       "   Orig Free Flow Time  \n",
       "0             0.238965  \n",
       "2             0.222813  \n",
       "4             0.402046  "
      ]
     },
     "execution_count": 6,
     "metadata": {},
     "output_type": "execute_result"
    }
   ],
   "source": [
    "df = graph_data['graph_table']\n",
    "df[df['Init node'] == 1].head()"
   ]
  },
  {
   "cell_type": "code",
   "execution_count": 7,
   "metadata": {},
   "outputs": [
    {
     "name": "stdout",
     "output_type": "stream",
     "text": [
      "people_num:  65576.37543100001\n"
     ]
    }
   ],
   "source": [
    "correspondence_matrix = handler.from_dict_to_cor_matr(graph_correspondences, n)\n",
    "T = handler.create_C(df, n, column_name='Free Flow Time')\n",
    "C = handler.create_C(df, n, column_name='length')\n",
    "np.savetxt('data/T.csv', T, delimiter=',')\n",
    "\n",
    "L = np.nansum(correspondence_matrix, axis=1)\n",
    "W = np.nansum(correspondence_matrix, axis=0)\n",
    "\n",
    "people_num = np.nansum(L)\n",
    "\n",
    "L = handler.distributor_L_W(L)\n",
    "W = handler.distributor_L_W(W)\n",
    "\n",
    "L = L / np.nansum(L)\n",
    "W = W / np.nansum(W)\n",
    "\n",
    "print('people_num: ', people_num)"
   ]
  },
  {
   "cell_type": "code",
   "execution_count": 8,
   "metadata": {},
   "outputs": [
    {
     "data": {
      "text/plain": [
       "(0.22281299531459808, 16.058740615844727)"
      ]
     },
     "execution_count": 8,
     "metadata": {},
     "output_type": "execute_result"
    }
   ],
   "source": [
    "T[0][6], C[0][6]"
   ]
  },
  {
   "cell_type": "markdown",
   "metadata": {},
   "source": [
    "##### Подумаем над T\n",
    "В данных по Москве время в минутах. В этих данных время по часам! ('Time: hours, distance: miles'). Поэтому альфа получается таким большим, оно масштабирует. В Москве время было в минутах. Также в T много нулей, поэтому там, где стоят nan, поставим по 100 часов, типа много затрат и поэтому никто так не ездит (сделано там, где инициализируется cost_matrix)"
   ]
  },
  {
   "cell_type": "markdown",
   "metadata": {},
   "source": [
    "##### Запускаем Синхорна-Универсальный"
   ]
  },
  {
   "cell_type": "code",
   "execution_count": 9,
   "metadata": {},
   "outputs": [],
   "source": [
    "def count_alpha(i, T, T_prev, T_orig, alpha_prev, alpha_prev_prev):\n",
    "    alpha = None\n",
    "    C_star = np.nanmean(T_orig)\n",
    "    \n",
    "    if i == 0:\n",
    "        alpha = 1 / C_star\n",
    "        return alpha\n",
    "    \n",
    "    C_m = np.nanmean(T)\n",
    "    if i == 1:\n",
    "        alpha = (alpha_prev * C_m) / C_star\n",
    "        return alpha\n",
    "    \n",
    "    C_m_prev = np.nanmean(T_prev)\n",
    "    alpha = ( (C_star - C_m_prev) * alpha_prev + \n",
    "             (C_m - C_star) * alpha_prev_prev ) / (C_m - C_m_prev)\n",
    "    return alpha"
   ]
  },
  {
   "cell_type": "raw",
   "metadata": {},
   "source": [
    "T_orig = T\n",
    "T_prev = None\n",
    "T = None\n",
    "alpha_prev = None\n",
    "alpha_prev_prev = None\n",
    "buf = None\n",
    "\n",
    "for i in range(0, 10):\n",
    "    \n",
    "    T = T_orig + np.random.uniform(-10, 10, 1)\n",
    "    alpha = count_alpha(i, T, T_prev, T_orig, alpha_prev, alpha_prev_prev)\n",
    "    \n",
    "    print(alpha, alpha_prev, alpha_prev_prev)\n",
    "    \n",
    "    T_prev = T\n",
    "    buf = alpha_prev\n",
    "    alpha_prev = alpha\n",
    "    alpha_prev_prev = buf\n"
   ]
  },
  {
   "cell_type": "code",
   "execution_count": 10,
   "metadata": {
    "scrolled": true
   },
   "outputs": [
    {
     "name": "stdout",
     "output_type": "stream",
     "text": [
      "iter of multi-stage num:  0\n",
      "5.808926170432106 None None\n",
      "Sinkhorn end, univ start \n",
      "\n",
      "alpha:  5.808926170432106\n",
      "reconstruction error:  0.33816639653732805\n",
      "eps_abs = 10.0\n"
     ]
    },
    {
     "name": "stderr",
     "output_type": "stream",
     "text": [
      "/usr/local/lib/python3.7/site-packages/numba/ir_utils.py:2041: NumbaPendingDeprecationWarning: \n",
      "Encountered the use of a type that is scheduled for deprecation: type 'reflected list' found for argument 'pred_edges' of function 'get_flows'.\n",
      "\n",
      "For more information visit http://numba.pydata.org/numba-doc/latest/reference/deprecation.html#deprecation-of-reflection-for-list-and-set-types\n",
      "\n",
      "File \"oracles.py\", line 26:\n",
      "@njit\n",
      "def get_flows(nodes_number, edges_number, targets, target_flows, pred_arr, pred_edges, sorted_vertices):  \n",
      "^\n",
      "\n",
      "  warnings.warn(NumbaPendingDeprecationWarning(msg, loc=loc))\n",
      "/usr/local/lib/python3.7/site-packages/numba/ir_utils.py:2041: NumbaPendingDeprecationWarning: \n",
      "Encountered the use of a type that is scheduled for deprecation: type 'reflected list' found for argument 'sorted_vertices' of function 'get_flows'.\n",
      "\n",
      "For more information visit http://numba.pydata.org/numba-doc/latest/reference/deprecation.html#deprecation-of-reflection-for-list-and-set-types\n",
      "\n",
      "File \"oracles.py\", line 26:\n",
      "@njit\n",
      "def get_flows(nodes_number, edges_number, targets, target_flows, pred_arr, pred_edges, sorted_vertices):  \n",
      "^\n",
      "\n",
      "  warnings.warn(NumbaPendingDeprecationWarning(msg, loc=loc))\n"
     ]
    },
    {
     "name": "stdout",
     "output_type": "stream",
     "text": [
      "Elapsed time: 8 sec\n",
      "Time ratio = 1.00205805994698\n",
      "Flow excess = 4.5056028414462785\n",
      "\n",
      "C-error:  0.0005088827424160384\n",
      "sum T before univ:  None\n",
      "sum T  after univ:  44.41709909097777\n",
      "iter of multi-stage num:  1\n",
      "5.809278518374841 5.808926170432106 None\n",
      "Sinkhorn end, univ start \n",
      "\n",
      "alpha:  5.809278518374841\n",
      "reconstruction error:  0.3381663817675426\n",
      "eps_abs = 10.0\n",
      "Elapsed time: 7 sec\n",
      "Time ratio = 1.002054459476535\n",
      "Flow excess = 4.505558980900875\n",
      "\n",
      "C-error:  0.000508902368603328\n",
      "sum T before univ:  44.41709909097777\n",
      "sum T  after univ:  44.41979324076921\n",
      "iter of multi-stage num:  2\n",
      "5.808573840342442 5.809278518374841 5.808926170432106\n",
      "Sinkhorn end, univ start \n",
      "\n",
      "alpha:  5.808573840342442\n",
      "reconstruction error:  0.3381659043832557\n",
      "eps_abs = 10.0\n",
      "Elapsed time: 7 sec\n",
      "Time ratio = 1.0020508919240123\n",
      "Flow excess = 4.505539315331456\n",
      "\n",
      "C-error:  0.0005087287850191887\n",
      "sum T before univ:  44.41979324076921\n",
      "sum T  after univ:  44.42248638373805\n",
      "iter of multi-stage num:  3\n",
      "5.810688365604161 5.808573840342442 5.809278518374841\n",
      "Sinkhorn end, univ start \n",
      "\n",
      "alpha:  5.810688365604161\n",
      "reconstruction error:  0.33816666147284397\n",
      "eps_abs = 10.0\n",
      "Elapsed time: 7 sec\n",
      "Time ratio = 1.0020472807351657\n",
      "Flow excess = 4.5054550990301445\n",
      "\n",
      "C-error:  0.0005087451472379557\n",
      "sum T before univ:  44.42248638373805\n",
      "sum T  after univ:  44.4251796490747\n",
      "iter of multi-stage num:  4\n",
      "5.802229079007043 5.810688365604161 5.808573840342442\n",
      "Sinkhorn end, univ start \n",
      "\n",
      "alpha:  5.802229079007043\n",
      "reconstruction error:  0.3381627908004854\n",
      "eps_abs = 10.0\n",
      "Elapsed time: 7 sec\n",
      "Time ratio = 1.002043889605803\n",
      "Flow excess = 4.505613029400449\n",
      "\n",
      "C-error:  0.0005087808179353252\n",
      "sum T before univ:  44.4251796490747\n",
      "sum T  after univ:  44.42787311961192\n",
      "iter of multi-stage num:  5\n",
      "5.844527676632548 5.802229079007043 5.810688365604161\n",
      "Sinkhorn end, univ start \n",
      "\n",
      "alpha:  5.844527676632548\n",
      "reconstruction error:  0.33818113908615616\n",
      "eps_abs = 10.0\n",
      "Elapsed time: 7 sec\n",
      "Time ratio = 1.002039512174988\n",
      "Flow excess = 4.504608006989447\n",
      "\n",
      "C-error:  0.0005087237376002315\n",
      "sum T before univ:  44.42787311961192\n",
      "sum T  after univ:  44.430566397761496\n",
      "iter of multi-stage num:  6\n",
      "5.590710158875926 5.844527676632548 5.802229079007043\n",
      "Sinkhorn end, univ start \n",
      "\n",
      "alpha:  5.590710158875926\n",
      "reconstruction error:  0.3380700815536768\n",
      "eps_abs = 10.0\n",
      "Elapsed time: 6 sec\n",
      "Time ratio = 1.0020409317081789\n",
      "Flow excess = 4.51037604975776\n",
      "\n",
      "C-error:  0.0005092114657886757\n",
      "sum T before univ:  44.430566397761496\n",
      "sum T  after univ:  44.43326184144637\n",
      "iter of multi-stage num:  7\n",
      "7.366364755163295 5.590710158875926 5.844527676632548\n",
      "Sinkhorn end, univ start \n",
      "\n",
      "alpha:  7.366364755163295\n",
      "reconstruction error:  0.3388491079373521\n",
      "eps_abs = 10.0\n",
      "Elapsed time: 7 sec\n",
      "Time ratio = 1.0020021013263611\n",
      "Flow excess = 4.469883042724491\n",
      "\n",
      "C-error:  0.0005061537034071634\n",
      "sum T before univ:  44.43326184144637\n",
      "sum T  after univ:  44.43594494589102\n",
      "iter of multi-stage num:  8\n",
      "-6.88852794588558 7.366364755163295 5.590710158875926\n",
      "Sinkhorn end, univ start \n",
      "\n",
      "alpha:  -6.88852794588558\n",
      "reconstruction error:  0.3366160476058927\n",
      "eps_abs = 10.0\n",
      "Elapsed time: 7 sec\n",
      "Time ratio = 1.0011951366165384\n",
      "Flow excess = 4.614613784958489\n",
      "\n",
      "C-error:  0.00027568197518012643\n",
      "sum T before univ:  44.43594494589102\n",
      "sum T  after univ:  44.437450155317194\n",
      "iter of multi-stage num:  9\n",
      "211.35692220019715 -6.88852794588558 7.366364755163295\n",
      "Sinkhorn end, univ start \n",
      "\n",
      "alpha:  211.35692220019715\n",
      "reconstruction error:  0.3496235083184352\n",
      "eps_abs = 10.0\n",
      "Elapsed time: 6 sec\n",
      "Time ratio = 1.0017567863135075\n",
      "Flow excess = 4.146026997708327\n",
      "\n",
      "C-error:  0.0005024198720475754\n",
      "sum T before univ:  44.437450155317194\n",
      "sum T  after univ:  44.44022029885957\n",
      "iter of multi-stage num:  10\n",
      "-1822.4923990758987 211.35692220019715 -6.88852794588558\n"
     ]
    },
    {
     "name": "stderr",
     "output_type": "stream",
     "text": [
      "/Users/kate/PycharmProjects/TransportNet-master/sinkhorn.py:32: RuntimeWarning: overflow encountered in exp\n",
      "  (np.exp(-lambda_W_prev - 1 - cost_matrix)).T\n",
      "/Users/kate/PycharmProjects/TransportNet-master/sinkhorn.py:56: RuntimeWarning: invalid value encountered in subtract\n",
      "  delta = np.linalg.norm(np.concatenate((lambda_Ln - lambda_L,\n",
      "/Users/kate/PycharmProjects/TransportNet-master/sinkhorn.py:33: RuntimeWarning: overflow encountered in true_divide\n",
      "  / self.L, axis=0\n",
      "/usr/local/lib/python3.7/site-packages/numpy/core/fromnumeric.py:90: RuntimeWarning: overflow encountered in reduce\n",
      "  return ufunc.reduce(obj, axis, dtype, out, **passkwargs)\n",
      "/Users/kate/PycharmProjects/TransportNet-master/sinkhorn.py:39: RuntimeWarning: divide by zero encountered in log\n",
      "  / self.W, axis=0\n",
      "/Users/kate/PycharmProjects/TransportNet-master/sinkhorn.py:57: RuntimeWarning: invalid value encountered in subtract\n",
      "  lambda_Wn - lambda_W)))\n",
      "/Users/kate/PycharmProjects/TransportNet-master/sinkhorn.py:68: RuntimeWarning: invalid value encountered in add\n",
      "  er = np.exp(-1 - cost_matrix - (np.reshape(lambda_L, (self.n, 1)) + lambda_W))\n"
     ]
    },
    {
     "name": "stdout",
     "output_type": "stream",
     "text": [
      "Sinkhorn end, univ start \n",
      "\n",
      "alpha:  -1822.4923990758987\n",
      "reconstruction error:  nan\n",
      "eps_abs = 10.0\n"
     ]
    },
    {
     "ename": "ZeroDivisionError",
     "evalue": "division by zero",
     "output_type": "error",
     "traceback": [
      "\u001b[0;31m---------------------------------------------------------------------------\u001b[0m",
      "\u001b[0;31mZeroDivisionError\u001b[0m                         Traceback (most recent call last)",
      "\u001b[0;32m<ipython-input-10-ed7ae4d1b209>\u001b[0m in \u001b[0;36m<module>\u001b[0;34m\u001b[0m\n\u001b[1;32m     70\u001b[0m         result = model.find_equilibrium(solver_name = 'ugd', \n\u001b[1;32m     71\u001b[0m                                         \u001b[0msolver_kwargs\u001b[0m \u001b[0;34m=\u001b[0m \u001b[0msolver_kwargs\u001b[0m\u001b[0;34m,\u001b[0m\u001b[0;34m\u001b[0m\u001b[0;34m\u001b[0m\u001b[0m\n\u001b[0;32m---> 72\u001b[0;31m                                         verbose = False)\n\u001b[0m\u001b[1;32m     73\u001b[0m \u001b[0;34m\u001b[0m\u001b[0m\n\u001b[1;32m     74\u001b[0m     \u001b[0mtoc\u001b[0m \u001b[0;34m=\u001b[0m \u001b[0mtime\u001b[0m\u001b[0;34m.\u001b[0m\u001b[0mtime\u001b[0m\u001b[0;34m(\u001b[0m\u001b[0;34m)\u001b[0m\u001b[0;34m\u001b[0m\u001b[0;34m\u001b[0m\u001b[0m\n",
      "\u001b[0;32m~/PycharmProjects/TransportNet-master/model.py\u001b[0m in \u001b[0;36mfind_equilibrium\u001b[0;34m(self, solver_name, solver_kwargs, verbose)\u001b[0m\n\u001b[1;32m     62\u001b[0m                                  \u001b[0mprimal_dual_calculator\u001b[0m\u001b[0;34m,\u001b[0m\u001b[0;34m\u001b[0m\u001b[0;34m\u001b[0m\u001b[0m\n\u001b[1;32m     63\u001b[0m                                  \u001b[0mt_start\u001b[0m \u001b[0;34m=\u001b[0m \u001b[0mself\u001b[0m\u001b[0;34m.\u001b[0m\u001b[0mgraph\u001b[0m\u001b[0;34m.\u001b[0m\u001b[0mfreeflow_times\u001b[0m\u001b[0;34m,\u001b[0m\u001b[0;34m\u001b[0m\u001b[0;34m\u001b[0m\u001b[0m\n\u001b[0;32m---> 64\u001b[0;31m                                  verbose = verbose, **solver_kwargs)\n\u001b[0m\u001b[1;32m     65\u001b[0m \u001b[0;34m\u001b[0m\u001b[0m\n\u001b[1;32m     66\u001b[0m         \u001b[0;32mreturn\u001b[0m \u001b[0mresult\u001b[0m\u001b[0;34m\u001b[0m\u001b[0;34m\u001b[0m\u001b[0m\n",
      "\u001b[0;32m~/PycharmProjects/TransportNet-master/universal_gradient_descent.py\u001b[0m in \u001b[0;36muniversal_gradient_descent_function\u001b[0;34m(phi_big_oracle, prox_h, primal_dual_oracle, t_start, L_init, max_iter, eps, eps_abs, verbose)\u001b[0m\n\u001b[1;32m     35\u001b[0m \u001b[0;34m\u001b[0m\u001b[0m\n\u001b[1;32m     36\u001b[0m             \u001b[0mphi_grad_t\u001b[0m \u001b[0;34m=\u001b[0m \u001b[0mphi_big_oracle\u001b[0m\u001b[0;34m.\u001b[0m\u001b[0mgrad\u001b[0m\u001b[0;34m(\u001b[0m\u001b[0mt_prev\u001b[0m\u001b[0;34m)\u001b[0m\u001b[0;34m\u001b[0m\u001b[0;34m\u001b[0m\u001b[0m\n\u001b[0;32m---> 37\u001b[0;31m             \u001b[0mt\u001b[0m \u001b[0;34m=\u001b[0m \u001b[0mprox_h\u001b[0m\u001b[0;34m(\u001b[0m\u001b[0mt_prev\u001b[0m \u001b[0;34m-\u001b[0m \u001b[0malpha\u001b[0m \u001b[0;34m*\u001b[0m \u001b[0mphi_grad_t\u001b[0m\u001b[0;34m,\u001b[0m \u001b[0malpha\u001b[0m\u001b[0;34m)\u001b[0m\u001b[0;34m\u001b[0m\u001b[0;34m\u001b[0m\u001b[0m\n\u001b[0m\u001b[1;32m     38\u001b[0m \u001b[0;34m\u001b[0m\u001b[0m\n\u001b[1;32m     39\u001b[0m             \u001b[0;32mif\u001b[0m \u001b[0mit_counter\u001b[0m \u001b[0;34m==\u001b[0m \u001b[0;36m1\u001b[0m \u001b[0;32mand\u001b[0m \u001b[0minner_iters_num\u001b[0m \u001b[0;34m==\u001b[0m \u001b[0;36m1\u001b[0m\u001b[0;34m:\u001b[0m\u001b[0;34m\u001b[0m\u001b[0;34m\u001b[0m\u001b[0m\n",
      "\u001b[0;32m~/PycharmProjects/TransportNet-master/prox_h.py\u001b[0m in \u001b[0;36m__call__\u001b[0;34m(self, point, A, u_start)\u001b[0m\n\u001b[1;32m     58\u001b[0m         x = newton(x_0_arr = (point - self.freeflowtimes) / (self.rho_value * self.freeflowtimes),\n\u001b[1;32m     59\u001b[0m                    \u001b[0ma_arr\u001b[0m \u001b[0;34m=\u001b[0m \u001b[0mA\u001b[0m \u001b[0;34m*\u001b[0m \u001b[0mself\u001b[0m\u001b[0;34m.\u001b[0m\u001b[0mcapacities\u001b[0m \u001b[0;34m/\u001b[0m \u001b[0;34m(\u001b[0m\u001b[0mself\u001b[0m\u001b[0;34m.\u001b[0m\u001b[0mrho_value\u001b[0m \u001b[0;34m*\u001b[0m \u001b[0mself\u001b[0m\u001b[0;34m.\u001b[0m\u001b[0mfreeflowtimes\u001b[0m\u001b[0;34m)\u001b[0m\u001b[0;34m,\u001b[0m\u001b[0;34m\u001b[0m\u001b[0;34m\u001b[0m\u001b[0m\n\u001b[0;32m---> 60\u001b[0;31m                    mu = self.mu_value)\n\u001b[0m\u001b[1;32m     61\u001b[0m         \u001b[0margmin\u001b[0m \u001b[0;34m=\u001b[0m \u001b[0;34m(\u001b[0m\u001b[0;36m1\u001b[0m \u001b[0;34m+\u001b[0m \u001b[0mself\u001b[0m\u001b[0;34m.\u001b[0m\u001b[0mrho_value\u001b[0m \u001b[0;34m*\u001b[0m \u001b[0mx\u001b[0m\u001b[0;34m)\u001b[0m \u001b[0;34m*\u001b[0m \u001b[0mself\u001b[0m\u001b[0;34m.\u001b[0m\u001b[0mfreeflowtimes\u001b[0m\u001b[0;34m\u001b[0m\u001b[0;34m\u001b[0m\u001b[0m\n\u001b[1;32m     62\u001b[0m         \u001b[0;31m#print('my result argmin = ' + str(argmin))\u001b[0m\u001b[0;34m\u001b[0m\u001b[0;34m\u001b[0m\u001b[0;34m\u001b[0m\u001b[0m\n",
      "\u001b[0;31mZeroDivisionError\u001b[0m: division by zero"
     ]
    }
   ],
   "source": [
    "np.set_printoptions(formatter={'all':lambda x: str(x)})\n",
    "multistage_er = np.inf\n",
    "eps = 10**(-5)\n",
    "multistage_er_list = []\n",
    "result_history = []\n",
    "best_reconstruction_error_history = []\n",
    "multi_stage_i = 0\n",
    "\n",
    "T_orig = T\n",
    "T_prev = None\n",
    "T = None\n",
    "alpha = None\n",
    "alpha_prev = None\n",
    "alpha_prev_prev = None\n",
    "buf = None\n",
    "\n",
    "best_matrix = None\n",
    "min_reconstruction_error = np.inf\n",
    "er_list = []\n",
    "alpha_list = []\n",
    "time_ratio_list = []\n",
    "flow_excess_list = []\n",
    "\n",
    "num_iter = 2500  # for sink\n",
    "max_iter = 1 # for univ\n",
    "\n",
    "while multistage_er > eps or multi_stage_i < 13:\n",
    "    print('iter of multi-stage num: ', multi_stage_i)\n",
    "    \n",
    "    multistage_er = None\n",
    "    \n",
    "    s = skh.Sinkhorn(n, L, W, people_num, num_iter, eps)\n",
    "    \n",
    "    alpha = count_alpha(multi_stage_i, T, T_prev, T_orig, alpha_prev, alpha_prev_prev)\n",
    "    alpha_list.append(alpha)\n",
    "    print(alpha, alpha_prev, alpha_prev_prev)\n",
    "    \n",
    "    T_prev = T\n",
    "    buf = alpha_prev\n",
    "    alpha_prev = alpha\n",
    "    alpha_prev_prev = buf\n",
    "    \n",
    "    if multi_stage_i == 0: \n",
    "        cost_matrix = np.nan_to_num( alpha * T_orig, nan=100)\n",
    "    else:\n",
    "        cost_matrix = np.nan_to_num( alpha * T, nan=100)\n",
    "    \n",
    "    rec = s.iterate(cost_matrix)    \n",
    "    er = np.linalg.norm(rec - np.nan_to_num(correspondence_matrix, nan=0.0))\n",
    "    er = np.sqrt(er / np.sum (np.nan_to_num(correspondence_matrix, nan=0.0)))\n",
    "    er_list.append(er)\n",
    "\n",
    "    best_matrix = rec\n",
    "    \n",
    "    best_correcpondences_dict = handler.from_cor_matrix_to_dict(best_matrix)\n",
    "    \n",
    "    print('Sinkhorn end, univ start \\n')\n",
    "    print('alpha: ', alpha)\n",
    "    print('reconstruction error: ', er)\n",
    "\n",
    "    model = md.Model(graph_data, best_correcpondences_dict, \n",
    "                     total_od_flow, mu = 0.25, rho = 0.15) # B, for stable D mu=0.0\n",
    "    \n",
    "    for i, eps_abs in enumerate(np.logspace(1,3,1)):\n",
    "        \n",
    "        print('eps_abs =', eps_abs)\n",
    "        solver_kwargs = {'eps_abs': eps_abs,\n",
    "                         'max_iter': max_iter}\n",
    "        tic = time.time()\n",
    "        result = model.find_equilibrium(solver_name = 'ugd', \n",
    "                                        solver_kwargs = solver_kwargs, \n",
    "                                        verbose = False)\n",
    "        \n",
    "    toc = time.time()\n",
    "    print('Elapsed time: {:.0f} sec'.format(toc - tic))\n",
    "    print('Time ratio =', np.max(result\n",
    "                                    ['times'] / graph_data['graph_table']\n",
    "                                    ['Free Flow Time']))\n",
    "    \n",
    "    time_ratio_list.append(np.max(result\n",
    "                                    ['times'] / graph_data['graph_table']\n",
    "                                    ['Free Flow Time']))\n",
    "\n",
    "    print('Flow excess =', np.max(result\n",
    "                                    ['flows'] / graph_data['graph_table']\n",
    "                                    ['Capacity']) - 1, end = '\\n\\n')\n",
    "    \n",
    "    flow_excess_list.append(np.max(result\n",
    "                                    ['flows'] / graph_data['graph_table']\n",
    "                                    ['Capacity']) - 1)\n",
    "    \n",
    "    multistage_er = np.linalg.norm(graph_data['graph_table']\n",
    "                                           ['Free Flow Time'].as_matrix()\n",
    "                                - result['times'])\n",
    "    \n",
    "    print('C-error: ' , multistage_er)\n",
    "    multistage_er_list.append(multistage_er)\n",
    "    result_history.append(result)\n",
    "    \n",
    "    graph_data['graph_table']['Free Flow Time'] = result['times']\n",
    "    \n",
    "    print('sum T before univ: ', np.sum(np.nan_to_num(T, nan=0.0)))\n",
    "    T = handler.create_C(graph_data['graph_table'], \n",
    "                         n, column_name='Free Flow Time')\n",
    "    print('sum T  after univ: ', np.sum(np.nan_to_num(T, nan=0.0)))\n",
    "    \n",
    "    multi_stage_i += 1"
   ]
  },
  {
   "cell_type": "code",
   "execution_count": 11,
   "metadata": {},
   "outputs": [
    {
     "data": {
      "text/plain": [
       "[5.808926170432106,\n",
       " 5.809278518374841,\n",
       " 5.808573840342442,\n",
       " 5.810688365604161,\n",
       " 5.802229079007043,\n",
       " 5.844527676632548,\n",
       " 5.590710158875926,\n",
       " 7.366364755163295,\n",
       " -6.88852794588558,\n",
       " 211.35692220019715,\n",
       " -1822.4923990758987]"
      ]
     },
     "execution_count": 11,
     "metadata": {},
     "output_type": "execute_result"
    }
   ],
   "source": [
    "alpha_list"
   ]
  },
  {
   "cell_type": "code",
   "execution_count": 12,
   "metadata": {},
   "outputs": [
    {
     "data": {
      "text/plain": [
       "[0.0005088827424160384,\n",
       " 0.000508902368603328,\n",
       " 0.0005087287850191887,\n",
       " 0.0005087451472379557,\n",
       " 0.0005087808179353252,\n",
       " 0.0005087237376002315,\n",
       " 0.0005092114657886757,\n",
       " 0.0005061537034071634,\n",
       " 0.00027568197518012643,\n",
       " 0.0005024198720475754]"
      ]
     },
     "execution_count": 12,
     "metadata": {},
     "output_type": "execute_result"
    }
   ],
   "source": [
    "multistage_er_list"
   ]
  },
  {
   "cell_type": "code",
   "execution_count": 14,
   "metadata": {},
   "outputs": [
    {
     "name": "stdout",
     "output_type": "stream",
     "text": [
      "11 10\n"
     ]
    },
    {
     "data": {
      "image/png": "[encoded data removed]",
      "text/plain": [
       "<Figure size 720x576 with 1 Axes>"
      ]
     },
     "metadata": {
      "needs_background": "light"
     },
     "output_type": "display_data"
    },
    {
     "data": {
      "image/png": "[encoded data removed]",
      "text/plain": [
       "<Figure size 432x288 with 1 Axes>"
      ]
     },
     "metadata": {
      "needs_background": "light"
     },
     "output_type": "display_data"
    }
   ],
   "source": [
    "print(len(alpha_list), len(multistage_er_list) )\n",
    "fig = plt.figure(figsize=(10, 8))\n",
    "plt.figure(1)\n",
    "plt.subplot(211)\n",
    "plt.scatter(range(len(multistage_er_list)), multistage_er_list)\n",
    "plt.ylabel('multistage_er (C* - C_reconstruct)')\n",
    "plt.xlabel('iteration num')\n",
    "# plt.ylim(0, 0.0005)\n",
    "# fig.savefig('KEV_res/multistage_er.png')\n",
    "plt.figure(2)\n",
    "plt.subplot(212)\n",
    "plt.scatter(range(len(er_list)), er_list)\n",
    "plt.ylabel('corr matrix reconstruction error')\n",
    "plt.xlabel('iteration num')\n",
    "plt.show()\n",
    "# fig.savefig('KEV_res/sink_reconstruct_er.png')"
   ]
  },
  {
   "cell_type": "code",
   "execution_count": null,
   "metadata": {},
   "outputs": [],
   "source": [
    "er_list"
   ]
  },
  {
   "cell_type": "code",
   "execution_count": null,
   "metadata": {},
   "outputs": [],
   "source": [
    "print(len(alpha_list), len(er_list))\n",
    "fig = plt.figure(figsize=(10, 8))\n",
    "plt.scatter(range(len(er_list)), er_list)\n",
    "plt.ylabel('reconstruction error')\n",
    "plt.xlabel('iteration num')\n",
    "plt.show()\n",
    "# fig.savefig('KEV_res/multi-stage-2-' + str(alpha) + \n",
    "#             'corr matrix reconstruction error' + '.png')"
   ]
  },
  {
   "cell_type": "raw",
   "metadata": {},
   "source": [
    "print(len(alpha_list), len(time_ratio_list) )\n",
    "fig = plt.figure(figsize=(10, 8))\n",
    "plt.scatter(range(len(time_ratio_list)), time_ratio_list)\n",
    "plt.ylabel('time_ratio')\n",
    "plt.xlabel('alpha')\n",
    "plt.show()\n",
    "# fig.savefig('KEV_res/multi-stage-2-' + str(alpha) + \n",
    "#             'time ratio' + '.png')"
   ]
  },
  {
   "cell_type": "raw",
   "metadata": {},
   "source": [
    "print(len(alpha_list), len(flow_excess_list) )\n",
    "fig = plt.figure(figsize=(10, 8))\n",
    "plt.scatter(alpha_list[:-1], flow_excess_list)\n",
    "plt.ylabel('flow_excess')\n",
    "plt.xlabel('alpha')\n",
    "plt.show()\n",
    "# fig.savefig('KEV_res/multi-stage-2-' + str(alpha) + \n",
    "#             'flow_excess' + '.png')"
   ]
  },
  {
   "cell_type": "raw",
   "metadata": {},
   "source": [
    "duality_gap_history = []\n",
    "for result in result_history:\n",
    "    duality_gap_history.append(result['duality_gap_history'][0])\n",
    "    \n",
    "print(len(alpha_list), len(duality_gap_history) )\n",
    "fig = plt.figure(figsize=(10, 8))\n",
    "plt.scatter(alpha_list[:-1], duality_gap_history)\n",
    "plt.ylabel('duality_gap_history')\n",
    "plt.xlabel('alpha')\n",
    "# plt.xlim(0, 10)\n",
    "plt.show()"
   ]
  },
  {
   "cell_type": "code",
   "execution_count": null,
   "metadata": {},
   "outputs": [],
   "source": []
  }
 ],
 "metadata": {
  "kernelspec": {
   "display_name": "Python 3",
   "language": "python",
   "name": "python3"
  },
  "language_info": {
   "codemirror_mode": {
    "name": "ipython",
    "version": 3
   },
   "file_extension": ".py",
   "mimetype": "text/x-python",
   "name": "python",
   "nbconvert_exporter": "python",
   "pygments_lexer": "ipython3",
   "version": "3.7.7"
  }
 },
 "nbformat": 4,
 "nbformat_minor": 2
}
