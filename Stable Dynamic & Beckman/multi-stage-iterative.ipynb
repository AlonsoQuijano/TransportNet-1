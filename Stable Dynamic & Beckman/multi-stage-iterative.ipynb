{
 "cells": [
  {
   "cell_type": "code",
   "execution_count": 2,
   "metadata": {},
   "outputs": [],
   "source": [
    "import warnings\n",
    "warnings.simplefilter(action='ignore', category=FutureWarning)\n",
    "\n",
    "import pandas as pd\n",
    "import numpy as np\n",
    "import matplotlib.pyplot as plt\n",
    "from matplotlib import rc\n",
    "import tensorflow as tf\n",
    "import tensorflow.distributions\n",
    "from tensorflow.distributions import Dirichlet, Multinomial\n",
    "from scipy.stats import entropy\n",
    "import matplotlib.pyplot as plt\n",
    "from mpl_toolkits.mplot3d import axes3d, Axes3D\n",
    "np.set_printoptions(suppress=True)\n",
    "\n",
    "import data_handler as dh\n",
    "import sinkhorn as skh\n",
    "import oracles as oracle\n",
    "import model as md\n",
    "import time\n",
    "import pickle\n",
    "\n",
    "import os"
   ]
  },
  {
   "cell_type": "code",
   "execution_count": 3,
   "metadata": {},
   "outputs": [
    {
     "data": {
      "text/plain": [
       "'1.18.2'"
      ]
     },
     "execution_count": 3,
     "metadata": {},
     "output_type": "execute_result"
    }
   ],
   "source": [
    "np.version.version"
   ]
  },
  {
   "cell_type": "raw",
   "metadata": {},
   "source": [
    "for i, eps_abs in enumerate(np.logspace(1,3,5)):\n",
    "    print(eps_abs)"
   ]
  },
  {
   "cell_type": "code",
   "execution_count": 4,
   "metadata": {},
   "outputs": [],
   "source": [
    "net_name = 'data/EMA_net.tntp'\n",
    "trips_name = 'data/EMA_trips.tntp'\n",
    "\n",
    "handler = dh.DataHandler()\n",
    "graph_data = handler.GetGraphData(net_name, columns_order = np.array([0, 1, 2, 3, 4]))\n",
    "# graph_data['graph_table']['Capacity'] = 2.5 * graph_data['graph_table']['Capacity']\n",
    "\n",
    "graph_correspondences, total_od_flow = handler.GetGraphCorrespondences(trips_name)\n",
    "\n",
    "graph_data['graph_table'].head()\n",
    "n = np.max(graph_data['graph_table']['Init node'].as_matrix())"
   ]
  },
  {
   "cell_type": "code",
   "execution_count": 5,
   "metadata": {},
   "outputs": [
    {
     "data": {
      "text/html": [
       "<div>\n",
       "<style scoped>\n",
       "    .dataframe tbody tr th:only-of-type {\n",
       "        vertical-align: middle;\n",
       "    }\n",
       "\n",
       "    .dataframe tbody tr th {\n",
       "        vertical-align: top;\n",
       "    }\n",
       "\n",
       "    .dataframe thead th {\n",
       "        text-align: right;\n",
       "    }\n",
       "</style>\n",
       "<table border=\"1\" class=\"dataframe\">\n",
       "  <thead>\n",
       "    <tr style=\"text-align: right;\">\n",
       "      <th></th>\n",
       "      <th>Init node</th>\n",
       "      <th>Term node</th>\n",
       "      <th>Capacity</th>\n",
       "      <th>length</th>\n",
       "      <th>Free Flow Time</th>\n",
       "    </tr>\n",
       "  </thead>\n",
       "  <tbody>\n",
       "    <tr>\n",
       "      <th>0</th>\n",
       "      <td>1</td>\n",
       "      <td>3</td>\n",
       "      <td>4938.061523</td>\n",
       "      <td>16.106817</td>\n",
       "      <td>0.238965</td>\n",
       "    </tr>\n",
       "    <tr>\n",
       "      <th>1</th>\n",
       "      <td>3</td>\n",
       "      <td>1</td>\n",
       "      <td>5254.128418</td>\n",
       "      <td>16.057131</td>\n",
       "      <td>0.240297</td>\n",
       "    </tr>\n",
       "    <tr>\n",
       "      <th>2</th>\n",
       "      <td>1</td>\n",
       "      <td>7</td>\n",
       "      <td>7309.824707</td>\n",
       "      <td>16.058741</td>\n",
       "      <td>0.222813</td>\n",
       "    </tr>\n",
       "    <tr>\n",
       "      <th>3</th>\n",
       "      <td>7</td>\n",
       "      <td>1</td>\n",
       "      <td>7388.626953</td>\n",
       "      <td>15.865263</td>\n",
       "      <td>0.218902</td>\n",
       "    </tr>\n",
       "    <tr>\n",
       "      <th>4</th>\n",
       "      <td>1</td>\n",
       "      <td>9</td>\n",
       "      <td>1164.374878</td>\n",
       "      <td>17.455400</td>\n",
       "      <td>0.402046</td>\n",
       "    </tr>\n",
       "  </tbody>\n",
       "</table>\n",
       "</div>"
      ],
      "text/plain": [
       "   Init node  Term node     Capacity     length  Free Flow Time\n",
       "0          1          3  4938.061523  16.106817        0.238965\n",
       "1          3          1  5254.128418  16.057131        0.240297\n",
       "2          1          7  7309.824707  16.058741        0.222813\n",
       "3          7          1  7388.626953  15.865263        0.218902\n",
       "4          1          9  1164.374878  17.455400        0.402046"
      ]
     },
     "execution_count": 5,
     "metadata": {},
     "output_type": "execute_result"
    }
   ],
   "source": [
    "graph_data['graph_table'].head()"
   ]
  },
  {
   "cell_type": "code",
   "execution_count": 6,
   "metadata": {},
   "outputs": [],
   "source": [
    "graph_data['graph_table']['Orig Free Flow Time'] = graph_data['graph_table']['Free Flow Time']"
   ]
  },
  {
   "cell_type": "code",
   "execution_count": 7,
   "metadata": {},
   "outputs": [
    {
     "data": {
      "text/html": [
       "<div>\n",
       "<style scoped>\n",
       "    .dataframe tbody tr th:only-of-type {\n",
       "        vertical-align: middle;\n",
       "    }\n",
       "\n",
       "    .dataframe tbody tr th {\n",
       "        vertical-align: top;\n",
       "    }\n",
       "\n",
       "    .dataframe thead th {\n",
       "        text-align: right;\n",
       "    }\n",
       "</style>\n",
       "<table border=\"1\" class=\"dataframe\">\n",
       "  <thead>\n",
       "    <tr style=\"text-align: right;\">\n",
       "      <th></th>\n",
       "      <th>Init node</th>\n",
       "      <th>Term node</th>\n",
       "      <th>Capacity</th>\n",
       "      <th>length</th>\n",
       "      <th>Free Flow Time</th>\n",
       "      <th>Orig Free Flow Time</th>\n",
       "    </tr>\n",
       "  </thead>\n",
       "  <tbody>\n",
       "    <tr>\n",
       "      <th>0</th>\n",
       "      <td>1</td>\n",
       "      <td>3</td>\n",
       "      <td>4938.061523</td>\n",
       "      <td>16.106817</td>\n",
       "      <td>0.238965</td>\n",
       "      <td>0.238965</td>\n",
       "    </tr>\n",
       "    <tr>\n",
       "      <th>2</th>\n",
       "      <td>1</td>\n",
       "      <td>7</td>\n",
       "      <td>7309.824707</td>\n",
       "      <td>16.058741</td>\n",
       "      <td>0.222813</td>\n",
       "      <td>0.222813</td>\n",
       "    </tr>\n",
       "    <tr>\n",
       "      <th>4</th>\n",
       "      <td>1</td>\n",
       "      <td>9</td>\n",
       "      <td>1164.374878</td>\n",
       "      <td>17.455400</td>\n",
       "      <td>0.402046</td>\n",
       "      <td>0.402046</td>\n",
       "    </tr>\n",
       "  </tbody>\n",
       "</table>\n",
       "</div>"
      ],
      "text/plain": [
       "   Init node  Term node     Capacity     length  Free Flow Time  \\\n",
       "0          1          3  4938.061523  16.106817        0.238965   \n",
       "2          1          7  7309.824707  16.058741        0.222813   \n",
       "4          1          9  1164.374878  17.455400        0.402046   \n",
       "\n",
       "   Orig Free Flow Time  \n",
       "0             0.238965  \n",
       "2             0.222813  \n",
       "4             0.402046  "
      ]
     },
     "execution_count": 7,
     "metadata": {},
     "output_type": "execute_result"
    }
   ],
   "source": [
    "df = graph_data['graph_table']\n",
    "df[df['Init node'] == 1].head()"
   ]
  },
  {
   "cell_type": "code",
   "execution_count": 8,
   "metadata": {},
   "outputs": [
    {
     "data": {
      "text/plain": [
       "(258, 6)"
      ]
     },
     "execution_count": 8,
     "metadata": {},
     "output_type": "execute_result"
    }
   ],
   "source": [
    "df.shape"
   ]
  },
  {
   "cell_type": "code",
   "execution_count": 9,
   "metadata": {},
   "outputs": [
    {
     "name": "stdout",
     "output_type": "stream",
     "text": [
      "people_num:  65576.37543100001\n"
     ]
    }
   ],
   "source": [
    "correspondence_matrix = handler.from_dict_to_cor_matr(graph_correspondences, n)\n",
    "# T = handler.create_C(df, n, column_name='Free Flow Time')\n",
    "# C = handler.create_C(df, n, column_name='length')\n",
    "\n",
    "T = handler.get_T_from_shortest_distances(n, graph_data)\n",
    "\n",
    "# np.savetxt('data/T.csv', T, delimiter=',')\n",
    "\n",
    "L = np.nansum(correspondence_matrix, axis=1)\n",
    "W = np.nansum(correspondence_matrix, axis=0)\n",
    "\n",
    "people_num = np.nansum(L)\n",
    "\n",
    "L = handler.distributor_L_W(L)\n",
    "W = handler.distributor_L_W(W)\n",
    "\n",
    "L = L / np.nansum(L)\n",
    "W = W / np.nansum(W)\n",
    "\n",
    "print('people_num: ', people_num)"
   ]
  },
  {
   "cell_type": "code",
   "execution_count": 10,
   "metadata": {},
   "outputs": [
    {
     "data": {
      "text/plain": [
       "0.22281299531459808"
      ]
     },
     "execution_count": 10,
     "metadata": {},
     "output_type": "execute_result"
    }
   ],
   "source": [
    "T[0][6]"
   ]
  },
  {
   "cell_type": "markdown",
   "metadata": {},
   "source": [
    "##### Запускаем Синхорна-Универсальный"
   ]
  },
  {
   "cell_type": "raw",
   "metadata": {},
   "source": [
    "def count_alpha(i, T, T_prev, T_orig, alpha_prev, alpha_prev_prev):\n",
    "    alpha = None\n",
    "    C_star = np.nanmean(T_orig)\n",
    "    \n",
    "    if i == 0:\n",
    "        alpha = 1 / C_star\n",
    "        return alpha\n",
    "    \n",
    "    C_m = np.nanmean(T)\n",
    "    if i == 1:\n",
    "        alpha = (alpha_prev * C_m) / C_star\n",
    "        return alpha\n",
    "    \n",
    "    C_m_prev = np.nanmean(T_prev)\n",
    "    alpha = ( (C_star - C_m_prev) * alpha_prev + \n",
    "             (C_m - C_star) * alpha_prev_prev ) / (C_m - C_m_prev)\n",
    "    return alpha"
   ]
  },
  {
   "cell_type": "raw",
   "metadata": {},
   "source": [
    "T_orig = T\n",
    "T_prev = None\n",
    "T = None\n",
    "alpha_prev = None\n",
    "alpha_prev_prev = None\n",
    "buf = None\n",
    "\n",
    "for i in range(0, 10):\n",
    "    \n",
    "    T = T_orig + np.random.uniform(-10, 10, 1)\n",
    "    alpha = count_alpha(i, T, T_prev, T_orig, alpha_prev, alpha_prev_prev)\n",
    "    \n",
    "    print(alpha, alpha_prev, alpha_prev_prev)\n",
    "    \n",
    "    T_prev = T\n",
    "    buf = alpha_prev\n",
    "    alpha_prev = alpha\n",
    "    alpha_prev_prev = buf\n"
   ]
  },
  {
   "cell_type": "code",
   "execution_count": 12,
   "metadata": {
    "scrolled": true
   },
   "outputs": [
    {
     "name": "stdout",
     "output_type": "stream",
     "text": [
      "iter:  0\n",
      "Sinkhorn end, univ start \n",
      "\n",
      "eps_abs = 10.0\n",
      "Elapsed time: 2182 sec\n"
     ]
    }
   ],
   "source": [
    "np.set_printoptions(formatter={'all':lambda x: str(x)})\n",
    "T_d = np.inf\n",
    "eps = 10**(-5)\n",
    "T_d_list = []\n",
    "result_history = []\n",
    "best_reconstruction_error_history = []\n",
    "multi_stage_i = 0\n",
    "\n",
    "T_orig = handler.get_T_from_shortest_distances(n, graph_data)\n",
    "T_prev = np.copy(T_orig)\n",
    "T = np.copy(T_orig)\n",
    "alpha = 2.5402\n",
    "\n",
    "best_matrix = None\n",
    "min_reconstruction_error = np.inf\n",
    "rec_list = []\n",
    "# alpha_list = []\n",
    "time_ratio_list = []\n",
    "flow_excess_list = []\n",
    "\n",
    "num_iter = 2500  # for sink\n",
    "max_iter = 5000  # for univ\n",
    "\n",
    "\n",
    "lambda_L = np.full((n, ), 0.0, dtype=np.double)\n",
    "lambda_W = np.full((n, ), 0.0, dtype=np.double)\n",
    "\n",
    "s = skh.Sinkhorn(n, L, W, people_num, num_iter, eps)\n",
    "\n",
    "while multi_stage_i < 30:\n",
    "    \n",
    "    print('iter: ', multi_stage_i)\n",
    "    \n",
    "    if multi_stage_i == 0: \n",
    "        cost_matrix = np.nan_to_num(alpha * T_orig, nan=100)\n",
    "    else:\n",
    "        cost_matrix = np.nan_to_num(alpha * T, nan=100)\n",
    "        \n",
    "    rec, lambda_L, lambda_W = s.iterate(cost_matrix, lambda_L, lambda_W)\n",
    "    \n",
    "    print('Sinkhorn end, univ start \\n')\n",
    "    \n",
    "    \n",
    "    best_correcpondences_dict = handler.from_cor_matrix_to_dict(rec)\n",
    "\n",
    "    model = md.Model(graph_data, best_correcpondences_dict, \n",
    "                     total_od_flow, mu = 0.25, rho = 0.15) # B, for stable D mu=0.0\n",
    "    \n",
    "    for i, eps_abs in enumerate(np.logspace(1,3,1)):\n",
    "        \n",
    "        print('eps_abs =', eps_abs)\n",
    "        solver_kwargs = {'eps_abs': eps_abs,\n",
    "                         'max_iter': max_iter,\n",
    "                         'multistage_i': multi_stage_i}\n",
    "        tic = time.time()\n",
    "        result = model.find_equilibrium(solver_name = 'ugd', \n",
    "                                        solver_kwargs = solver_kwargs, \n",
    "                                        verbose = False)\n",
    "        \n",
    "    toc = time.time()\n",
    "    print('Elapsed time: {:.0f} sec'.format(toc - tic))\n",
    "    \n",
    "    result_history.append(result)\n",
    "    \n",
    "    graph_data['graph_table']['Free Flow Time'] = result['times']\n",
    "    T = handler.get_T_from_shortest_distances(n, graph_data)\n",
    "    \n",
    "    flows = result['flows']\n",
    "    \n",
    "    multi_stage_i += 1\n",
    "    break;"
   ]
  },
  {
   "cell_type": "markdown",
   "metadata": {},
   "source": [
    "##### vizualization!"
   ]
  },
  {
   "cell_type": "raw",
   "metadata": {},
   "source": [
    "one iteration of old-way: 2182 sec\n",
    "one iteration of new-way: 16 sec\n",
    "\n",
    "--> 136 iterations of new way == 1 big iteration of old-way (5000 little)"
   ]
  },
  {
   "cell_type": "code",
   "execution_count": 82,
   "metadata": {},
   "outputs": [
    {
     "name": "stdout",
     "output_type": "stream",
     "text": [
      "136.375\n",
      "103.9047619047619\n",
      "83.92307692307692\n",
      "70.38709677419355\n",
      "60.611111111111114\n",
      "53.21951219512195\n",
      "47.43478260869565\n",
      "42.78431372549019\n",
      "38.964285714285715\n",
      "35.77049180327869\n",
      "33.06060606060606\n",
      "30.732394366197184\n",
      "28.710526315789473\n",
      "26.938271604938272\n",
      "25.372093023255815\n",
      "23.978021978021978\n",
      "22.729166666666668\n",
      "21.603960396039604\n",
      "20.58490566037736\n",
      "19.65765765765766\n",
      "18.810344827586206\n",
      "18.03305785123967\n",
      "17.317460317460316\n",
      "16.65648854961832\n",
      "16.044117647058822\n",
      "15.47517730496454\n",
      "14.945205479452055\n",
      "14.450331125827814\n",
      "13.987179487179487\n",
      "13.5527950310559\n"
     ]
    }
   ],
   "source": [
    "x_0 = 16\n",
    "s = 0\n",
    "nums = 0\n",
    "for i in range(0, 30):\n",
    "    nums = 2182 / x_0\n",
    "    x_0 += 5\n",
    "    print(nums)\n",
    "    s += nums"
   ]
  },
  {
   "cell_type": "code",
   "execution_count": 81,
   "metadata": {},
   "outputs": [
    {
     "data": {
      "text/plain": [
       "1086.0141941110087"
      ]
     },
     "execution_count": 81,
     "metadata": {},
     "output_type": "execute_result"
    }
   ],
   "source": [
    "s"
   ]
  },
  {
   "cell_type": "markdown",
   "metadata": {},
   "source": [
    "##### lists for iterative case"
   ]
  },
  {
   "cell_type": "code",
   "execution_count": 45,
   "metadata": {},
   "outputs": [],
   "source": [
    "flows_w_d = []\n",
    "rec_d = []\n",
    "t_d = []\n",
    "\n",
    "flows_10  = np.loadtxt('KEV_res//iter_arrays//flows//' + str(29) + \n",
    "                                    '//' + str(max_iter) + '.txt')    \n",
    "times_10 = np.loadtxt('KEV_res//iter_arrays/times//' + str(29) + \n",
    "                                    '//' + str(max_iter) + '.txt')\n",
    "\n",
    "for i in range(0, 30):\n",
    "    for j in range(1, max_iter):\n",
    "        flows_weighted = np.loadtxt('KEV_res//iter_arrays//flows//' + str(i) + \n",
    "                                    '//' + str(j) + '.txt')\n",
    "        t = np.loadtxt('KEV_res//iter_arrays/times//' + str(i) + \n",
    "                                    '//' + str(j) + '.txt')\n",
    "        flows_w_d.append(np.linalg.norm(flows_10 - flows_weighted))\n",
    "        t_d.append(np.linalg.norm(times_10 - t))"
   ]
  },
  {
   "cell_type": "code",
   "execution_count": 46,
   "metadata": {},
   "outputs": [
    {
     "data": {
      "text/plain": [
       "149970"
      ]
     },
     "execution_count": 46,
     "metadata": {},
     "output_type": "execute_result"
    }
   ],
   "source": [
    "len(t_d)"
   ]
  },
  {
   "cell_type": "code",
   "execution_count": 17,
   "metadata": {},
   "outputs": [],
   "source": [
    "n = 10000\n",
    "\n",
    "corr_10_nw  = np.loadtxt('KEV_res//arrays//corrs//' + str(n) + '.txt')\n",
    "flows_10_nw = np.loadtxt('KEV_res//arrays//flows//' + str(n) + '.txt')\n",
    "times_10_nw = np.loadtxt('KEV_res//arrays/times//'  + str(n) + '.txt')\n",
    "\n",
    "flows_w_d_nw = []\n",
    "t_d_nw = []\n",
    "\n",
    "\n",
    "for i in range(1, n):\n",
    "    flows_weighted_nw = np.loadtxt('KEV_res//arrays//flows//' + str(i) + '.txt')\n",
    "    rec_nw = np.loadtxt('KEV_res//arrays//corrs//' + str(i) + '.txt')\n",
    "    t_nw = np.loadtxt('KEV_res//arrays/times//' + str(i) + '.txt')\n",
    "    \n",
    "    flows_w_d_nw.append(np.linalg.norm(flows_10_nw - flows_weighted_nw))\n",
    "    t_d_nw.append(np.linalg.norm(times_10_nw - t_nw))"
   ]
  },
  {
   "cell_type": "code",
   "execution_count": 74,
   "metadata": {},
   "outputs": [],
   "source": [
    "X_os_nw = []\n",
    "x_0 = 17.65\n",
    "for i in range(9999):\n",
    "    X_os_nw.append(x_0)\n",
    "    x_0 += 5\n",
    "\n",
    "X_os_iw = []\n",
    "x_0 = 2182\n",
    "\n",
    "for i in range(30):\n",
    "    X_os_iw.append(x_0)\n",
    "    x_0 += 2182"
   ]
  },
  {
   "cell_type": "code",
   "execution_count": 75,
   "metadata": {},
   "outputs": [
    {
     "data": {
      "text/plain": [
       "(9999, 30, 9999)"
      ]
     },
     "execution_count": 75,
     "metadata": {},
     "output_type": "execute_result"
    }
   ],
   "source": [
    "len(X_os_nw), len(X_os_iw), len(flows_w_d_nw)"
   ]
  },
  {
   "cell_type": "code",
   "execution_count": 79,
   "metadata": {},
   "outputs": [
    {
     "name": "stdout",
     "output_type": "stream",
     "text": [
      "30 30 30\n"
     ]
    },
    {
     "data": {
      "image/png": "[encoded data removed]",
      "text/plain": [
       "<Figure size 720x576 with 1 Axes>"
      ]
     },
     "metadata": {
      "needs_background": "light"
     },
     "output_type": "display_data"
    }
   ],
   "source": [
    "print(len(t_d_nw[::334]),\n",
    "len(np.arange(0, 30, 1)),\n",
    "len(t_d[::5000]))\n",
    "\n",
    "fig = plt.figure(figsize=(10, 8)) \n",
    "plt.scatter(X_os_nw, t_d_nw, color='r', label='new way')\n",
    "plt.scatter(X_os_iw, t_d[::5000], color='b', label='iterative way')\n",
    "# plt.scatter(range(len(t_d)), flows_w_d, color='b', label='iterative way')\n",
    "plt.title('Каждое 333-е полученное значение нового метода и каждое 5000-е итеративного')\n",
    "plt.ylabel('2-норма потоки полученные на i=5000 на 30-й итерации - время i')\n",
    "plt.xlabel('Время в секундах')\n",
    "plt.legend()\n",
    "# plt.xlim(27.5, 30.0)\n",
    "# plt.ylim(0, 200)\n",
    "plt.show()\n",
    "# fig.savefig('KEV_res/iterative pics/flows_w_150000 \\\n",
    "#             - flows_w_prev, COMPARE, flows_w_10000 - flows_w_prev, zoom.png')"
   ]
  },
  {
   "cell_type": "markdown",
   "metadata": {},
   "source": [
    "##### lists for new-way-case"
   ]
  },
  {
   "cell_type": "code",
   "execution_count": null,
   "metadata": {},
   "outputs": [],
   "source": [
    "array = np.array([1, 2, 3, 4, 5])\n",
    "array[-1:]"
   ]
  },
  {
   "cell_type": "markdown",
   "metadata": {},
   "source": [
    "#### На одном графике последние 5000 для итеративного и последние 5000 для нового"
   ]
  },
  {
   "cell_type": "code",
   "execution_count": null,
   "metadata": {},
   "outputs": [],
   "source": [
    "fig = plt.figure(figsize=(10, 8)) \n",
    "plt.scatter(range(len(t_d_nw[-4999:])), t_d_nw[-4999:], color='r', label='new way')\n",
    "plt.scatter(range(len(t_d[-4999:])), t_d[-4999:], color='b', label='iterative way')\n",
    "plt.title('Последние 5000 итераций итеративного метода и последние 5000 нового')\n",
    "plt.ylabel('2-норма время полученное на i=5000 на 30-й итерации - время i')\n",
    "plt.xlabel('Итерации')\n",
    "plt.legend()\n",
    "plt.ylim(0.0, 0.0225)\n",
    "plt.show()\n",
    "# fig.savefig('KEV_res/iterative pics/T - T_prev, COMPARE, zoom.png')"
   ]
  },
  {
   "cell_type": "code",
   "execution_count": null,
   "metadata": {},
   "outputs": [],
   "source": [
    "fig = plt.figure(figsize=(10, 8)) \n",
    "plt.scatter(range(len(flows_w_d_nw[-4999:])), flows_w_d_nw[-4999:], \n",
    "            color='r', label='new way')\n",
    "plt.scatter(range(len(flows_w_d[-4999:])), flows_w_d[-4999:], \n",
    "            color='b', label='iterative way')\n",
    "plt.title('Последние 5000 итераций итеративного метода и последние 5000 нового')\n",
    "plt.ylabel('2-норма потоки полученное на i=5000 на 30-й итерации - время i')\n",
    "plt.xlabel('Итерации')\n",
    "plt.legend()\n",
    "# plt.ylim(0, 30.0)\n",
    "plt.show()\n",
    "fig.savefig('KEV_res/iterative pics/flows_w - flows_w_prev, COMPARE.png')"
   ]
  },
  {
   "cell_type": "code",
   "execution_count": null,
   "metadata": {},
   "outputs": [],
   "source": [
    "fig = plt.figure(figsize=(10, 8)) \n",
    "plt.scatter(range(len(flows_w_d_nw)), flows_w_d_nw, \n",
    "            color='r', label='new way')\n",
    "plt.scatter(range(len(flows_w_d)), flows_w_d, \n",
    "            color='b', label='iterative way')\n",
    "plt.title('Все итерации итеративного метода и все нового на одном графике')\n",
    "plt.ylabel('2-норма потоки полученное на i=5000 на 30-й итерации - время i')\n",
    "plt.xlabel('Итерации')\n",
    "plt.legend()\n",
    "# plt.xlim(0, 10000.0)\n",
    "plt.show()\n",
    "fig.savefig('KEV_res/iterative pics/flows_w - flows_w_prev, COMPARE, all in one.png')"
   ]
  },
  {
   "cell_type": "code",
   "execution_count": null,
   "metadata": {},
   "outputs": [],
   "source": [
    "len(range(max_iter)), len(flows_w_d[:4999])"
   ]
  },
  {
   "cell_type": "code",
   "execution_count": null,
   "metadata": {},
   "outputs": [],
   "source": [
    "f = plt.figure(figsize=(30, 20))\n",
    "plt.title('2-норма время полученное на i=5000 - время i, по итерациям')\n",
    "\n",
    "ax = f.add_subplot(511)\n",
    "plt.ylabel('1 итерация')\n",
    "ax2 = f.add_subplot(512)\n",
    "plt.ylabel('2 итерация')\n",
    "ax3 = f.add_subplot(513)\n",
    "plt.ylabel('3 итерация')\n",
    "ax4 = f.add_subplot(514)\n",
    "plt.ylabel('4 итерация')\n",
    "ax5 = f.add_subplot(515)\n",
    "plt.ylabel('5 итерация')\n",
    "\n",
    "ax.scatter(range(max_iter - 1), flows_w_d[:4999])\n",
    "ax2.scatter(range(max_iter - 1), flows_w_d[4999:9998])\n",
    "ax3.scatter(range(max_iter - 1), flows_w_d[9998:14997])\n",
    "ax4.scatter(range(max_iter - 1), flows_w_d[14997:19996])\n",
    "ax5.scatter(range(max_iter - 1), flows_w_d[19996:24995])\n",
    "plt.xlabel('номер итерации')\n",
    "\n",
    "f.savefig('KEV_res/iterative pics/Flows_weight - Flows_weight_prev, 5000 iter, 1-5.png')"
   ]
  },
  {
   "cell_type": "code",
   "execution_count": null,
   "metadata": {},
   "outputs": [],
   "source": [
    "f = plt.figure(figsize=(30, 20))\n",
    "plt.title('2-норма время полученное на i=5000 - время i, по итерациям')\n",
    "\n",
    "ax = f.add_subplot(511)\n",
    "plt.ylabel('1 итерация')\n",
    "ax2 = f.add_subplot(512)\n",
    "plt.ylabel('2 итерация')\n",
    "ax3 = f.add_subplot(513)\n",
    "plt.ylabel('3 итерация')\n",
    "ax4 = f.add_subplot(514)\n",
    "plt.ylabel('4 итерация')\n",
    "ax5 = f.add_subplot(515)\n",
    "plt.ylabel('5 итерация')\n",
    "\n",
    "ax.scatter(range(max_iter - 1), t_d[:4999])\n",
    "ax2.scatter(range(max_iter - 1), t_d[4999:9998])\n",
    "ax3.scatter(range(max_iter - 1), t_d[9998:14997])\n",
    "ax4.scatter(range(max_iter - 1), t_d[14997:19996])\n",
    "ax5.scatter(range(max_iter - 1), t_d[19996:24995])\n",
    "plt.xlabel('номер итерации')\n",
    "\n",
    "f.savefig('KEV_res/iterative pics/T - T_prev, 5000 iter, 1-5.png')"
   ]
  },
  {
   "cell_type": "code",
   "execution_count": null,
   "metadata": {},
   "outputs": [],
   "source": [
    "fig = plt.figure(figsize=(10, 8)) \n",
    "plt.scatter(range(max_iter - 1), t_d[19996:24995])\n",
    "plt.ylabel('Итерация 5. 2-норма время полученное на i=5000 - время i')\n",
    "plt.xlabel('Итерации')\n",
    "# plt.xlim(4900.0, 5000.0)\n",
    "plt.show()\n",
    "fig.savefig('KEV_res/iterative pics/T - T_prev, 5000 iter, 5-5.png')"
   ]
  },
  {
   "cell_type": "code",
   "execution_count": null,
   "metadata": {},
   "outputs": [],
   "source": [
    "flows_w_d = []\n",
    "rec_d = []\n",
    "t_d = []\n",
    "\n",
    "    \n",
    "flows_25  = np.loadtxt('KEV_res//iter_arrays//flows//' + str(4) + \n",
    "                                    '//' + str(max_iter) + '.txt')\n",
    "    \n",
    "times_25 = np.loadtxt('KEV_res//iter_arrays/times//' + str(4) + \n",
    "                                    '//' + str(max_iter) + '.txt')\n",
    "\n",
    "for i in range(0, multi_stage_i):\n",
    "    for j in range(1, max_iter):\n",
    "        flows_weighted = np.loadtxt('KEV_res//iter_arrays//flows//' + str(i) + \n",
    "                                    '//' + str(j) + '.txt')\n",
    "        \n",
    "        t = np.loadtxt('KEV_res//iter_arrays/times//' + str(i) + \n",
    "                                    '//' + str(j) + '.txt')\n",
    "\n",
    "        flows_w_d.append(np.linalg.norm(flows_25 - flows_weighted))\n",
    "        t_d.append(np.linalg.norm(times_25 - t))"
   ]
  },
  {
   "cell_type": "code",
   "execution_count": null,
   "metadata": {},
   "outputs": [],
   "source": [
    "fig = plt.figure(figsize=(10, 8)) \n",
    "plt.scatter(range(len(flows_w_d)), flows_w_d)\n",
    "plt.ylabel('2-норма потоки полученное на i=5000 на пятой итерации - потоки i')\n",
    "plt.xlabel('Итерации')\n",
    "plt.xlim(24000.0, 25000.0)\n",
    "plt.show()\n",
    "fig.savefig('KEV_res/iterative pics/Flows_weight - Flows_weight_prev, \\\n",
    "            2400-25000 iter.png')"
   ]
  },
  {
   "cell_type": "code",
   "execution_count": null,
   "metadata": {},
   "outputs": [],
   "source": [
    "fig = plt.figure(figsize=(10, 8)) \n",
    "plt.scatter(range(len(t_d)), t_d)\n",
    "plt.ylabel('2-норма время полученное на i=5000 на пятой итерации - время i')\n",
    "plt.xlabel('Итерации')\n",
    "plt.xlim(24000.0, 25000.0)\n",
    "plt.show()\n",
    "fig.savefig('KEV_res/iterative pics/T - T_prev, 24000-25000 iter.png')"
   ]
  },
  {
   "cell_type": "code",
   "execution_count": null,
   "metadata": {},
   "outputs": [],
   "source": []
  }
 ],
 "metadata": {
  "kernelspec": {
   "display_name": "Python 3",
   "language": "python",
   "name": "python3"
  },
  "language_info": {
   "codemirror_mode": {
    "name": "ipython",
    "version": 3
   },
   "file_extension": ".py",
   "mimetype": "text/x-python",
   "name": "python",
   "nbconvert_exporter": "python",
   "pygments_lexer": "ipython3",
   "version": "3.7.7"
  }
 },
 "nbformat": 4,
 "nbformat_minor": 2
}
