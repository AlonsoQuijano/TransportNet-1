{
 "cells": [
  {
   "cell_type": "code",
   "execution_count": 66,
   "metadata": {},
   "outputs": [],
   "source": [
    "import warnings\n",
    "warnings.simplefilter(action='ignore', category=FutureWarning)\n",
    "\n",
    "import pandas as pd\n",
    "import numpy as np\n",
    "import matplotlib.pyplot as plt\n",
    "from matplotlib import rc\n",
    "from scipy.stats import entropy\n",
    "import matplotlib.pyplot as plt\n",
    "from mpl_toolkits.mplot3d import axes3d, Axes3D\n",
    "np.set_printoptions(suppress=True)\n",
    "\n",
    "import data_handler as dh\n",
    "import model as md\n",
    "import time\n",
    "import pickle"
   ]
  },
  {
   "cell_type": "markdown",
   "metadata": {},
   "source": [
    "$\\| \\nabla f(t^k) \\|_2 * 2\\|t^0 - t^k\\|_2 $\n",
    "\n",
    "$2\\|t^0 - t^k\\|_2$\n",
    "\n",
    "$5\\|t^0\\|_2$"
   ]
  },
  {
   "cell_type": "code",
   "execution_count": null,
   "metadata": {},
   "outputs": [],
   "source": []
  },
  {
   "cell_type": "code",
   "execution_count": 67,
   "metadata": {},
   "outputs": [
    {
     "data": {
      "text/plain": [
       "'1.18.2'"
      ]
     },
     "execution_count": 67,
     "metadata": {},
     "output_type": "execute_result"
    }
   ],
   "source": [
    "np.version.version"
   ]
  },
  {
   "cell_type": "raw",
   "metadata": {},
   "source": [
    "for i, eps_abs in enumerate(np.logspace(1,3,5)):\n",
    "    print(eps_abs)"
   ]
  },
  {
   "cell_type": "code",
   "execution_count": 68,
   "metadata": {},
   "outputs": [],
   "source": [
    "net_name = 'SiouxFalls_net.tntp'\n",
    "trips_name = 'SiouxFalls_trips.tntp'\n",
    "\n",
    "handler = dh.DataHandler()\n",
    "graph_data = handler.GetGraphData(net_name, \n",
    "                                  columns=['init_node', \n",
    "                                           'term_node', 'capacity', 'free_flow_time'])\n",
    "graph_correspondences, total_od_flow = handler.GetGraphCorrespondences(trips_name)\n",
    "\n",
    "graph_data['graph_table'].head()\n",
    "graph_table = graph_data['graph_table']\n",
    "n = np.max(graph_table['init_node'].to_numpy())"
   ]
  },
  {
   "cell_type": "code",
   "execution_count": 69,
   "metadata": {},
   "outputs": [
    {
     "data": {
      "text/html": [
       "<div>\n",
       "<style scoped>\n",
       "    .dataframe tbody tr th:only-of-type {\n",
       "        vertical-align: middle;\n",
       "    }\n",
       "\n",
       "    .dataframe tbody tr th {\n",
       "        vertical-align: top;\n",
       "    }\n",
       "\n",
       "    .dataframe thead th {\n",
       "        text-align: right;\n",
       "    }\n",
       "</style>\n",
       "<table border=\"1\" class=\"dataframe\">\n",
       "  <thead>\n",
       "    <tr style=\"text-align: right;\">\n",
       "      <th></th>\n",
       "      <th>init_node</th>\n",
       "      <th>init_node_thru</th>\n",
       "      <th>term_node</th>\n",
       "      <th>term_node_thru</th>\n",
       "      <th>capacity</th>\n",
       "      <th>free_flow_time</th>\n",
       "    </tr>\n",
       "  </thead>\n",
       "  <tbody>\n",
       "    <tr>\n",
       "      <th>0</th>\n",
       "      <td>1</td>\n",
       "      <td>True</td>\n",
       "      <td>2</td>\n",
       "      <td>True</td>\n",
       "      <td>25900.200640</td>\n",
       "      <td>6.0</td>\n",
       "    </tr>\n",
       "    <tr>\n",
       "      <th>1</th>\n",
       "      <td>1</td>\n",
       "      <td>True</td>\n",
       "      <td>3</td>\n",
       "      <td>True</td>\n",
       "      <td>23403.473190</td>\n",
       "      <td>4.0</td>\n",
       "    </tr>\n",
       "    <tr>\n",
       "      <th>2</th>\n",
       "      <td>2</td>\n",
       "      <td>True</td>\n",
       "      <td>1</td>\n",
       "      <td>True</td>\n",
       "      <td>25900.200640</td>\n",
       "      <td>6.0</td>\n",
       "    </tr>\n",
       "    <tr>\n",
       "      <th>3</th>\n",
       "      <td>2</td>\n",
       "      <td>True</td>\n",
       "      <td>6</td>\n",
       "      <td>True</td>\n",
       "      <td>4958.180928</td>\n",
       "      <td>5.0</td>\n",
       "    </tr>\n",
       "    <tr>\n",
       "      <th>4</th>\n",
       "      <td>3</td>\n",
       "      <td>True</td>\n",
       "      <td>1</td>\n",
       "      <td>True</td>\n",
       "      <td>23403.473190</td>\n",
       "      <td>4.0</td>\n",
       "    </tr>\n",
       "  </tbody>\n",
       "</table>\n",
       "</div>"
      ],
      "text/plain": [
       "   init_node  init_node_thru  term_node  term_node_thru      capacity  \\\n",
       "0          1            True          2            True  25900.200640   \n",
       "1          1            True          3            True  23403.473190   \n",
       "2          2            True          1            True  25900.200640   \n",
       "3          2            True          6            True   4958.180928   \n",
       "4          3            True          1            True  23403.473190   \n",
       "\n",
       "   free_flow_time  \n",
       "0             6.0  \n",
       "1             4.0  \n",
       "2             6.0  \n",
       "3             5.0  \n",
       "4             4.0  "
      ]
     },
     "execution_count": 69,
     "metadata": {},
     "output_type": "execute_result"
    }
   ],
   "source": [
    "graph_data['graph_table'].head()"
   ]
  },
  {
   "cell_type": "code",
   "execution_count": 20,
   "metadata": {},
   "outputs": [],
   "source": [
    "def costs_func(df, i, j, column):\n",
    "    rows = df.loc[df['init_node'] == i]\n",
    "    columns = rows.loc[df['term_node'] == j]\n",
    "    c = columns[column]\n",
    "    print(rows)\n",
    "    try:\n",
    "        c = int(c)\n",
    "        return c\n",
    "    except TypeError: # если не пересекается район i с районом j\n",
    "        return np.nan\n",
    "\n",
    "def create_T(df):\n",
    "    T = np.full((n, n), np.nan, dtype=np.double)\n",
    "    \n",
    "    i_matrix = df['init_node'].to_numpy()\n",
    "    j_matrix = df['term_node'].to_numpy()\n",
    "    \n",
    "    for i in i_matrix:\n",
    "        for j in j_matrix:\n",
    "            data = df.loc[(df['init_node'] == i) & \n",
    "                             (df['term_node'] == j)]\n",
    "            if not data.empty:\n",
    "                T[i-1][j-1] = data['free_flow_time'].to_numpy()[0]\n",
    "    return T\n",
    "\n",
    "def create_cor_matr(dictnr):\n",
    "    correspondence_matrix = np.full((n, n), np.nan, dtype=np.double)\n",
    "    i = 1\n",
    "    if n > 1:\n",
    "        for key in dictnr.keys(): #dictnr[i].keys()\n",
    "            for k, v in zip(dictnr[i]['targets'], dictnr[i]['corrs']):\n",
    "                correspondence_matrix[key - 1][k - 1] = v # костыль!\n",
    "            i += 1\n",
    "    else:\n",
    "        for key in dictnr.keys():\n",
    "            for k, v in zip(dictnr[i][key].keys(), dictnr[i][key].values()):\n",
    "                correspondence_matrix[int(key) - 1][int(k)] = v\n",
    "    # print('corr mtrx: ', correspondence_matrix)\n",
    "    return correspondence_matrix"
   ]
  },
  {
   "cell_type": "code",
   "execution_count": 21,
   "metadata": {},
   "outputs": [],
   "source": [
    "correspondence_matrix = create_cor_matr(graph_correspondences)"
   ]
  },
  {
   "cell_type": "code",
   "execution_count": 22,
   "metadata": {},
   "outputs": [
    {
     "data": {
      "text/plain": [
       "array([[   0.,  100.,  100.,  500.,  200.,  300.,  500.,  800.,  500.,\n",
       "        1300.,  500.,  200.,  500.,  300.,  500.,  500.,  400.,  100.,\n",
       "         300.,  300.,  100.,  400.,  300.,  100.],\n",
       "       [ 100.,    0.,  100.,  200.,  100.,  400.,  200.,  400.,  200.,\n",
       "         600.,  200.,  100.,  300.,  100.,  100.,  400.,  200.,    0.,\n",
       "         100.,  100.,    0.,  100.,    0.,    0.],\n",
       "       [ 100.,  100.,    0.,  200.,  100.,  300.,  100.,  200.,  100.,\n",
       "         300.,  300.,  200.,  100.,  100.,  100.,  200.,  100.,    0.,\n",
       "           0.,    0.,    0.,  100.,  100.,    0.],\n",
       "       [ 500.,  200.,  200.,    0.,  500.,  400.,  400.,  700.,  700.,\n",
       "        1200., 1400.,  600.,  600.,  500.,  500.,  800.,  500.,  100.,\n",
       "         200.,  300.,  200.,  400.,  500.,  200.],\n",
       "       [ 200.,  100.,  100.,  500.,    0.,  200.,  200.,  500.,  800.,\n",
       "        1000.,  500.,  200.,  200.,  100.,  200.,  500.,  200.,    0.,\n",
       "         100.,  100.,  100.,  200.,  100.,    0.],\n",
       "       [ 300.,  400.,  300.,  400.,  200.,    0.,  400.,  800.,  400.,\n",
       "         800.,  400.,  200.,  200.,  100.,  200.,  900.,  500.,  100.,\n",
       "         200.,  300.,  100.,  200.,  100.,  100.],\n",
       "       [ 500.,  200.,  100.,  400.,  200.,  400.,    0., 1000.,  600.,\n",
       "        1900.,  500.,  700.,  400.,  200.,  500., 1400., 1000.,  200.,\n",
       "         400.,  500.,  200.,  500.,  200.,  100.],\n",
       "       [ 800.,  400.,  200.,  700.,  500.,  800., 1000.,    0.,  800.,\n",
       "        1600.,  800.,  600.,  600.,  400.,  600., 2200., 1400.,  300.,\n",
       "         700.,  900.,  400.,  500.,  300.,  200.],\n",
       "       [ 500.,  200.,  100.,  700.,  800.,  400.,  600.,  800.,    0.,\n",
       "        2800., 1400.,  600.,  600.,  600.,  900., 1400.,  900.,  200.,\n",
       "         400.,  600.,  300.,  700.,  500.,  200.],\n",
       "       [1300.,  600.,  300., 1200., 1000.,  800., 1900., 1600., 2800.,\n",
       "           0., 4000., 2000., 1900., 2100., 4000., 4400., 3900.,  700.,\n",
       "        1800., 2500., 1200., 2600., 1800.,  800.],\n",
       "       [ 500.,  200.,  300., 1500.,  500.,  400.,  500.,  800., 1400.,\n",
       "        3900.,    0., 1400., 1000., 1600., 1400., 1400., 1000.,  100.,\n",
       "         400.,  600.,  400., 1100., 1300.,  600.],\n",
       "       [ 200.,  100.,  200.,  600.,  200.,  200.,  700.,  600.,  600.,\n",
       "        2000., 1400.,    0., 1300.,  700.,  700.,  700.,  600.,  200.,\n",
       "         300.,  400.,  300.,  700.,  700.,  500.],\n",
       "       [ 500.,  300.,  100.,  600.,  200.,  200.,  400.,  600.,  600.,\n",
       "        1900., 1000., 1300.,    0.,  600.,  700.,  600.,  500.,  100.,\n",
       "         300.,  600.,  600., 1300.,  800.,  800.],\n",
       "       [ 300.,  100.,  100.,  500.,  100.,  100.,  200.,  400.,  600.,\n",
       "        2100., 1600.,  700.,  600.,    0., 1300.,  700.,  700.,  100.,\n",
       "         300.,  500.,  400., 1200., 1100.,  400.],\n",
       "       [ 500.,  100.,  100.,  500.,  200.,  200.,  500.,  600., 1000.,\n",
       "        4000., 1400.,  700.,  700., 1300.,    0., 1200., 1500.,  200.,\n",
       "         800., 1100.,  800., 2600., 1000.,  400.],\n",
       "       [ 500.,  400.,  200.,  800.,  500.,  900., 1400., 2200., 1400.,\n",
       "        4400., 1400.,  700.,  600.,  700., 1200.,    0., 2800.,  500.,\n",
       "        1300., 1600.,  600., 1200.,  500.,  300.],\n",
       "       [ 400.,  200.,  100.,  500.,  200.,  500., 1000., 1400.,  900.,\n",
       "        3900., 1000.,  600.,  500.,  700., 1500., 2800.,    0.,  600.,\n",
       "        1700., 1700.,  600., 1700.,  600.,  300.],\n",
       "       [ 100.,    0.,    0.,  100.,    0.,  100.,  200.,  300.,  200.,\n",
       "         700.,  200.,  200.,  100.,  100.,  200.,  500.,  600.,    0.,\n",
       "         300.,  400.,  100.,  300.,  100.,    0.],\n",
       "       [ 300.,  100.,    0.,  200.,  100.,  200.,  400.,  700.,  400.,\n",
       "        1800.,  400.,  300.,  300.,  300.,  800., 1300., 1700.,  300.,\n",
       "           0., 1200.,  400., 1200.,  300.,  100.],\n",
       "       [ 300.,  100.,    0.,  300.,  100.,  300.,  500.,  900.,  600.,\n",
       "        2500.,  600.,  500.,  600.,  500., 1100., 1600., 1700.,  400.,\n",
       "        1200.,    0., 1200., 2400.,  700.,  400.],\n",
       "       [ 100.,    0.,    0.,  200.,  100.,  100.,  200.,  400.,  300.,\n",
       "        1200.,  400.,  300.,  600.,  400.,  800.,  600.,  600.,  100.,\n",
       "         400., 1200.,    0., 1800.,  700.,  500.],\n",
       "       [ 400.,  100.,  100.,  400.,  200.,  200.,  500.,  500.,  700.,\n",
       "        2600., 1100.,  700., 1300., 1200., 2600., 1200., 1700.,  300.,\n",
       "        1200., 2400., 1800.,    0., 2100., 1100.],\n",
       "       [ 300.,    0.,  100.,  500.,  100.,  100.,  200.,  300.,  500.,\n",
       "        1800., 1300.,  700.,  800., 1100., 1000.,  500.,  600.,  100.,\n",
       "         300.,  700.,  700., 2100.,    0.,  700.],\n",
       "       [ 100.,    0.,    0.,  200.,    0.,  100.,  100.,  200.,  200.,\n",
       "         800.,  600.,  500.,  700.,  400.,  400.,  300.,  300.,    0.,\n",
       "         100.,  400.,  500., 1100.,  700.,    0.]])"
      ]
     },
     "execution_count": 22,
     "metadata": {},
     "output_type": "execute_result"
    }
   ],
   "source": [
    "correspondence_matrix"
   ]
  },
  {
   "cell_type": "code",
   "execution_count": 23,
   "metadata": {},
   "outputs": [
    {
     "data": {
      "text/html": [
       "<div>\n",
       "<style scoped>\n",
       "    .dataframe tbody tr th:only-of-type {\n",
       "        vertical-align: middle;\n",
       "    }\n",
       "\n",
       "    .dataframe tbody tr th {\n",
       "        vertical-align: top;\n",
       "    }\n",
       "\n",
       "    .dataframe thead th {\n",
       "        text-align: right;\n",
       "    }\n",
       "</style>\n",
       "<table border=\"1\" class=\"dataframe\">\n",
       "  <thead>\n",
       "    <tr style=\"text-align: right;\">\n",
       "      <th></th>\n",
       "      <th>init_node</th>\n",
       "      <th>init_node_thru</th>\n",
       "      <th>term_node</th>\n",
       "      <th>term_node_thru</th>\n",
       "      <th>capacity</th>\n",
       "      <th>free_flow_time</th>\n",
       "    </tr>\n",
       "  </thead>\n",
       "  <tbody>\n",
       "    <tr>\n",
       "      <th>0</th>\n",
       "      <td>1</td>\n",
       "      <td>True</td>\n",
       "      <td>2</td>\n",
       "      <td>True</td>\n",
       "      <td>25900.20064</td>\n",
       "      <td>6.0</td>\n",
       "    </tr>\n",
       "    <tr>\n",
       "      <th>1</th>\n",
       "      <td>1</td>\n",
       "      <td>True</td>\n",
       "      <td>3</td>\n",
       "      <td>True</td>\n",
       "      <td>23403.47319</td>\n",
       "      <td>4.0</td>\n",
       "    </tr>\n",
       "  </tbody>\n",
       "</table>\n",
       "</div>"
      ],
      "text/plain": [
       "   init_node  init_node_thru  term_node  term_node_thru     capacity  \\\n",
       "0          1            True          2            True  25900.20064   \n",
       "1          1            True          3            True  23403.47319   \n",
       "\n",
       "   free_flow_time  \n",
       "0             6.0  \n",
       "1             4.0  "
      ]
     },
     "execution_count": 23,
     "metadata": {},
     "output_type": "execute_result"
    }
   ],
   "source": [
    "df = graph_data['graph_table']\n",
    "df[df['init_node'] == 1].head()"
   ]
  },
  {
   "cell_type": "code",
   "execution_count": 24,
   "metadata": {},
   "outputs": [
    {
     "name": "stdout",
     "output_type": "stream",
     "text": [
      "[ 1  2  3  4  5  6  7  8  9 10 11 12 13 14 15 16 17 18 19 20 21 22 23 24]\n",
      "[ 1  2  3  4  5  6  7  8  9 10 11 12 13 14 15 16 17 18 19 20 21 22 23 24]\n",
      "[ 6.  4.  5.  2.  3. 10.  8.]\n"
     ]
    }
   ],
   "source": [
    "print(df['init_node'].unique())\n",
    "print(np.sort(df['term_node'].unique()))\n",
    "print(df['free_flow_time'].unique())"
   ]
  },
  {
   "cell_type": "code",
   "execution_count": 25,
   "metadata": {},
   "outputs": [
    {
     "data": {
      "text/html": [
       "<div>\n",
       "<style scoped>\n",
       "    .dataframe tbody tr th:only-of-type {\n",
       "        vertical-align: middle;\n",
       "    }\n",
       "\n",
       "    .dataframe tbody tr th {\n",
       "        vertical-align: top;\n",
       "    }\n",
       "\n",
       "    .dataframe thead th {\n",
       "        text-align: right;\n",
       "    }\n",
       "</style>\n",
       "<table border=\"1\" class=\"dataframe\">\n",
       "  <thead>\n",
       "    <tr style=\"text-align: right;\">\n",
       "      <th></th>\n",
       "      <th>init_node</th>\n",
       "      <th>init_node_thru</th>\n",
       "      <th>term_node</th>\n",
       "      <th>term_node_thru</th>\n",
       "      <th>capacity</th>\n",
       "      <th>free_flow_time</th>\n",
       "    </tr>\n",
       "  </thead>\n",
       "  <tbody>\n",
       "    <tr>\n",
       "      <th>0</th>\n",
       "      <td>1</td>\n",
       "      <td>True</td>\n",
       "      <td>2</td>\n",
       "      <td>True</td>\n",
       "      <td>25900.200640</td>\n",
       "      <td>6.0</td>\n",
       "    </tr>\n",
       "    <tr>\n",
       "      <th>1</th>\n",
       "      <td>1</td>\n",
       "      <td>True</td>\n",
       "      <td>3</td>\n",
       "      <td>True</td>\n",
       "      <td>23403.473190</td>\n",
       "      <td>4.0</td>\n",
       "    </tr>\n",
       "    <tr>\n",
       "      <th>2</th>\n",
       "      <td>2</td>\n",
       "      <td>True</td>\n",
       "      <td>1</td>\n",
       "      <td>True</td>\n",
       "      <td>25900.200640</td>\n",
       "      <td>6.0</td>\n",
       "    </tr>\n",
       "    <tr>\n",
       "      <th>3</th>\n",
       "      <td>2</td>\n",
       "      <td>True</td>\n",
       "      <td>6</td>\n",
       "      <td>True</td>\n",
       "      <td>4958.180928</td>\n",
       "      <td>5.0</td>\n",
       "    </tr>\n",
       "    <tr>\n",
       "      <th>4</th>\n",
       "      <td>3</td>\n",
       "      <td>True</td>\n",
       "      <td>1</td>\n",
       "      <td>True</td>\n",
       "      <td>23403.473190</td>\n",
       "      <td>4.0</td>\n",
       "    </tr>\n",
       "  </tbody>\n",
       "</table>\n",
       "</div>"
      ],
      "text/plain": [
       "   init_node  init_node_thru  term_node  term_node_thru      capacity  \\\n",
       "0          1            True          2            True  25900.200640   \n",
       "1          1            True          3            True  23403.473190   \n",
       "2          2            True          1            True  25900.200640   \n",
       "3          2            True          6            True   4958.180928   \n",
       "4          3            True          1            True  23403.473190   \n",
       "\n",
       "   free_flow_time  \n",
       "0             6.0  \n",
       "1             4.0  \n",
       "2             6.0  \n",
       "3             5.0  \n",
       "4             4.0  "
      ]
     },
     "execution_count": 25,
     "metadata": {},
     "output_type": "execute_result"
    }
   ],
   "source": [
    "df.head()"
   ]
  },
  {
   "cell_type": "code",
   "execution_count": 27,
   "metadata": {},
   "outputs": [],
   "source": [
    "T = create_T(df)\n",
    "np.savetxt('T.csv', T, delimiter=',')"
   ]
  },
  {
   "cell_type": "code",
   "execution_count": 30,
   "metadata": {},
   "outputs": [
    {
     "data": {
      "text/plain": [
       "6.0"
      ]
     },
     "execution_count": 30,
     "metadata": {},
     "output_type": "execute_result"
    }
   ],
   "source": [
    "T[0][1]"
   ]
  },
  {
   "cell_type": "code",
   "execution_count": 31,
   "metadata": {},
   "outputs": [],
   "source": [
    "def distributor_L_W(array):\n",
    "    max_value = np.max(array)\n",
    "    max_value_index = np.where(array == np.max(array))\n",
    "    \n",
    "    unique, counts = np.unique(array, return_counts=True)\n",
    "    array_dict = dict(zip(unique, counts))\n",
    "    try:\n",
    "        zero_num = array_dict[0]\n",
    "    except KeyError:\n",
    "        print('this array without 0')\n",
    "        return array\n",
    "    array[max_value_index] = max_value - zero_num\n",
    "    for index in np.where(array == 0)[0]:\n",
    "        array[index] = 1.0\n",
    "    \n",
    "    return array\n",
    "\n",
    "    def get_t_from_shortest_distances(self, n, graph_data):\n",
    "\n",
    "        targets = []\n",
    "        df = graph_data['graph_table']\n",
    "        T = None\n",
    "        i = 0\n",
    "        for source in range(n):\n",
    "\n",
    "            targets = [source]\n",
    "            targets += range(0, n)\n",
    "\n",
    "            graph_table = graph_data['graph_table']\n",
    "\n",
    "            graph = tg.TransportGraph(graph_table,\n",
    "                                      graph_data['links number'],\n",
    "                                      graph_data['nodes number'])\n",
    "\n",
    "\n",
    "            t_exp = np.array(df['free_flow_time'], dtype='float64').flatten()\n",
    "            distances, pred_map = graph.shortest_distances(source=source,\n",
    "                                                           targets=targets,\n",
    "                                                           times=t_exp)\n",
    "\n",
    "            if i == 0:\n",
    "                T = distances[1:]\n",
    "            else:\n",
    "                T = np.vstack([T, distances[1:]])\n",
    "            targets = []\n",
    "            i += 1\n",
    "\n",
    "        return T\n",
    "\n",
    "def _index_nodes(self, graph_table, graph_correspondences):\n",
    "    table = graph_table.copy()\n",
    "    inits = np.unique(table['init_node'][table['init_node_thru'] == False])\n",
    "    terms = np.unique(table['term_node'][table['term_node_thru'] == False])\n",
    "    through_nodes = np.unique([table['init_node'][table['init_node_thru'] == True],\n",
    "                                   table['term_node'][table['term_node_thru'] == True]])\n",
    "\n",
    "    nodes = np.concatenate((inits, through_nodes, terms))\n",
    "    nodes_inds = list(zip(nodes, np.arange(len(nodes))))\n",
    "    init_to_ind = dict(nodes_inds[: len(inits) + len(through_nodes)])\n",
    "    term_to_ind = dict(nodes_inds[len(inits):])\n",
    "\n",
    "    table['init_node'] = table['init_node'].map(init_to_ind)\n",
    "    table['term_node'] = table['term_node'].map(term_to_ind)\n",
    "    correspondences = {}\n",
    "    for origin, dests in graph_correspondences.items():\n",
    "        dests = copy.deepcopy(dests)\n",
    "        correspondences[init_to_ind[origin]] = {'targets': list(map(term_to_ind.get, dests['targets'])),\n",
    "                                                    'corrs': dests['corrs']}\n",
    "\n",
    "    inds_to_nodes = dict(zip(range(len(nodes)), nodes))\n",
    "    return inds_to_nodes, correspondences, table\n",
    "\n",
    "def get_T_from_t(self, t, graph_data, graph_correspondences):\n",
    "\n",
    "    result = {}\n",
    "    result['zone travel times'] = {}\n",
    "\n",
    "    import transport_graph as tg\n",
    "\n",
    "    inds_to_nodes, graph_correspondences_, graph_table_ = self._index_nodes(graph_data['graph_table'],\n",
    "                                                                                   graph_correspondences)\n",
    "\n",
    "    # print('data handler: ', len(inds_to_nodes), graph_data['links number'])\n",
    "    graph_dh = tg.TransportGraph(graph_table_, len(inds_to_nodes), graph_data['links number'])\n",
    "\n",
    "    for source in graph_correspondences_:\n",
    "\n",
    "        targets = graph_correspondences_[source]['targets']\n",
    "        travel_times, _ = graph_dh.shortest_distances(source, targets, t)\n",
    "        # print('in model.py, travel_times: ', travel_times)\n",
    "        # mapping nodes' indices to initial nodes' names:\n",
    "        source_nodes = [inds_to_nodes[source]] * len(targets)\n",
    "        target_nodes = list(map(inds_to_nodes.get, targets))\n",
    "        result['zone travel times'].update(zip(zip(source_nodes, target_nodes), travel_times))\n",
    "\n",
    "    return result"
   ]
  },
  {
   "cell_type": "code",
   "execution_count": 33,
   "metadata": {},
   "outputs": [],
   "source": [
    "T_dict = handler.get_T_from_t(graph_data['graph_table']['free_flow_time'],  graph_data, graph_correspondences)  # np.array([[0.0, 0.5], [0.5, 0.0]]) #\n",
    "T = np.full((n, n), np.inf)\n",
    "for key in T_dict['zone travel times'].keys():\n",
    "    T[key[0] - 1][key[1] - 1] = T_dict['zone travel times'][key]"
   ]
  },
  {
   "cell_type": "code",
   "execution_count": 34,
   "metadata": {},
   "outputs": [
    {
     "data": {
      "text/plain": [
       "array([[ 0.,  6.,  4.,  8., 10., 11., 16., 13., 15., 18., 14.,  8., 11.,\n",
       "        18., 23., 18., 20., 18., 22., 22., 18., 20., 17., 15.],\n",
       "       [ 6.,  0., 10., 11.,  9.,  5., 10.,  7., 14., 16., 17., 14., 17.,\n",
       "        21., 19., 12., 14., 12., 16., 16., 22., 21., 23., 21.],\n",
       "       [ 4., 10.,  0.,  4.,  6., 10., 15., 12., 11., 14., 10.,  4.,  7.,\n",
       "        14., 19., 17., 19., 17., 21., 20., 14., 16., 13., 11.],\n",
       "       [ 8., 11.,  4.,  0.,  2.,  6., 11.,  8.,  7., 10.,  6.,  8., 11.,\n",
       "        10., 15., 13., 15., 13., 17., 17., 18., 18., 14., 15.],\n",
       "       [10.,  9.,  6.,  2.,  0.,  4.,  9.,  6.,  5.,  8.,  8., 10., 13.,\n",
       "        12., 14., 11., 13., 11., 15., 15., 19., 17., 16., 17.],\n",
       "       [11.,  5., 10.,  6.,  4.,  0.,  5.,  2.,  9., 11., 12., 14., 17.,\n",
       "        16., 14.,  7.,  9.,  7., 11., 11., 17., 16., 20., 20.],\n",
       "       [16., 10., 15., 11.,  9.,  5.,  0.,  3., 12.,  9., 14., 19., 19.,\n",
       "        17., 12.,  5.,  7.,  2.,  9.,  6., 12., 11., 15., 15.],\n",
       "       [13.,  7., 12.,  8.,  6.,  2.,  3.,  0., 10.,  9., 14., 16., 19.,\n",
       "        17., 12.,  5.,  7.,  5.,  9.,  9., 15., 14., 18., 18.],\n",
       "       [15., 14., 11.,  7.,  5.,  9., 12., 10.,  0.,  3.,  8., 14., 17.,\n",
       "        12.,  9.,  7.,  9., 10., 11., 14., 14., 12., 16., 17.],\n",
       "       [18., 16., 14., 10.,  8., 11.,  9.,  9.,  3.,  0.,  5., 11., 14.,\n",
       "         9.,  6.,  4.,  6.,  7.,  8., 11., 11.,  9., 13., 14.],\n",
       "       [14., 17., 10.,  6.,  8., 12., 14., 14.,  8.,  5.,  0.,  6.,  9.,\n",
       "         4.,  9.,  9., 11., 12., 12., 16., 13., 12.,  8., 10.],\n",
       "       [ 8., 14.,  4.,  8., 10., 14., 19., 16., 14., 11.,  6.,  0.,  3.,\n",
       "        10., 15., 15., 17., 18., 18., 16., 10., 12.,  9.,  7.],\n",
       "       [11., 17.,  7., 11., 13., 17., 19., 19., 17., 14.,  9.,  3.,  0.,\n",
       "        10., 12., 18., 17., 17., 15., 13.,  7.,  9.,  6.,  4.],\n",
       "       [18., 21., 14., 10., 12., 16., 17., 17., 12.,  9.,  4., 10., 10.,\n",
       "         0.,  5., 12., 10., 15.,  8., 12.,  9.,  8.,  4.,  6.],\n",
       "       [23., 19., 19., 15., 14., 14., 12., 12.,  9.,  6.,  9., 15., 12.,\n",
       "         5.,  0.,  7.,  5., 10.,  3.,  7.,  5.,  3.,  7.,  8.],\n",
       "       [18., 12., 17., 13., 11.,  7.,  5.,  5.,  7.,  4.,  9., 15., 18.,\n",
       "        12.,  7.,  0.,  2.,  3.,  4.,  7., 12., 10., 14., 15.],\n",
       "       [20., 14., 19., 15., 13.,  9.,  7.,  7.,  9.,  6., 11., 17., 17.,\n",
       "        10.,  5.,  2.,  0.,  5.,  2.,  6., 10.,  8., 12., 13.],\n",
       "       [18., 12., 17., 13., 11.,  7.,  2.,  5., 10.,  7., 12., 18., 17.,\n",
       "        15., 10.,  3.,  5.,  0.,  7.,  4., 10.,  9., 13., 13.],\n",
       "       [22., 16., 21., 17., 15., 11.,  9.,  9., 11.,  8., 12., 18., 15.,\n",
       "         8.,  3.,  4.,  2.,  7.,  0.,  4.,  8.,  6., 10., 11.],\n",
       "       [22., 16., 20., 17., 15., 11.,  6.,  9., 14., 11., 16., 16., 13.,\n",
       "        12.,  7.,  7.,  6.,  4.,  4.,  0.,  6.,  5.,  9.,  9.],\n",
       "       [18., 22., 14., 18., 19., 17., 12., 15., 14., 11., 13., 10.,  7.,\n",
       "         9.,  5., 12., 10., 10.,  8.,  6.,  0.,  2.,  5.,  3.],\n",
       "       [20., 21., 16., 18., 17., 16., 11., 14., 12.,  9., 12., 12.,  9.,\n",
       "         8.,  3., 10.,  8.,  9.,  6.,  5.,  2.,  0.,  4.,  5.],\n",
       "       [17., 23., 13., 14., 16., 20., 15., 18., 16., 13.,  8.,  9.,  6.,\n",
       "         4.,  7., 14., 12., 13., 10.,  9.,  5.,  4.,  0.,  2.],\n",
       "       [15., 21., 11., 15., 17., 20., 15., 18., 17., 14., 10.,  7.,  4.,\n",
       "         6.,  8., 15., 13., 13., 11.,  9.,  3.,  5.,  2.,  0.]])"
      ]
     },
     "execution_count": 34,
     "metadata": {},
     "output_type": "execute_result"
    }
   ],
   "source": [
    "T"
   ]
  },
  {
   "cell_type": "markdown",
   "metadata": {},
   "source": [
    "##### Подумаем над T\n",
    "В данных по Москве время в минутах. В этих данных время по часам! ('Time: hours, distance: miles'). Переведём их в минуты. Также T занулённое, там, где стоят nan, поставим по 100 часов"
   ]
  },
  {
   "cell_type": "raw",
   "metadata": {},
   "source": [
    "T = T * 60"
   ]
  },
  {
   "cell_type": "raw",
   "metadata": {},
   "source": [
    "import copy\n",
    "\n",
    "buf_T = copy.copy(T)"
   ]
  },
  {
   "cell_type": "raw",
   "metadata": {},
   "source": [
    "T"
   ]
  },
  {
   "cell_type": "raw",
   "metadata": {},
   "source": [
    "T = np.nan_to_num(buf_T, nan=100.0)"
   ]
  },
  {
   "cell_type": "code",
   "execution_count": 35,
   "metadata": {},
   "outputs": [
    {
     "name": "stdout",
     "output_type": "stream",
     "text": [
      "this array without 0\n",
      "this array without 0\n",
      "people_num:  360600.0\n"
     ]
    }
   ],
   "source": [
    "L = np.nansum(correspondence_matrix, axis=1)\n",
    "W = np.nansum(correspondence_matrix, axis=0)\n",
    "people_num = np.nansum(L)\n",
    "\n",
    "L = distributor_L_W(L)\n",
    "W = distributor_L_W(W)\n",
    "\n",
    "L = L / np.nansum(L)\n",
    "W = W / np.nansum(W)\n",
    "print('people_num: ', people_num)"
   ]
  },
  {
   "cell_type": "code",
   "execution_count": 36,
   "metadata": {},
   "outputs": [
    {
     "data": {
      "text/plain": [
       "576"
      ]
     },
     "execution_count": 36,
     "metadata": {},
     "output_type": "execute_result"
    }
   ],
   "source": [
    "np.count_nonzero(~np.isnan(T))"
   ]
  },
  {
   "cell_type": "code",
   "execution_count": 37,
   "metadata": {},
   "outputs": [],
   "source": [
    "def Sinkhorn(k, lambda_W_prev, lambda_L_prev):    \n",
    "    lambda_L = np.full((n, ), 0.0, dtype=np.double)\n",
    "    lambda_W = np.full((n, ), 0.0, dtype=np.double)\n",
    "    \n",
    "    if k % 2 == 0:\n",
    "        lambda_W = lambda_W_prev\n",
    "        lambda_L = np.log(np.nansum(\n",
    "            (np.exp(-lambda_W_prev - 1 - cost_matrix)).T \n",
    "            / L, axis = 0\n",
    "            ))\n",
    "    else:\n",
    "        lambda_L = lambda_L_prev\n",
    "        lambda_W = np.log(np.nansum(\n",
    "            (np.exp(-lambda_L - 1 - cost_matrix.T)).T\n",
    "            / W, axis=0\n",
    "            ))\n",
    "        \n",
    "    return lambda_W, lambda_L\n",
    "\n",
    "def iterate(cost_matrix, L, W, num_iter, eps):\n",
    "    \n",
    "    lambda_L = np.full((n, ), 0.0, dtype=np.double)\n",
    "    lambda_W = np.full((n, ), 0.0, dtype=np.double)\n",
    "    \n",
    "    for k in range(num_iter):\n",
    "        \n",
    "        lambda_Wn, lambda_Ln = Sinkhorn(k, lambda_W, lambda_L)\n",
    "        \n",
    "        delta = np.linalg.norm(np.concatenate((lambda_Ln - lambda_L, \n",
    "                                               lambda_Wn - lambda_W)))\n",
    "        \n",
    "        lambda_L, lambda_W = lambda_Ln, lambda_Wn \n",
    "        \n",
    "        if delta < eps:\n",
    "            break\n",
    "    \n",
    "    r = rec_d_i_j(lambda_Ln, lambda_Wn, cost_matrix)\n",
    "    return r\n",
    "\n",
    "def rec_d_i_j(lambda_L, lambda_W, cost_matrix):\n",
    "    er = np.exp( -1 - cost_matrix - (np.reshape(lambda_L, (n, 1)) + lambda_W))\n",
    "    return er * people_num"
   ]
  },
  {
   "cell_type": "code",
   "execution_count": 59,
   "metadata": {},
   "outputs": [
    {
     "name": "stdout",
     "output_type": "stream",
     "text": [
      "alpha=  0.0\n",
      "alpha=  0.0001\n",
      "alpha=  0.0002\n",
      "alpha=  0.00030000000000000003\n",
      "alpha=  0.0004\n",
      "alpha=  0.0005\n",
      "alpha=  0.0006000000000000001\n",
      "alpha=  0.0007\n",
      "alpha=  0.0008\n",
      "alpha=  0.0009000000000000001\n",
      "alpha=  0.001\n",
      "alpha=  0.0011\n",
      "alpha=  0.0012000000000000001\n",
      "alpha=  0.0013000000000000002\n",
      "alpha=  0.0014\n",
      "alpha=  0.0015\n",
      "alpha=  0.0016\n",
      "alpha=  0.0017000000000000001\n",
      "alpha=  0.0018000000000000002\n",
      "alpha=  0.0019\n",
      "alpha=  0.002\n",
      "alpha=  0.0021000000000000003\n",
      "alpha=  0.0022\n",
      "alpha=  0.0023\n",
      "alpha=  0.0024000000000000002\n",
      "alpha=  0.0025\n",
      "alpha=  0.0026000000000000003\n",
      "alpha=  0.0027\n",
      "alpha=  0.0028\n",
      "alpha=  0.0029000000000000002\n",
      "alpha=  0.003\n",
      "alpha=  0.0031000000000000003\n",
      "alpha=  0.0032\n",
      "alpha=  0.0033\n",
      "alpha=  0.0034000000000000002\n",
      "alpha=  0.0035\n",
      "alpha=  0.0036000000000000003\n",
      "alpha=  0.0037\n",
      "alpha=  0.0038\n",
      "alpha=  0.0039000000000000003\n",
      "alpha=  0.004\n",
      "alpha=  0.0041\n",
      "alpha=  0.004200000000000001\n",
      "alpha=  0.0043\n",
      "alpha=  0.0044\n",
      "alpha=  0.0045000000000000005\n",
      "alpha=  0.0046\n",
      "alpha=  0.0047\n",
      "alpha=  0.0048000000000000004\n",
      "alpha=  0.0049\n",
      "alpha=  0.005\n"
     ]
    }
   ],
   "source": [
    "num_iter = 2500\n",
    "alpha, beta = 1.0, 1.0\n",
    "alpha_range  = np.arange(0.0, 1.0, 0.0001)\n",
    "\n",
    "best_matrix = None\n",
    "min_reconstruction_error = np.inf\n",
    "best_alpha, best_beta = np.nan, np.nan\n",
    "\n",
    "er_list = []\n",
    "\n",
    "for alpha_idx in range(len(alpha_range)):\n",
    "    alpha = alpha_range[alpha_idx]\n",
    "    cost_matrix = np.nan_to_num(T ** beta * alpha, nan=100)\n",
    "\n",
    "    rec = iterate(cost_matrix, L, W, num_iter, eps=10**(-3))    \n",
    "    er = np.linalg.norm(rec - np.nan_to_num(correspondence_matrix, nan=0.0))\n",
    "    er_list.append(er)\n",
    "\n",
    "    if er < min_reconstruction_error:\n",
    "        min_reconstruction_error = er\n",
    "        best_alpha = alpha_range[alpha_idx]\n",
    "        best_matrix = rec\n",
    "\n",
    "        print(\n",
    "            'alpha= ', best_alpha\n",
    "            )"
   ]
  },
  {
   "cell_type": "code",
   "execution_count": 60,
   "metadata": {},
   "outputs": [
    {
     "data": {
      "text/plain": [
       "9.915203526012192"
      ]
     },
     "execution_count": 60,
     "metadata": {},
     "output_type": "execute_result"
    }
   ],
   "source": [
    "er_list[0] - min_reconstruction_error"
   ]
  },
  {
   "cell_type": "code",
   "execution_count": 64,
   "metadata": {},
   "outputs": [
    {
     "data": {
      "image/png": "[encoded data removed]",
      "text/plain": [
       "<Figure size 720x576 with 1 Axes>"
      ]
     },
     "metadata": {
      "needs_background": "light"
     },
     "output_type": "display_data"
    }
   ],
   "source": [
    "fig = plt.figure(figsize=(10, 8)) \n",
    "plt.scatter(alpha_range, er_list)\n",
    "# plt.ylim(0, 2)\n",
    "plt.ylim(10265, 10300)\n",
    "plt.xlim(-0.02, 0.02)\n",
    "plt.ylabel('Невязка')\n",
    "plt.xlabel('alpha')\n",
    "plt.show()\n",
    "fig.savefig('best_sink_gamma' + str(len(alpha_range)) + '.png')"
   ]
  },
  {
   "cell_type": "code",
   "execution_count": 65,
   "metadata": {},
   "outputs": [
    {
     "name": "stdout",
     "output_type": "stream",
     "text": [
      "0.003837543971858011\n"
     ]
    }
   ],
   "source": [
    "print(n / np.nansum(T))"
   ]
  },
  {
   "cell_type": "markdown",
   "metadata": {},
   "source": [
    "##### Best recovery corr matrix  "
   ]
  },
  {
   "cell_type": "code",
   "execution_count": null,
   "metadata": {},
   "outputs": [],
   "source": [
    "for line in best_matrix:\n",
    "    print(line)"
   ]
  },
  {
   "cell_type": "code",
   "execution_count": null,
   "metadata": {},
   "outputs": [],
   "source": [
    "for line in correspondence_matrix:\n",
    "    print(line)"
   ]
  },
  {
   "cell_type": "markdown",
   "metadata": {},
   "source": [
    "##### Multi-stage"
   ]
  },
  {
   "cell_type": "raw",
   "metadata": {},
   "source": [
    "Много итераций Синхорна по расчету корреспонденций, одна итерация унивесрального метода (тут ищутся кратчайшие пути и все такое - то есть это долго), потом снова много итераций Синхорна и снова одна итерация универсального метода и т.д."
   ]
  },
  {
   "cell_type": "code",
   "execution_count": null,
   "metadata": {},
   "outputs": [],
   "source": [
    "def matrix_to_dict(corr_matrix):\n",
    "    d = {}\n",
    "    list_of_dict = []\n",
    "    n = np.shape(corr_matrix)[0]\n",
    "    buf_l = []\n",
    "    buf_ind = []\n",
    "    for i in range(1, n + 1):\n",
    "        \n",
    "        for j in range(1, n + 1):\n",
    "            buf_ind.append(int(j))\n",
    "            buf_l.append(float(corr_matrix[i-1][j-1]))\n",
    "            \n",
    "        if i in d:\n",
    "            d[i].append(dict(zip(buf_ind, buf_l)))\n",
    "        else:\n",
    "            d[i] = dict(zip(buf_ind, buf_l))\n",
    "            \n",
    "        buf_ind = []\n",
    "        buf_l = []\n",
    "    \n",
    "#     print(list_of_dict)\n",
    "    return d"
   ]
  },
  {
   "cell_type": "code",
   "execution_count": null,
   "metadata": {},
   "outputs": [],
   "source": [
    "best_correcpondences_dict = matrix_to_dict(best_matrix)"
   ]
  },
  {
   "cell_type": "code",
   "execution_count": null,
   "metadata": {},
   "outputs": [],
   "source": [
    "model = md.Model(graph_data, best_correcpondences_dict, \n",
    "                 total_od_flow, mu = 0, rho = 0.15)"
   ]
  },
  {
   "cell_type": "code",
   "execution_count": null,
   "metadata": {},
   "outputs": [],
   "source": [
    "for i, eps_abs in enumerate(np.logspace(1,3,1)):\n",
    "    print(i, eps_abs)"
   ]
  },
  {
   "cell_type": "code",
   "execution_count": null,
   "metadata": {},
   "outputs": [],
   "source": [
    "max_iter = 10000\n",
    "\n",
    "for i, eps_abs in enumerate(np.logspace(1,3,1)):\n",
    "    \n",
    "    print('eps_abs =', eps_abs)\n",
    "    solver_kwargs = {'eps_abs': eps_abs,\n",
    "                     'max_iter': max_iter}\n",
    "    tic = time.time()\n",
    "    result = model.find_equilibrium(solver_name = 'ustf', \n",
    "                                    solver_kwargs = solver_kwargs, \n",
    "                                    verbose = False)"
   ]
  },
  {
   "cell_type": "code",
   "execution_count": null,
   "metadata": {},
   "outputs": [],
   "source": [
    "toc = time.time()\n",
    "print('Elapsed time: {:.0f} sec'.format(toc - tic))\n",
    "    \n",
    "print('Time ratio =', np.max(result\n",
    "                                ['times'] / graph_data['graph_table']\n",
    "                                ['Free Flow Time']))\n",
    "print('Flow excess =', np.max(result\n",
    "                                ['flows'] / graph_data['graph_table']\n",
    "                                ['Capacity']) - 1, end = '\\n\\n')"
   ]
  },
  {
   "cell_type": "code",
   "execution_count": null,
   "metadata": {},
   "outputs": [],
   "source": [
    "result['times']"
   ]
  },
  {
   "cell_type": "code",
   "execution_count": null,
   "metadata": {},
   "outputs": [],
   "source": []
  }
 ],
 "metadata": {
  "kernelspec": {
   "display_name": "Python 3",
   "language": "python",
   "name": "python3"
  },
  "language_info": {
   "codemirror_mode": {
    "name": "ipython",
    "version": 3
   },
   "file_extension": ".py",
   "mimetype": "text/x-python",
   "name": "python",
   "nbconvert_exporter": "python",
   "pygments_lexer": "ipython3",
   "version": "3.8.5"
  }
 },
 "nbformat": 4,
 "nbformat_minor": 2
}
