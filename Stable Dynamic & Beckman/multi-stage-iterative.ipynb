{
 "cells": [
  {
   "cell_type": "code",
   "execution_count": 1,
   "metadata": {},
   "outputs": [],
   "source": [
    "import warnings\n",
    "warnings.simplefilter(action='ignore', category=FutureWarning)\n",
    "\n",
    "import pandas as pd\n",
    "import numpy as np\n",
    "import matplotlib.pyplot as plt\n",
    "from matplotlib import rc\n",
    "import tensorflow as tf\n",
    "import tensorflow.distributions\n",
    "from tensorflow.distributions import Dirichlet, Multinomial\n",
    "from scipy.stats import entropy\n",
    "import matplotlib.pyplot as plt\n",
    "from mpl_toolkits.mplot3d import axes3d, Axes3D\n",
    "np.set_printoptions(suppress=True)\n",
    "\n",
    "import data_handler as dh\n",
    "import sinkhorn as skh\n",
    "import oracles as oracle\n",
    "import model as md\n",
    "import time\n",
    "import pickle"
   ]
  },
  {
   "cell_type": "code",
   "execution_count": 2,
   "metadata": {},
   "outputs": [
    {
     "data": {
      "text/plain": [
       "'1.18.2'"
      ]
     },
     "execution_count": 2,
     "metadata": {},
     "output_type": "execute_result"
    }
   ],
   "source": [
    "np.version.version"
   ]
  },
  {
   "cell_type": "raw",
   "metadata": {},
   "source": [
    "for i, eps_abs in enumerate(np.logspace(1,3,5)):\n",
    "    print(eps_abs)"
   ]
  },
  {
   "cell_type": "code",
   "execution_count": 3,
   "metadata": {},
   "outputs": [],
   "source": [
    "net_name = 'data/EMA_net.tntp'\n",
    "trips_name = 'data/EMA_trips.tntp'\n",
    "\n",
    "handler = dh.DataHandler()\n",
    "graph_data = handler.GetGraphData(net_name, columns_order = np.array([0, 1, 2, 3, 4]))\n",
    "# graph_data['graph_table']['Capacity'] = 2.5 * graph_data['graph_table']['Capacity']\n",
    "\n",
    "graph_correspondences, total_od_flow = handler.GetGraphCorrespondences(trips_name)\n",
    "\n",
    "graph_data['graph_table'].head()\n",
    "n = np.max(graph_data['graph_table']['Init node'].as_matrix())"
   ]
  },
  {
   "cell_type": "code",
   "execution_count": 4,
   "metadata": {},
   "outputs": [
    {
     "data": {
      "text/html": [
       "<div>\n",
       "<style scoped>\n",
       "    .dataframe tbody tr th:only-of-type {\n",
       "        vertical-align: middle;\n",
       "    }\n",
       "\n",
       "    .dataframe tbody tr th {\n",
       "        vertical-align: top;\n",
       "    }\n",
       "\n",
       "    .dataframe thead th {\n",
       "        text-align: right;\n",
       "    }\n",
       "</style>\n",
       "<table border=\"1\" class=\"dataframe\">\n",
       "  <thead>\n",
       "    <tr style=\"text-align: right;\">\n",
       "      <th></th>\n",
       "      <th>Init node</th>\n",
       "      <th>Term node</th>\n",
       "      <th>Capacity</th>\n",
       "      <th>length</th>\n",
       "      <th>Free Flow Time</th>\n",
       "    </tr>\n",
       "  </thead>\n",
       "  <tbody>\n",
       "    <tr>\n",
       "      <th>0</th>\n",
       "      <td>1</td>\n",
       "      <td>3</td>\n",
       "      <td>4938.061523</td>\n",
       "      <td>16.106817</td>\n",
       "      <td>0.238965</td>\n",
       "    </tr>\n",
       "    <tr>\n",
       "      <th>1</th>\n",
       "      <td>3</td>\n",
       "      <td>1</td>\n",
       "      <td>5254.128418</td>\n",
       "      <td>16.057131</td>\n",
       "      <td>0.240297</td>\n",
       "    </tr>\n",
       "    <tr>\n",
       "      <th>2</th>\n",
       "      <td>1</td>\n",
       "      <td>7</td>\n",
       "      <td>7309.824707</td>\n",
       "      <td>16.058741</td>\n",
       "      <td>0.222813</td>\n",
       "    </tr>\n",
       "    <tr>\n",
       "      <th>3</th>\n",
       "      <td>7</td>\n",
       "      <td>1</td>\n",
       "      <td>7388.626953</td>\n",
       "      <td>15.865263</td>\n",
       "      <td>0.218902</td>\n",
       "    </tr>\n",
       "    <tr>\n",
       "      <th>4</th>\n",
       "      <td>1</td>\n",
       "      <td>9</td>\n",
       "      <td>1164.374878</td>\n",
       "      <td>17.455400</td>\n",
       "      <td>0.402046</td>\n",
       "    </tr>\n",
       "  </tbody>\n",
       "</table>\n",
       "</div>"
      ],
      "text/plain": [
       "   Init node  Term node     Capacity     length  Free Flow Time\n",
       "0          1          3  4938.061523  16.106817        0.238965\n",
       "1          3          1  5254.128418  16.057131        0.240297\n",
       "2          1          7  7309.824707  16.058741        0.222813\n",
       "3          7          1  7388.626953  15.865263        0.218902\n",
       "4          1          9  1164.374878  17.455400        0.402046"
      ]
     },
     "execution_count": 4,
     "metadata": {},
     "output_type": "execute_result"
    }
   ],
   "source": [
    "graph_data['graph_table'].head()"
   ]
  },
  {
   "cell_type": "code",
   "execution_count": 5,
   "metadata": {},
   "outputs": [],
   "source": [
    "graph_data['graph_table']['Orig Free Flow Time'] = graph_data['graph_table']['Free Flow Time']"
   ]
  },
  {
   "cell_type": "code",
   "execution_count": 6,
   "metadata": {},
   "outputs": [
    {
     "data": {
      "text/html": [
       "<div>\n",
       "<style scoped>\n",
       "    .dataframe tbody tr th:only-of-type {\n",
       "        vertical-align: middle;\n",
       "    }\n",
       "\n",
       "    .dataframe tbody tr th {\n",
       "        vertical-align: top;\n",
       "    }\n",
       "\n",
       "    .dataframe thead th {\n",
       "        text-align: right;\n",
       "    }\n",
       "</style>\n",
       "<table border=\"1\" class=\"dataframe\">\n",
       "  <thead>\n",
       "    <tr style=\"text-align: right;\">\n",
       "      <th></th>\n",
       "      <th>Init node</th>\n",
       "      <th>Term node</th>\n",
       "      <th>Capacity</th>\n",
       "      <th>length</th>\n",
       "      <th>Free Flow Time</th>\n",
       "      <th>Orig Free Flow Time</th>\n",
       "    </tr>\n",
       "  </thead>\n",
       "  <tbody>\n",
       "    <tr>\n",
       "      <th>0</th>\n",
       "      <td>1</td>\n",
       "      <td>3</td>\n",
       "      <td>4938.061523</td>\n",
       "      <td>16.106817</td>\n",
       "      <td>0.238965</td>\n",
       "      <td>0.238965</td>\n",
       "    </tr>\n",
       "    <tr>\n",
       "      <th>2</th>\n",
       "      <td>1</td>\n",
       "      <td>7</td>\n",
       "      <td>7309.824707</td>\n",
       "      <td>16.058741</td>\n",
       "      <td>0.222813</td>\n",
       "      <td>0.222813</td>\n",
       "    </tr>\n",
       "    <tr>\n",
       "      <th>4</th>\n",
       "      <td>1</td>\n",
       "      <td>9</td>\n",
       "      <td>1164.374878</td>\n",
       "      <td>17.455400</td>\n",
       "      <td>0.402046</td>\n",
       "      <td>0.402046</td>\n",
       "    </tr>\n",
       "  </tbody>\n",
       "</table>\n",
       "</div>"
      ],
      "text/plain": [
       "   Init node  Term node     Capacity     length  Free Flow Time  \\\n",
       "0          1          3  4938.061523  16.106817        0.238965   \n",
       "2          1          7  7309.824707  16.058741        0.222813   \n",
       "4          1          9  1164.374878  17.455400        0.402046   \n",
       "\n",
       "   Orig Free Flow Time  \n",
       "0             0.238965  \n",
       "2             0.222813  \n",
       "4             0.402046  "
      ]
     },
     "execution_count": 6,
     "metadata": {},
     "output_type": "execute_result"
    }
   ],
   "source": [
    "df = graph_data['graph_table']\n",
    "df[df['Init node'] == 1].head()"
   ]
  },
  {
   "cell_type": "code",
   "execution_count": 17,
   "metadata": {},
   "outputs": [
    {
     "data": {
      "text/plain": [
       "(258, 6)"
      ]
     },
     "execution_count": 17,
     "metadata": {},
     "output_type": "execute_result"
    }
   ],
   "source": [
    "df.shape"
   ]
  },
  {
   "cell_type": "code",
   "execution_count": 16,
   "metadata": {},
   "outputs": [
    {
     "name": "stdout",
     "output_type": "stream",
     "text": [
      "people_num:  65576.37543100001\n"
     ]
    }
   ],
   "source": [
    "correspondence_matrix = handler.from_dict_to_cor_matr(graph_correspondences, n)\n",
    "# T = handler.create_C(df, n, column_name='Free Flow Time')\n",
    "# C = handler.create_C(df, n, column_name='length')\n",
    "\n",
    "T = handler.get_T_from_shortest_distances(n, graph_data)\n",
    "\n",
    "# np.savetxt('data/T.csv', T, delimiter=',')\n",
    "\n",
    "L = np.nansum(correspondence_matrix, axis=1)\n",
    "W = np.nansum(correspondence_matrix, axis=0)\n",
    "\n",
    "people_num = np.nansum(L)\n",
    "\n",
    "L = handler.distributor_L_W(L)\n",
    "W = handler.distributor_L_W(W)\n",
    "\n",
    "L = L / np.nansum(L)\n",
    "W = W / np.nansum(W)\n",
    "\n",
    "print('people_num: ', people_num)"
   ]
  },
  {
   "cell_type": "code",
   "execution_count": 12,
   "metadata": {},
   "outputs": [
    {
     "ename": "TypeError",
     "evalue": "'NoneType' object is not subscriptable",
     "output_type": "error",
     "traceback": [
      "\u001b[0;31m---------------------------------------------------------------------------\u001b[0m",
      "\u001b[0;31mTypeError\u001b[0m                                 Traceback (most recent call last)",
      "\u001b[0;32m<ipython-input-12-0c3aba2de445>\u001b[0m in \u001b[0;36m<module>\u001b[0;34m\u001b[0m\n\u001b[0;32m----> 1\u001b[0;31m \u001b[0mT\u001b[0m\u001b[0;34m[\u001b[0m\u001b[0;36m0\u001b[0m\u001b[0;34m]\u001b[0m\u001b[0;34m[\u001b[0m\u001b[0;36m6\u001b[0m\u001b[0;34m]\u001b[0m\u001b[0;34m\u001b[0m\u001b[0;34m\u001b[0m\u001b[0m\n\u001b[0m",
      "\u001b[0;31mTypeError\u001b[0m: 'NoneType' object is not subscriptable"
     ]
    }
   ],
   "source": [
    "T[0][6]"
   ]
  },
  {
   "cell_type": "markdown",
   "metadata": {},
   "source": [
    "##### Запускаем Синхорна-Универсальный"
   ]
  },
  {
   "cell_type": "raw",
   "metadata": {},
   "source": [
    "def count_alpha(i, T, T_prev, T_orig, alpha_prev, alpha_prev_prev):\n",
    "    alpha = None\n",
    "    C_star = np.nanmean(T_orig)\n",
    "    \n",
    "    if i == 0:\n",
    "        alpha = 1 / C_star\n",
    "        return alpha\n",
    "    \n",
    "    C_m = np.nanmean(T)\n",
    "    if i == 1:\n",
    "        alpha = (alpha_prev * C_m) / C_star\n",
    "        return alpha\n",
    "    \n",
    "    C_m_prev = np.nanmean(T_prev)\n",
    "    alpha = ( (C_star - C_m_prev) * alpha_prev + \n",
    "             (C_m - C_star) * alpha_prev_prev ) / (C_m - C_m_prev)\n",
    "    return alpha"
   ]
  },
  {
   "cell_type": "raw",
   "metadata": {},
   "source": [
    "T_orig = T\n",
    "T_prev = None\n",
    "T = None\n",
    "alpha_prev = None\n",
    "alpha_prev_prev = None\n",
    "buf = None\n",
    "\n",
    "for i in range(0, 10):\n",
    "    \n",
    "    T = T_orig + np.random.uniform(-10, 10, 1)\n",
    "    alpha = count_alpha(i, T, T_prev, T_orig, alpha_prev, alpha_prev_prev)\n",
    "    \n",
    "    print(alpha, alpha_prev, alpha_prev_prev)\n",
    "    \n",
    "    T_prev = T\n",
    "    buf = alpha_prev\n",
    "    alpha_prev = alpha\n",
    "    alpha_prev_prev = buf\n"
   ]
  },
  {
   "cell_type": "code",
   "execution_count": 47,
   "metadata": {
    "scrolled": true
   },
   "outputs": [
    {
     "name": "stdout",
     "output_type": "stream",
     "text": [
      "iter:  0\n",
      "Sinkhorn end, univ start \n",
      "\n",
      "rec - rec_prev:  \n",
      " 0.0\n",
      "eps_abs = 10.0\n",
      "T - T_prev:  0.0\n",
      "flows - flows_prev:  45532.9157412922\n",
      "iter:  1\n",
      "Sinkhorn end, univ start \n",
      "\n",
      "rec - rec_prev:  \n",
      " 0.0\n",
      "eps_abs = 10.0\n",
      "T - T_prev:  0.0\n",
      "flows - flows_prev:  1389.1092196525042\n",
      "iter:  2\n",
      "Sinkhorn end, univ start \n",
      "\n",
      "rec - rec_prev:  \n",
      " 0.0\n",
      "eps_abs = 10.0\n",
      "T - T_prev:  0.0\n",
      "flows - flows_prev:  1384.5007983110631\n",
      "iter:  3\n",
      "Sinkhorn end, univ start \n",
      "\n",
      "rec - rec_prev:  \n",
      " 0.0\n",
      "eps_abs = 10.0\n",
      "T - T_prev:  0.0\n",
      "flows - flows_prev:  730.9505383130726\n",
      "iter:  4\n",
      "Sinkhorn end, univ start \n",
      "\n",
      "rec - rec_prev:  \n",
      " 0.0\n",
      "eps_abs = 10.0\n",
      "T - T_prev:  0.0\n",
      "flows - flows_prev:  802.8802441197731\n"
     ]
    }
   ],
   "source": [
    "np.set_printoptions(formatter={'all':lambda x: str(x)})\n",
    "T_d = np.inf\n",
    "eps = 10**(-5)\n",
    "T_d_list = []\n",
    "result_history = []\n",
    "best_reconstruction_error_history = []\n",
    "multi_stage_i = 0\n",
    "\n",
    "T_orig = handler.get_T_from_shortest_distances(n, graph_data)\n",
    "T_prev = np.copy(T_orig)\n",
    "T = np.copy(T_orig)\n",
    "alpha = 2.5402 #None\n",
    "# alpha_prev = None\n",
    "# alpha_prev_prev = None\n",
    "# buf = None\n",
    "\n",
    "best_matrix = None\n",
    "min_reconstruction_error = np.inf\n",
    "rec_list = []\n",
    "# alpha_list = []\n",
    "time_ratio_list = []\n",
    "flow_excess_list = []\n",
    "\n",
    "num_iter = 2500  # for sink\n",
    "max_iter = 1000  # for univ\n",
    "rec = None\n",
    "rec_prev = np.zeros((n, n))\n",
    "\n",
    "flows = None\n",
    "flows_prev = np.zeros((df.shape[0]))\n",
    "flows_d = []\n",
    "\n",
    "while multi_stage_i < 5:\n",
    "#     print('iter of multi-stage num: ', multi_stage_i)\n",
    "    print('iter: ', multi_stage_i)\n",
    "    \n",
    "    s = skh.Sinkhorn(n, L, W, people_num, num_iter, eps)\n",
    "    \n",
    "#     alpha = count_alpha(multi_stage_i, T, T_prev, T_orig, alpha_prev, alpha_prev_prev)\n",
    "#     alpha_list.append(alpha)\n",
    "#     print(alpha, alpha_prev, alpha_prev_prev)\n",
    "    \n",
    "#     buf = alpha_prev\n",
    "#     alpha_prev = alpha\n",
    "#     alpha_prev_prev = buf\n",
    "    \n",
    "    if multi_stage_i == 0: \n",
    "        cost_matrix = np.nan_to_num( alpha * T_orig, nan=100)\n",
    "    else:\n",
    "        cost_matrix = np.nan_to_num( alpha * T, nan=100)\n",
    "    \n",
    "    rec = s.iterate(cost_matrix)\n",
    "    \n",
    "    er = np.linalg.norm(rec - np.nan_to_num(correspondence_matrix, nan=0.0))\n",
    "    er = np.sqrt(er / np.sum (np.nan_to_num(correspondence_matrix, nan=0.0)))\n",
    "    \n",
    "    print('Sinkhorn end, univ start \\n')\n",
    "    \n",
    "    \n",
    "    rec_list.append(np.linalg.norm(rec - rec_prev))\n",
    "    rec_prev = np.copy(rec)\n",
    "    print('rec - rec_prev: ', '\\n', np.linalg.norm(rec - rec_prev))\n",
    "\n",
    "    best_correcpondences_dict = handler.from_cor_matrix_to_dict(rec)\n",
    "\n",
    "    model = md.Model(graph_data, best_correcpondences_dict, \n",
    "                     total_od_flow, mu = 0.25, rho = 0.15) # B, for stable D mu=0.0\n",
    "    \n",
    "    for i, eps_abs in enumerate(np.logspace(1,3,1)):\n",
    "        \n",
    "        print('eps_abs =', eps_abs)\n",
    "        solver_kwargs = {'eps_abs': eps_abs,\n",
    "                         'max_iter': max_iter}\n",
    "        tic = time.time()\n",
    "        result = model.find_equilibrium(solver_name = 'ugd', \n",
    "                                        solver_kwargs = solver_kwargs, \n",
    "                                        verbose = False)\n",
    "        \n",
    "    toc = time.time()\n",
    "    \n",
    "    T_d = np.linalg.norm(np.linalg.norm(T - T_prev))\n",
    "    T_prev = T\n",
    "    T_d_list.append(T_d)\n",
    "    print('T - T_prev: ', np.linalg.norm(T - T_prev))\n",
    "\n",
    "    result_history.append(result)\n",
    "    \n",
    "    graph_data['graph_table']['Free Flow Time'] = result['times']\n",
    "    T = handler.get_T_from_shortest_distances(n, graph_data)\n",
    "    \n",
    "    flows = result['flows']\n",
    "    flows_d.append(np.linalg.norm(flows - flows_prev))\n",
    "    print('flows - flows_prev: ', np.linalg.norm(flows - flows_prev))\n",
    "    flows_prev = np.copy(flows)\n",
    "    \n",
    "    multi_stage_i += 1"
   ]
  },
  {
   "cell_type": "code",
   "execution_count": 54,
   "metadata": {},
   "outputs": [
    {
     "data": {
      "text/plain": [
       "[2178.5511648194015,\n",
       " 74.48652930583727,\n",
       " 63.241157818914004,\n",
       " 60.610239496183404,\n",
       " 60.51753697508754]"
      ]
     },
     "execution_count": 54,
     "metadata": {},
     "output_type": "execute_result"
    }
   ],
   "source": [
    "rec_list"
   ]
  },
  {
   "cell_type": "code",
   "execution_count": 55,
   "metadata": {},
   "outputs": [
    {
     "data": {
      "image/png": "[encoded data removed]",
      "text/plain": [
       "<Figure size 720x576 with 1 Axes>"
      ]
     },
     "metadata": {
      "needs_background": "light"
     },
     "output_type": "display_data"
    },
    {
     "data": {
      "image/png": "[encoded data removed]",
      "text/plain": [
       "<Figure size 432x288 with 1 Axes>"
      ]
     },
     "metadata": {
      "needs_background": "light"
     },
     "output_type": "display_data"
    }
   ],
   "source": [
    "fig = plt.figure(figsize=(10, 8))\n",
    "plt.figure(1)\n",
    "plt.subplot(211)\n",
    "plt.scatter(range(len(rec_list)), rec_list)\n",
    "plt.ylabel('corr - corr_prev')\n",
    "plt.xlabel('iteration num')\n",
    "# plt.ylim(0.09, 0.2)\n",
    "# plt.ylim(0, 0.0005)\n",
    "# fig.savefig('KEV_res/multistage_er.png')\n",
    "plt.figure(2)\n",
    "plt.subplot(212)\n",
    "plt.scatter(range(len(T_d_list)), T_d_list)\n",
    "plt.ylabel('T - T_prev')\n",
    "plt.xlabel('iteration num')\n",
    "# plt.ylim(0.0032, 0.0033)\n",
    "plt.show()"
   ]
  },
  {
   "cell_type": "code",
   "execution_count": 59,
   "metadata": {},
   "outputs": [
    {
     "data": {
      "text/plain": [
       "[45532.9157412922,\n",
       " 1389.1092196525042,\n",
       " 1384.5007983110631,\n",
       " 730.9505383130726,\n",
       " 802.8802441197731]"
      ]
     },
     "execution_count": 59,
     "metadata": {},
     "output_type": "execute_result"
    }
   ],
   "source": [
    "flows_d"
   ]
  },
  {
   "cell_type": "code",
   "execution_count": 60,
   "metadata": {},
   "outputs": [
    {
     "data": {
      "image/png": "[encoded data removed]",
      "text/plain": [
       "<Figure size 720x576 with 1 Axes>"
      ]
     },
     "metadata": {
      "needs_background": "light"
     },
     "output_type": "display_data"
    }
   ],
   "source": [
    "fig = plt.figure(figsize=(10, 8))\n",
    "plt.scatter(range(len(flows_d)), flows_d)\n",
    "plt.ylabel('Flows - Flows_prev')\n",
    "plt.xlabel('iteration num')\n",
    "plt.ylim(800, 1400)\n",
    "plt.show()\n",
    "# fig.savefig('KEV_res/sink_reconstruct_er.png')"
   ]
  },
  {
   "cell_type": "code",
   "execution_count": 52,
   "metadata": {},
   "outputs": [
    {
     "data": {
      "text/plain": [
       "[45532.9157412922,\n",
       " 1389.1092196525042,\n",
       " 1384.5007983110631,\n",
       " 730.9505383130726,\n",
       " 802.8802441197731]"
      ]
     },
     "execution_count": 52,
     "metadata": {},
     "output_type": "execute_result"
    }
   ],
   "source": [
    "flows_d"
   ]
  },
  {
   "cell_type": "code",
   "execution_count": null,
   "metadata": {},
   "outputs": [],
   "source": [
    "print(len(alpha_list), len(er_list))\n",
    "fig = plt.figure(figsize=(10, 8))\n",
    "plt.scatter(range(len(er_list)), er_list)\n",
    "plt.ylabel('reconstruction error')\n",
    "plt.xlabel('iteration num')\n",
    "plt.show()\n",
    "# fig.savefig('KEV_res/multi-stage-2-' + str(alpha) + \n",
    "#             'corr matrix reconstruction error' + '.png')"
   ]
  },
  {
   "cell_type": "raw",
   "metadata": {},
   "source": [
    "print(len(alpha_list), len(time_ratio_list) )\n",
    "fig = plt.figure(figsize=(10, 8))\n",
    "plt.scatter(range(len(time_ratio_list)), time_ratio_list)\n",
    "plt.ylabel('time_ratio')\n",
    "plt.xlabel('alpha')\n",
    "plt.show()\n",
    "# fig.savefig('KEV_res/multi-stage-2-' + str(alpha) + \n",
    "#             'time ratio' + '.png')"
   ]
  },
  {
   "cell_type": "raw",
   "metadata": {},
   "source": [
    "print(len(alpha_list), len(flow_excess_list) )\n",
    "fig = plt.figure(figsize=(10, 8))\n",
    "plt.scatter(alpha_list[:-1], flow_excess_list)\n",
    "plt.ylabel('flow_excess')\n",
    "plt.xlabel('alpha')\n",
    "plt.show()\n",
    "# fig.savefig('KEV_res/multi-stage-2-' + str(alpha) + \n",
    "#             'flow_excess' + '.png')"
   ]
  },
  {
   "cell_type": "raw",
   "metadata": {},
   "source": [
    "duality_gap_history = []\n",
    "for result in result_history:\n",
    "    duality_gap_history.append(result['duality_gap_history'][0])\n",
    "    \n",
    "print(len(alpha_list), len(duality_gap_history) )\n",
    "fig = plt.figure(figsize=(10, 8))\n",
    "plt.scatter(alpha_list[:-1], duality_gap_history)\n",
    "plt.ylabel('duality_gap_history')\n",
    "plt.xlabel('alpha')\n",
    "# plt.xlim(0, 10)\n",
    "plt.show()"
   ]
  },
  {
   "cell_type": "code",
   "execution_count": null,
   "metadata": {},
   "outputs": [],
   "source": []
  }
 ],
 "metadata": {
  "kernelspec": {
   "display_name": "Python 3",
   "language": "python",
   "name": "python3"
  },
  "language_info": {
   "codemirror_mode": {
    "name": "ipython",
    "version": 3
   },
   "file_extension": ".py",
   "mimetype": "text/x-python",
   "name": "python",
   "nbconvert_exporter": "python",
   "pygments_lexer": "ipython3",
   "version": "3.7.7"
  }
 },
 "nbformat": 4,
 "nbformat_minor": 2
}
